{
  "nbformat": 4,
  "nbformat_minor": 0,
  "metadata": {
    "colab": {
      "name": "als_revised",
      "version": "0.3.2",
      "provenance": [],
      "collapsed_sections": [],
      "include_colab_link": true
    },
    "kernelspec": {
      "name": "python3",
      "display_name": "Python 3"
    }
  },
  "cells": [
    {
      "cell_type": "markdown",
      "metadata": {
        "id": "view-in-github",
        "colab_type": "text"
      },
      "source": [
        "<a href=\"https://colab.research.google.com/github/lazysimon/NYCDSA_CapstoneProject/blob/master/als_revised1.ipynb\" target=\"_parent\"><img src=\"https://colab.research.google.com/assets/colab-badge.svg\" alt=\"Open In Colab\"/></a>"
      ]
    },
    {
      "cell_type": "markdown",
      "metadata": {
        "id": "pM0FixjmoMfL",
        "colab_type": "text"
      },
      "source": [
        "# Installing Spark (2.4.4) and findspark"
      ]
    },
    {
      "cell_type": "code",
      "metadata": {
        "id": "pVJr5vpb8j-r",
        "colab_type": "code",
        "outputId": "0cef9589-180c-4f72-c09f-a843ccfd7d39",
        "colab": {
          "base_uri": "https://localhost:8080/",
          "height": 1000
        }
      },
      "source": [
        "!apt-get install openjdk-8-jdk-headless -qq > /dev/null\n",
        "!wget -q http://mirror.its.dal.ca/apache/spark/spark-2.4.4/spark-2.4.4-bin-hadoop2.7.tgz\n",
        "!tar xvf spark-2.4.4-bin-hadoop2.7.tgz\n",
        "!pip install -q findspark"
      ],
      "execution_count": 1,
      "outputs": [
        {
          "output_type": "stream",
          "text": [
            "spark-2.4.4-bin-hadoop2.7/\n",
            "spark-2.4.4-bin-hadoop2.7/R/\n",
            "spark-2.4.4-bin-hadoop2.7/R/lib/\n",
            "spark-2.4.4-bin-hadoop2.7/R/lib/sparkr.zip\n",
            "spark-2.4.4-bin-hadoop2.7/R/lib/SparkR/\n",
            "spark-2.4.4-bin-hadoop2.7/R/lib/SparkR/INDEX\n",
            "spark-2.4.4-bin-hadoop2.7/R/lib/SparkR/html/\n",
            "spark-2.4.4-bin-hadoop2.7/R/lib/SparkR/html/R.css\n",
            "spark-2.4.4-bin-hadoop2.7/R/lib/SparkR/html/00Index.html\n",
            "spark-2.4.4-bin-hadoop2.7/R/lib/SparkR/help/\n",
            "spark-2.4.4-bin-hadoop2.7/R/lib/SparkR/help/aliases.rds\n",
            "spark-2.4.4-bin-hadoop2.7/R/lib/SparkR/help/AnIndex\n",
            "spark-2.4.4-bin-hadoop2.7/R/lib/SparkR/help/SparkR.rdx\n",
            "spark-2.4.4-bin-hadoop2.7/R/lib/SparkR/help/SparkR.rdb\n",
            "spark-2.4.4-bin-hadoop2.7/R/lib/SparkR/help/paths.rds\n",
            "spark-2.4.4-bin-hadoop2.7/R/lib/SparkR/worker/\n",
            "spark-2.4.4-bin-hadoop2.7/R/lib/SparkR/worker/worker.R\n",
            "spark-2.4.4-bin-hadoop2.7/R/lib/SparkR/worker/daemon.R\n",
            "spark-2.4.4-bin-hadoop2.7/R/lib/SparkR/tests/\n",
            "spark-2.4.4-bin-hadoop2.7/R/lib/SparkR/tests/testthat/\n",
            "spark-2.4.4-bin-hadoop2.7/R/lib/SparkR/tests/testthat/test_basic.R\n",
            "spark-2.4.4-bin-hadoop2.7/R/lib/SparkR/profile/\n",
            "spark-2.4.4-bin-hadoop2.7/R/lib/SparkR/profile/shell.R\n",
            "spark-2.4.4-bin-hadoop2.7/R/lib/SparkR/profile/general.R\n",
            "spark-2.4.4-bin-hadoop2.7/R/lib/SparkR/R/\n",
            "spark-2.4.4-bin-hadoop2.7/R/lib/SparkR/R/SparkR.rdx\n",
            "spark-2.4.4-bin-hadoop2.7/R/lib/SparkR/R/SparkR.rdb\n",
            "spark-2.4.4-bin-hadoop2.7/R/lib/SparkR/R/SparkR\n",
            "spark-2.4.4-bin-hadoop2.7/R/lib/SparkR/Meta/\n",
            "spark-2.4.4-bin-hadoop2.7/R/lib/SparkR/Meta/nsInfo.rds\n",
            "spark-2.4.4-bin-hadoop2.7/R/lib/SparkR/Meta/links.rds\n",
            "spark-2.4.4-bin-hadoop2.7/R/lib/SparkR/Meta/hsearch.rds\n",
            "spark-2.4.4-bin-hadoop2.7/R/lib/SparkR/Meta/Rd.rds\n",
            "spark-2.4.4-bin-hadoop2.7/R/lib/SparkR/Meta/features.rds\n",
            "spark-2.4.4-bin-hadoop2.7/R/lib/SparkR/Meta/package.rds\n",
            "spark-2.4.4-bin-hadoop2.7/R/lib/SparkR/DESCRIPTION\n",
            "spark-2.4.4-bin-hadoop2.7/R/lib/SparkR/NAMESPACE\n",
            "spark-2.4.4-bin-hadoop2.7/sbin/\n",
            "spark-2.4.4-bin-hadoop2.7/sbin/stop-shuffle-service.sh\n",
            "spark-2.4.4-bin-hadoop2.7/sbin/start-thriftserver.sh\n",
            "spark-2.4.4-bin-hadoop2.7/sbin/start-slave.sh\n",
            "spark-2.4.4-bin-hadoop2.7/sbin/start-shuffle-service.sh\n",
            "spark-2.4.4-bin-hadoop2.7/sbin/start-mesos-shuffle-service.sh\n",
            "spark-2.4.4-bin-hadoop2.7/sbin/start-master.sh\n",
            "spark-2.4.4-bin-hadoop2.7/sbin/start-history-server.sh\n",
            "spark-2.4.4-bin-hadoop2.7/sbin/spark-config.sh\n",
            "spark-2.4.4-bin-hadoop2.7/sbin/stop-thriftserver.sh\n",
            "spark-2.4.4-bin-hadoop2.7/sbin/stop-slaves.sh\n",
            "spark-2.4.4-bin-hadoop2.7/sbin/stop-slave.sh\n",
            "spark-2.4.4-bin-hadoop2.7/sbin/stop-mesos-shuffle-service.sh\n",
            "spark-2.4.4-bin-hadoop2.7/sbin/stop-mesos-dispatcher.sh\n",
            "spark-2.4.4-bin-hadoop2.7/sbin/stop-master.sh\n",
            "spark-2.4.4-bin-hadoop2.7/sbin/stop-history-server.sh\n",
            "spark-2.4.4-bin-hadoop2.7/sbin/stop-all.sh\n",
            "spark-2.4.4-bin-hadoop2.7/sbin/start-slaves.sh\n",
            "spark-2.4.4-bin-hadoop2.7/sbin/start-mesos-dispatcher.sh\n",
            "spark-2.4.4-bin-hadoop2.7/sbin/start-all.sh\n",
            "spark-2.4.4-bin-hadoop2.7/sbin/spark-daemons.sh\n",
            "spark-2.4.4-bin-hadoop2.7/sbin/spark-daemon.sh\n",
            "spark-2.4.4-bin-hadoop2.7/sbin/slaves.sh\n",
            "spark-2.4.4-bin-hadoop2.7/python/\n",
            "spark-2.4.4-bin-hadoop2.7/python/dist/\n",
            "spark-2.4.4-bin-hadoop2.7/python/pyspark.egg-info/\n",
            "spark-2.4.4-bin-hadoop2.7/python/pyspark.egg-info/SOURCES.txt\n",
            "spark-2.4.4-bin-hadoop2.7/python/pyspark.egg-info/dependency_links.txt\n",
            "spark-2.4.4-bin-hadoop2.7/python/pyspark.egg-info/top_level.txt\n",
            "spark-2.4.4-bin-hadoop2.7/python/pyspark.egg-info/PKG-INFO\n",
            "spark-2.4.4-bin-hadoop2.7/python/pyspark.egg-info/requires.txt\n",
            "spark-2.4.4-bin-hadoop2.7/python/README.md\n",
            "spark-2.4.4-bin-hadoop2.7/python/MANIFEST.in\n",
            "spark-2.4.4-bin-hadoop2.7/python/setup.py\n",
            "spark-2.4.4-bin-hadoop2.7/python/run-tests.py\n",
            "spark-2.4.4-bin-hadoop2.7/python/run-tests-with-coverage\n",
            "spark-2.4.4-bin-hadoop2.7/python/test_support/\n",
            "spark-2.4.4-bin-hadoop2.7/python/test_support/userlibrary.py\n",
            "spark-2.4.4-bin-hadoop2.7/python/test_support/userlib-0.1.zip\n",
            "spark-2.4.4-bin-hadoop2.7/python/test_support/sql/\n",
            "spark-2.4.4-bin-hadoop2.7/python/test_support/sql/text-test.txt\n",
            "spark-2.4.4-bin-hadoop2.7/python/test_support/sql/streaming/\n",
            "spark-2.4.4-bin-hadoop2.7/python/test_support/sql/streaming/text-test.txt\n",
            "spark-2.4.4-bin-hadoop2.7/python/test_support/sql/people_array_utf16le.json\n",
            "spark-2.4.4-bin-hadoop2.7/python/test_support/sql/people_array.json\n",
            "spark-2.4.4-bin-hadoop2.7/python/test_support/sql/people1.json\n",
            "spark-2.4.4-bin-hadoop2.7/python/test_support/sql/people.json\n",
            "spark-2.4.4-bin-hadoop2.7/python/test_support/sql/parquet_partitioned/\n",
            "spark-2.4.4-bin-hadoop2.7/python/test_support/sql/parquet_partitioned/year=2015/\n",
            "spark-2.4.4-bin-hadoop2.7/python/test_support/sql/parquet_partitioned/year=2015/month=9/\n",
            "spark-2.4.4-bin-hadoop2.7/python/test_support/sql/parquet_partitioned/year=2015/month=9/day=1/\n",
            "spark-2.4.4-bin-hadoop2.7/python/test_support/sql/parquet_partitioned/year=2015/month=9/day=1/part-r-00007.gz.parquet\n",
            "spark-2.4.4-bin-hadoop2.7/python/test_support/sql/parquet_partitioned/year=2015/month=9/day=1/.part-r-00007.gz.parquet.crc\n",
            "spark-2.4.4-bin-hadoop2.7/python/test_support/sql/parquet_partitioned/year=2015/month=10/\n",
            "spark-2.4.4-bin-hadoop2.7/python/test_support/sql/parquet_partitioned/year=2015/month=10/day=26/\n",
            "spark-2.4.4-bin-hadoop2.7/python/test_support/sql/parquet_partitioned/year=2015/month=10/day=26/part-r-00005.gz.parquet\n",
            "spark-2.4.4-bin-hadoop2.7/python/test_support/sql/parquet_partitioned/year=2015/month=10/day=26/.part-r-00005.gz.parquet.crc\n",
            "spark-2.4.4-bin-hadoop2.7/python/test_support/sql/parquet_partitioned/year=2015/month=10/day=25/\n",
            "spark-2.4.4-bin-hadoop2.7/python/test_support/sql/parquet_partitioned/year=2015/month=10/day=25/part-r-00004.gz.parquet\n",
            "spark-2.4.4-bin-hadoop2.7/python/test_support/sql/parquet_partitioned/year=2015/month=10/day=25/part-r-00002.gz.parquet\n",
            "spark-2.4.4-bin-hadoop2.7/python/test_support/sql/parquet_partitioned/year=2015/month=10/day=25/.part-r-00004.gz.parquet.crc\n",
            "spark-2.4.4-bin-hadoop2.7/python/test_support/sql/parquet_partitioned/year=2015/month=10/day=25/.part-r-00002.gz.parquet.crc\n",
            "spark-2.4.4-bin-hadoop2.7/python/test_support/sql/parquet_partitioned/year=2014/\n",
            "spark-2.4.4-bin-hadoop2.7/python/test_support/sql/parquet_partitioned/year=2014/month=9/\n",
            "spark-2.4.4-bin-hadoop2.7/python/test_support/sql/parquet_partitioned/year=2014/month=9/day=1/\n",
            "spark-2.4.4-bin-hadoop2.7/python/test_support/sql/parquet_partitioned/year=2014/month=9/day=1/part-r-00008.gz.parquet\n",
            "spark-2.4.4-bin-hadoop2.7/python/test_support/sql/parquet_partitioned/year=2014/month=9/day=1/.part-r-00008.gz.parquet.crc\n",
            "spark-2.4.4-bin-hadoop2.7/python/test_support/sql/parquet_partitioned/_metadata\n",
            "spark-2.4.4-bin-hadoop2.7/python/test_support/sql/parquet_partitioned/_common_metadata\n",
            "spark-2.4.4-bin-hadoop2.7/python/test_support/sql/parquet_partitioned/_SUCCESS\n",
            "spark-2.4.4-bin-hadoop2.7/python/test_support/sql/orc_partitioned/\n",
            "spark-2.4.4-bin-hadoop2.7/python/test_support/sql/orc_partitioned/b=1/\n",
            "spark-2.4.4-bin-hadoop2.7/python/test_support/sql/orc_partitioned/b=1/c=1/\n",
            "spark-2.4.4-bin-hadoop2.7/python/test_support/sql/orc_partitioned/b=1/c=1/part-r-00000-829af031-b970-49d6-ad39-30460a0be2c8.orc\n",
            "spark-2.4.4-bin-hadoop2.7/python/test_support/sql/orc_partitioned/b=1/c=1/.part-r-00000-829af031-b970-49d6-ad39-30460a0be2c8.orc.crc\n",
            "spark-2.4.4-bin-hadoop2.7/python/test_support/sql/orc_partitioned/b=0/\n",
            "spark-2.4.4-bin-hadoop2.7/python/test_support/sql/orc_partitioned/b=0/c=0/\n",
            "spark-2.4.4-bin-hadoop2.7/python/test_support/sql/orc_partitioned/b=0/c=0/part-r-00000-829af031-b970-49d6-ad39-30460a0be2c8.orc\n",
            "spark-2.4.4-bin-hadoop2.7/python/test_support/sql/orc_partitioned/b=0/c=0/.part-r-00000-829af031-b970-49d6-ad39-30460a0be2c8.orc.crc\n",
            "spark-2.4.4-bin-hadoop2.7/python/test_support/sql/orc_partitioned/_SUCCESS\n",
            "spark-2.4.4-bin-hadoop2.7/python/test_support/sql/ages_newlines.csv\n",
            "spark-2.4.4-bin-hadoop2.7/python/test_support/sql/ages.csv\n",
            "spark-2.4.4-bin-hadoop2.7/python/test_support/hello/\n",
            "spark-2.4.4-bin-hadoop2.7/python/test_support/hello/sub_hello/\n",
            "spark-2.4.4-bin-hadoop2.7/python/test_support/hello/sub_hello/sub_hello.txt\n",
            "spark-2.4.4-bin-hadoop2.7/python/test_support/hello/hello.txt\n",
            "spark-2.4.4-bin-hadoop2.7/python/test_support/SimpleHTTPServer.py\n",
            "spark-2.4.4-bin-hadoop2.7/python/test_coverage/\n",
            "spark-2.4.4-bin-hadoop2.7/python/test_coverage/sitecustomize.py\n",
            "spark-2.4.4-bin-hadoop2.7/python/test_coverage/coverage_daemon.py\n",
            "spark-2.4.4-bin-hadoop2.7/python/test_coverage/conf/\n",
            "spark-2.4.4-bin-hadoop2.7/python/test_coverage/conf/spark-defaults.conf\n",
            "spark-2.4.4-bin-hadoop2.7/python/setup.cfg\n",
            "spark-2.4.4-bin-hadoop2.7/python/run-tests\n",
            "spark-2.4.4-bin-hadoop2.7/python/pyspark/\n",
            "spark-2.4.4-bin-hadoop2.7/python/pyspark/python/\n",
            "spark-2.4.4-bin-hadoop2.7/python/pyspark/python/pyspark/\n",
            "spark-2.4.4-bin-hadoop2.7/python/pyspark/python/pyspark/shell.py\n",
            "spark-2.4.4-bin-hadoop2.7/python/pyspark/shuffle.py\n",
            "spark-2.4.4-bin-hadoop2.7/python/pyspark/serializers.py\n",
            "spark-2.4.4-bin-hadoop2.7/python/pyspark/rdd.py\n",
            "spark-2.4.4-bin-hadoop2.7/python/pyspark/profiler.py\n",
            "spark-2.4.4-bin-hadoop2.7/python/pyspark/java_gateway.py\n",
            "spark-2.4.4-bin-hadoop2.7/python/pyspark/files.py\n",
            "spark-2.4.4-bin-hadoop2.7/python/pyspark/daemon.py\n",
            "spark-2.4.4-bin-hadoop2.7/python/pyspark/context.py\n",
            "spark-2.4.4-bin-hadoop2.7/python/pyspark/conf.py\n",
            "spark-2.4.4-bin-hadoop2.7/python/pyspark/cloudpickle.py\n",
            "spark-2.4.4-bin-hadoop2.7/python/pyspark/broadcast.py\n",
            "spark-2.4.4-bin-hadoop2.7/python/pyspark/accumulators.py\n",
            "spark-2.4.4-bin-hadoop2.7/python/pyspark/__init__.py\n",
            "spark-2.4.4-bin-hadoop2.7/python/pyspark/worker.py\n",
            "spark-2.4.4-bin-hadoop2.7/python/pyspark/version.py\n",
            "spark-2.4.4-bin-hadoop2.7/python/pyspark/util.py\n",
            "spark-2.4.4-bin-hadoop2.7/python/pyspark/tests.py\n",
            "spark-2.4.4-bin-hadoop2.7/python/pyspark/test_serializers.py\n",
            "spark-2.4.4-bin-hadoop2.7/python/pyspark/test_broadcast.py\n",
            "spark-2.4.4-bin-hadoop2.7/python/pyspark/taskcontext.py\n",
            "spark-2.4.4-bin-hadoop2.7/python/pyspark/storagelevel.py\n",
            "spark-2.4.4-bin-hadoop2.7/python/pyspark/traceback_utils.py\n",
            "spark-2.4.4-bin-hadoop2.7/python/pyspark/streaming/\n",
            "spark-2.4.4-bin-hadoop2.7/python/pyspark/streaming/tests.py\n",
            "spark-2.4.4-bin-hadoop2.7/python/pyspark/streaming/kinesis.py\n",
            "spark-2.4.4-bin-hadoop2.7/python/pyspark/streaming/kafka.py\n",
            "spark-2.4.4-bin-hadoop2.7/python/pyspark/streaming/flume.py\n",
            "spark-2.4.4-bin-hadoop2.7/python/pyspark/streaming/dstream.py\n",
            "spark-2.4.4-bin-hadoop2.7/python/pyspark/streaming/context.py\n",
            "spark-2.4.4-bin-hadoop2.7/python/pyspark/streaming/util.py\n",
            "spark-2.4.4-bin-hadoop2.7/python/pyspark/streaming/listener.py\n",
            "spark-2.4.4-bin-hadoop2.7/python/pyspark/streaming/__init__.py\n",
            "spark-2.4.4-bin-hadoop2.7/python/pyspark/status.py\n",
            "spark-2.4.4-bin-hadoop2.7/python/pyspark/statcounter.py\n",
            "spark-2.4.4-bin-hadoop2.7/python/pyspark/sql/\n",
            "spark-2.4.4-bin-hadoop2.7/python/pyspark/sql/tests.py\n",
            "spark-2.4.4-bin-hadoop2.7/python/pyspark/sql/streaming.py\n",
            "spark-2.4.4-bin-hadoop2.7/python/pyspark/sql/session.py\n",
            "spark-2.4.4-bin-hadoop2.7/python/pyspark/sql/readwriter.py\n",
            "spark-2.4.4-bin-hadoop2.7/python/pyspark/sql/functions.py\n",
            "spark-2.4.4-bin-hadoop2.7/python/pyspark/sql/dataframe.py\n",
            "spark-2.4.4-bin-hadoop2.7/python/pyspark/sql/context.py\n",
            "spark-2.4.4-bin-hadoop2.7/python/pyspark/sql/window.py\n",
            "spark-2.4.4-bin-hadoop2.7/python/pyspark/sql/utils.py\n",
            "spark-2.4.4-bin-hadoop2.7/python/pyspark/sql/udf.py\n",
            "spark-2.4.4-bin-hadoop2.7/python/pyspark/sql/types.py\n",
            "spark-2.4.4-bin-hadoop2.7/python/pyspark/sql/group.py\n",
            "spark-2.4.4-bin-hadoop2.7/python/pyspark/sql/conf.py\n",
            "spark-2.4.4-bin-hadoop2.7/python/pyspark/sql/column.py\n",
            "spark-2.4.4-bin-hadoop2.7/python/pyspark/sql/catalog.py\n",
            "spark-2.4.4-bin-hadoop2.7/python/pyspark/sql/__init__.py\n",
            "spark-2.4.4-bin-hadoop2.7/python/pyspark/shell.py\n",
            "spark-2.4.4-bin-hadoop2.7/python/pyspark/resultiterable.py\n",
            "spark-2.4.4-bin-hadoop2.7/python/pyspark/rddsampler.py\n",
            "spark-2.4.4-bin-hadoop2.7/python/pyspark/mllib/\n",
            "spark-2.4.4-bin-hadoop2.7/python/pyspark/mllib/util.py\n",
            "spark-2.4.4-bin-hadoop2.7/python/pyspark/mllib/tree.py\n",
            "spark-2.4.4-bin-hadoop2.7/python/pyspark/mllib/tests.py\n",
            "spark-2.4.4-bin-hadoop2.7/python/pyspark/mllib/regression.py\n",
            "spark-2.4.4-bin-hadoop2.7/python/pyspark/mllib/recommendation.py\n",
            "spark-2.4.4-bin-hadoop2.7/python/pyspark/mllib/random.py\n",
            "spark-2.4.4-bin-hadoop2.7/python/pyspark/mllib/fpm.py\n",
            "spark-2.4.4-bin-hadoop2.7/python/pyspark/mllib/feature.py\n",
            "spark-2.4.4-bin-hadoop2.7/python/pyspark/mllib/evaluation.py\n",
            "spark-2.4.4-bin-hadoop2.7/python/pyspark/mllib/clustering.py\n",
            "spark-2.4.4-bin-hadoop2.7/python/pyspark/mllib/classification.py\n",
            "spark-2.4.4-bin-hadoop2.7/python/pyspark/mllib/stat/\n",
            "spark-2.4.4-bin-hadoop2.7/python/pyspark/mllib/stat/_statistics.py\n",
            "spark-2.4.4-bin-hadoop2.7/python/pyspark/mllib/stat/test.py\n",
            "spark-2.4.4-bin-hadoop2.7/python/pyspark/mllib/stat/distribution.py\n",
            "spark-2.4.4-bin-hadoop2.7/python/pyspark/mllib/stat/__init__.py\n",
            "spark-2.4.4-bin-hadoop2.7/python/pyspark/mllib/stat/KernelDensity.py\n",
            "spark-2.4.4-bin-hadoop2.7/python/pyspark/mllib/linalg/\n",
            "spark-2.4.4-bin-hadoop2.7/python/pyspark/mllib/linalg/distributed.py\n",
            "spark-2.4.4-bin-hadoop2.7/python/pyspark/mllib/linalg/__init__.py\n",
            "spark-2.4.4-bin-hadoop2.7/python/pyspark/mllib/common.py\n",
            "spark-2.4.4-bin-hadoop2.7/python/pyspark/mllib/__init__.py\n",
            "spark-2.4.4-bin-hadoop2.7/python/pyspark/ml/\n",
            "spark-2.4.4-bin-hadoop2.7/python/pyspark/ml/wrapper.py\n",
            "spark-2.4.4-bin-hadoop2.7/python/pyspark/ml/util.py\n",
            "spark-2.4.4-bin-hadoop2.7/python/pyspark/ml/tuning.py\n",
            "spark-2.4.4-bin-hadoop2.7/python/pyspark/ml/tests.py\n",
            "spark-2.4.4-bin-hadoop2.7/python/pyspark/ml/regression.py\n",
            "spark-2.4.4-bin-hadoop2.7/python/pyspark/ml/recommendation.py\n",
            "spark-2.4.4-bin-hadoop2.7/python/pyspark/ml/image.py\n",
            "spark-2.4.4-bin-hadoop2.7/python/pyspark/ml/fpm.py\n",
            "spark-2.4.4-bin-hadoop2.7/python/pyspark/ml/feature.py\n",
            "spark-2.4.4-bin-hadoop2.7/python/pyspark/ml/evaluation.py\n",
            "spark-2.4.4-bin-hadoop2.7/python/pyspark/ml/clustering.py\n",
            "spark-2.4.4-bin-hadoop2.7/python/pyspark/ml/classification.py\n",
            "spark-2.4.4-bin-hadoop2.7/python/pyspark/ml/stat.py\n",
            "spark-2.4.4-bin-hadoop2.7/python/pyspark/ml/pipeline.py\n",
            "spark-2.4.4-bin-hadoop2.7/python/pyspark/ml/param/\n",
            "spark-2.4.4-bin-hadoop2.7/python/pyspark/ml/param/shared.py\n",
            "spark-2.4.4-bin-hadoop2.7/python/pyspark/ml/param/_shared_params_code_gen.py\n",
            "spark-2.4.4-bin-hadoop2.7/python/pyspark/ml/param/__init__.py\n",
            "spark-2.4.4-bin-hadoop2.7/python/pyspark/ml/linalg/\n",
            "spark-2.4.4-bin-hadoop2.7/python/pyspark/ml/linalg/__init__.py\n",
            "spark-2.4.4-bin-hadoop2.7/python/pyspark/ml/common.py\n",
            "spark-2.4.4-bin-hadoop2.7/python/pyspark/ml/base.py\n",
            "spark-2.4.4-bin-hadoop2.7/python/pyspark/ml/__init__.py\n",
            "spark-2.4.4-bin-hadoop2.7/python/pyspark/join.py\n",
            "spark-2.4.4-bin-hadoop2.7/python/pyspark/heapq3.py\n",
            "spark-2.4.4-bin-hadoop2.7/python/pyspark/find_spark_home.py\n",
            "spark-2.4.4-bin-hadoop2.7/python/pyspark/_globals.py\n",
            "spark-2.4.4-bin-hadoop2.7/python/pylintrc\n",
            "spark-2.4.4-bin-hadoop2.7/python/lib/\n",
            "spark-2.4.4-bin-hadoop2.7/python/lib/pyspark.zip\n",
            "spark-2.4.4-bin-hadoop2.7/python/lib/py4j-0.10.7-src.zip\n",
            "spark-2.4.4-bin-hadoop2.7/python/lib/PY4J_LICENSE.txt\n",
            "spark-2.4.4-bin-hadoop2.7/python/docs/\n",
            "spark-2.4.4-bin-hadoop2.7/python/docs/pyspark.streaming.rst\n",
            "spark-2.4.4-bin-hadoop2.7/python/docs/pyspark.sql.rst\n",
            "spark-2.4.4-bin-hadoop2.7/python/docs/epytext.py\n",
            "spark-2.4.4-bin-hadoop2.7/python/docs/conf.py\n",
            "spark-2.4.4-bin-hadoop2.7/python/docs/Makefile\n",
            "spark-2.4.4-bin-hadoop2.7/python/docs/pyspark.rst\n",
            "spark-2.4.4-bin-hadoop2.7/python/docs/pyspark.mllib.rst\n",
            "spark-2.4.4-bin-hadoop2.7/python/docs/pyspark.ml.rst\n",
            "spark-2.4.4-bin-hadoop2.7/python/docs/make2.bat\n",
            "spark-2.4.4-bin-hadoop2.7/python/docs/make.bat\n",
            "spark-2.4.4-bin-hadoop2.7/python/docs/index.rst\n",
            "spark-2.4.4-bin-hadoop2.7/python/docs/_templates/\n",
            "spark-2.4.4-bin-hadoop2.7/python/docs/_templates/layout.html\n",
            "spark-2.4.4-bin-hadoop2.7/python/docs/_static/\n",
            "spark-2.4.4-bin-hadoop2.7/python/docs/_static/pyspark.js\n",
            "spark-2.4.4-bin-hadoop2.7/python/docs/_static/pyspark.css\n",
            "spark-2.4.4-bin-hadoop2.7/python/.gitignore\n",
            "spark-2.4.4-bin-hadoop2.7/python/.coveragerc\n",
            "spark-2.4.4-bin-hadoop2.7/bin/\n",
            "spark-2.4.4-bin-hadoop2.7/bin/spark-class\n",
            "spark-2.4.4-bin-hadoop2.7/bin/pyspark2.cmd\n",
            "spark-2.4.4-bin-hadoop2.7/bin/pyspark\n",
            "spark-2.4.4-bin-hadoop2.7/bin/load-spark-env.sh\n",
            "spark-2.4.4-bin-hadoop2.7/bin/load-spark-env.cmd\n",
            "spark-2.4.4-bin-hadoop2.7/bin/docker-image-tool.sh\n",
            "spark-2.4.4-bin-hadoop2.7/bin/sparkR2.cmd\n",
            "spark-2.4.4-bin-hadoop2.7/bin/sparkR.cmd\n",
            "spark-2.4.4-bin-hadoop2.7/bin/sparkR\n",
            "spark-2.4.4-bin-hadoop2.7/bin/spark-submit2.cmd\n",
            "spark-2.4.4-bin-hadoop2.7/bin/spark-submit.cmd\n",
            "spark-2.4.4-bin-hadoop2.7/bin/spark-submit\n",
            "spark-2.4.4-bin-hadoop2.7/bin/spark-sql2.cmd\n",
            "spark-2.4.4-bin-hadoop2.7/bin/spark-sql.cmd\n",
            "spark-2.4.4-bin-hadoop2.7/bin/spark-sql\n",
            "spark-2.4.4-bin-hadoop2.7/bin/spark-shell2.cmd\n",
            "spark-2.4.4-bin-hadoop2.7/bin/spark-shell.cmd\n",
            "spark-2.4.4-bin-hadoop2.7/bin/spark-shell\n",
            "spark-2.4.4-bin-hadoop2.7/bin/spark-class2.cmd\n",
            "spark-2.4.4-bin-hadoop2.7/bin/spark-class.cmd\n",
            "spark-2.4.4-bin-hadoop2.7/bin/run-example.cmd\n",
            "spark-2.4.4-bin-hadoop2.7/bin/run-example\n",
            "spark-2.4.4-bin-hadoop2.7/bin/pyspark.cmd\n",
            "spark-2.4.4-bin-hadoop2.7/bin/find-spark-home.cmd\n",
            "spark-2.4.4-bin-hadoop2.7/bin/find-spark-home\n",
            "spark-2.4.4-bin-hadoop2.7/bin/beeline.cmd\n",
            "spark-2.4.4-bin-hadoop2.7/bin/beeline\n",
            "spark-2.4.4-bin-hadoop2.7/README.md\n",
            "spark-2.4.4-bin-hadoop2.7/conf/\n",
            "spark-2.4.4-bin-hadoop2.7/conf/spark-env.sh.template\n",
            "spark-2.4.4-bin-hadoop2.7/conf/spark-defaults.conf.template\n",
            "spark-2.4.4-bin-hadoop2.7/conf/slaves.template\n",
            "spark-2.4.4-bin-hadoop2.7/conf/metrics.properties.template\n",
            "spark-2.4.4-bin-hadoop2.7/conf/log4j.properties.template\n",
            "spark-2.4.4-bin-hadoop2.7/conf/fairscheduler.xml.template\n",
            "spark-2.4.4-bin-hadoop2.7/conf/docker.properties.template\n",
            "spark-2.4.4-bin-hadoop2.7/data/\n",
            "spark-2.4.4-bin-hadoop2.7/data/mllib/\n",
            "spark-2.4.4-bin-hadoop2.7/data/mllib/gmm_data.txt\n",
            "spark-2.4.4-bin-hadoop2.7/data/mllib/als/\n",
            "spark-2.4.4-bin-hadoop2.7/data/mllib/als/test.data\n",
            "spark-2.4.4-bin-hadoop2.7/data/mllib/als/sample_movielens_ratings.txt\n",
            "spark-2.4.4-bin-hadoop2.7/data/mllib/streaming_kmeans_data_test.txt\n",
            "spark-2.4.4-bin-hadoop2.7/data/mllib/sample_svm_data.txt\n",
            "spark-2.4.4-bin-hadoop2.7/data/mllib/sample_multiclass_classification_data.txt\n",
            "spark-2.4.4-bin-hadoop2.7/data/mllib/sample_movielens_data.txt\n",
            "spark-2.4.4-bin-hadoop2.7/data/mllib/sample_linear_regression_data.txt\n",
            "spark-2.4.4-bin-hadoop2.7/data/mllib/sample_libsvm_data.txt\n",
            "spark-2.4.4-bin-hadoop2.7/data/mllib/sample_lda_libsvm_data.txt\n",
            "spark-2.4.4-bin-hadoop2.7/data/mllib/sample_lda_data.txt\n",
            "spark-2.4.4-bin-hadoop2.7/data/mllib/sample_kmeans_data.txt\n",
            "spark-2.4.4-bin-hadoop2.7/data/mllib/sample_isotonic_regression_libsvm_data.txt\n",
            "spark-2.4.4-bin-hadoop2.7/data/mllib/sample_fpgrowth.txt\n",
            "spark-2.4.4-bin-hadoop2.7/data/mllib/sample_binary_classification_data.txt\n",
            "spark-2.4.4-bin-hadoop2.7/data/mllib/ridge-data/\n",
            "spark-2.4.4-bin-hadoop2.7/data/mllib/ridge-data/lpsa.data\n",
            "spark-2.4.4-bin-hadoop2.7/data/mllib/pic_data.txt\n",
            "spark-2.4.4-bin-hadoop2.7/data/mllib/pagerank_data.txt\n",
            "spark-2.4.4-bin-hadoop2.7/data/mllib/kmeans_data.txt\n",
            "spark-2.4.4-bin-hadoop2.7/data/mllib/iris_libsvm.txt\n",
            "spark-2.4.4-bin-hadoop2.7/data/mllib/images/\n",
            "spark-2.4.4-bin-hadoop2.7/data/mllib/images/partitioned/\n",
            "spark-2.4.4-bin-hadoop2.7/data/mllib/images/partitioned/cls=multichannel/\n",
            "spark-2.4.4-bin-hadoop2.7/data/mllib/images/partitioned/cls=multichannel/date=2018-02/\n",
            "spark-2.4.4-bin-hadoop2.7/data/mllib/images/partitioned/cls=multichannel/date=2018-02/grayscale.jpg\n",
            "spark-2.4.4-bin-hadoop2.7/data/mllib/images/partitioned/cls=multichannel/date=2018-02/chr30.4.184.jpg\n",
            "spark-2.4.4-bin-hadoop2.7/data/mllib/images/partitioned/cls=multichannel/date=2018-01/\n",
            "spark-2.4.4-bin-hadoop2.7/data/mllib/images/partitioned/cls=multichannel/date=2018-01/BGRA_alpha_60.png\n",
            "spark-2.4.4-bin-hadoop2.7/data/mllib/images/partitioned/cls=multichannel/date=2018-01/BGRA.png\n",
            "spark-2.4.4-bin-hadoop2.7/data/mllib/images/partitioned/cls=kittens/\n",
            "spark-2.4.4-bin-hadoop2.7/data/mllib/images/partitioned/cls=kittens/date=2018-02/\n",
            "spark-2.4.4-bin-hadoop2.7/data/mllib/images/partitioned/cls=kittens/date=2018-02/DP802813.jpg\n",
            "spark-2.4.4-bin-hadoop2.7/data/mllib/images/partitioned/cls=kittens/date=2018-02/DP153539.jpg\n",
            "spark-2.4.4-bin-hadoop2.7/data/mllib/images/partitioned/cls=kittens/date=2018-02/54893.jpg\n",
            "spark-2.4.4-bin-hadoop2.7/data/mllib/images/partitioned/cls=kittens/date=2018-01/\n",
            "spark-2.4.4-bin-hadoop2.7/data/mllib/images/partitioned/cls=kittens/date=2018-01/not-image.txt\n",
            "spark-2.4.4-bin-hadoop2.7/data/mllib/images/partitioned/cls=kittens/date=2018-01/29.5.a_b_EGDP022204.jpg\n",
            "spark-2.4.4-bin-hadoop2.7/data/mllib/images/origin/\n",
            "spark-2.4.4-bin-hadoop2.7/data/mllib/images/origin/multi-channel/\n",
            "spark-2.4.4-bin-hadoop2.7/data/mllib/images/origin/multi-channel/grayscale.jpg\n",
            "spark-2.4.4-bin-hadoop2.7/data/mllib/images/origin/multi-channel/chr30.4.184.jpg\n",
            "spark-2.4.4-bin-hadoop2.7/data/mllib/images/origin/multi-channel/BGRA_alpha_60.png\n",
            "spark-2.4.4-bin-hadoop2.7/data/mllib/images/origin/multi-channel/BGRA.png\n",
            "spark-2.4.4-bin-hadoop2.7/data/mllib/images/origin/license.txt\n",
            "spark-2.4.4-bin-hadoop2.7/data/mllib/images/origin/kittens/\n",
            "spark-2.4.4-bin-hadoop2.7/data/mllib/images/origin/kittens/not-image.txt\n",
            "spark-2.4.4-bin-hadoop2.7/data/mllib/images/origin/kittens/DP802813.jpg\n",
            "spark-2.4.4-bin-hadoop2.7/data/mllib/images/origin/kittens/DP153539.jpg\n",
            "spark-2.4.4-bin-hadoop2.7/data/mllib/images/origin/kittens/54893.jpg\n",
            "spark-2.4.4-bin-hadoop2.7/data/mllib/images/origin/kittens/29.5.a_b_EGDP022204.jpg\n",
            "spark-2.4.4-bin-hadoop2.7/data/mllib/images/license.txt\n",
            "spark-2.4.4-bin-hadoop2.7/data/graphx/\n",
            "spark-2.4.4-bin-hadoop2.7/data/graphx/users.txt\n",
            "spark-2.4.4-bin-hadoop2.7/data/graphx/followers.txt\n",
            "spark-2.4.4-bin-hadoop2.7/data/streaming/\n",
            "spark-2.4.4-bin-hadoop2.7/data/streaming/AFINN-111.txt\n",
            "spark-2.4.4-bin-hadoop2.7/NOTICE\n",
            "spark-2.4.4-bin-hadoop2.7/licenses/\n",
            "spark-2.4.4-bin-hadoop2.7/licenses/LICENSE-jtransforms.html\n",
            "spark-2.4.4-bin-hadoop2.7/licenses/LICENSE-json-formatter.txt\n",
            "spark-2.4.4-bin-hadoop2.7/licenses/LICENSE-jquery.txt\n",
            "spark-2.4.4-bin-hadoop2.7/licenses/LICENSE-join.txt\n",
            "spark-2.4.4-bin-hadoop2.7/licenses/LICENSE-jodd.txt\n",
            "spark-2.4.4-bin-hadoop2.7/licenses/LICENSE-jline.txt\n",
            "spark-2.4.4-bin-hadoop2.7/licenses/LICENSE-javolution.txt\n",
            "spark-2.4.4-bin-hadoop2.7/licenses/LICENSE-javassist.html\n",
            "spark-2.4.4-bin-hadoop2.7/licenses/LICENSE-janino.txt\n",
            "spark-2.4.4-bin-hadoop2.7/licenses/LICENSE-heapq.txt\n",
            "spark-2.4.4-bin-hadoop2.7/licenses/LICENSE-graphlib-dot.txt\n",
            "spark-2.4.4-bin-hadoop2.7/licenses/LICENSE-f2j.txt\n",
            "spark-2.4.4-bin-hadoop2.7/licenses/LICENSE-datatables.txt\n",
            "spark-2.4.4-bin-hadoop2.7/licenses/LICENSE-dagre-d3.txt\n",
            "spark-2.4.4-bin-hadoop2.7/licenses/LICENSE-d3.min.js.txt\n",
            "spark-2.4.4-bin-hadoop2.7/licenses/LICENSE-cloudpickle.txt\n",
            "spark-2.4.4-bin-hadoop2.7/licenses/LICENSE-bootstrap.txt\n",
            "spark-2.4.4-bin-hadoop2.7/licenses/LICENSE-automaton.txt\n",
            "spark-2.4.4-bin-hadoop2.7/licenses/LICENSE-arpack.txt\n",
            "spark-2.4.4-bin-hadoop2.7/licenses/LICENSE-antlr.txt\n",
            "spark-2.4.4-bin-hadoop2.7/licenses/LICENSE-CC0.txt\n",
            "spark-2.4.4-bin-hadoop2.7/licenses/LICENSE-AnchorJS.txt\n",
            "spark-2.4.4-bin-hadoop2.7/licenses/LICENSE-zstd.txt\n",
            "spark-2.4.4-bin-hadoop2.7/licenses/LICENSE-zstd-jni.txt\n",
            "spark-2.4.4-bin-hadoop2.7/licenses/LICENSE-xmlenc.txt\n",
            "spark-2.4.4-bin-hadoop2.7/licenses/LICENSE-vis.txt\n",
            "spark-2.4.4-bin-hadoop2.7/licenses/LICENSE-spire.txt\n",
            "spark-2.4.4-bin-hadoop2.7/licenses/LICENSE-sorttable.js.txt\n",
            "spark-2.4.4-bin-hadoop2.7/licenses/LICENSE-slf4j.txt\n",
            "spark-2.4.4-bin-hadoop2.7/licenses/LICENSE-scopt.txt\n",
            "spark-2.4.4-bin-hadoop2.7/licenses/LICENSE-scala.txt\n",
            "spark-2.4.4-bin-hadoop2.7/licenses/LICENSE-sbt-launch-lib.txt\n",
            "spark-2.4.4-bin-hadoop2.7/licenses/LICENSE-respond.txt\n",
            "spark-2.4.4-bin-hadoop2.7/licenses/LICENSE-reflectasm.txt\n",
            "spark-2.4.4-bin-hadoop2.7/licenses/LICENSE-pyrolite.txt\n",
            "spark-2.4.4-bin-hadoop2.7/licenses/LICENSE-py4j.txt\n",
            "spark-2.4.4-bin-hadoop2.7/licenses/LICENSE-protobuf.txt\n",
            "spark-2.4.4-bin-hadoop2.7/licenses/LICENSE-pmml-model.txt\n",
            "spark-2.4.4-bin-hadoop2.7/licenses/LICENSE-paranamer.txt\n",
            "spark-2.4.4-bin-hadoop2.7/licenses/LICENSE-netlib.txt\n",
            "spark-2.4.4-bin-hadoop2.7/licenses/LICENSE-mustache.txt\n",
            "spark-2.4.4-bin-hadoop2.7/licenses/LICENSE-modernizr.txt\n",
            "spark-2.4.4-bin-hadoop2.7/licenses/LICENSE-minlog.txt\n",
            "spark-2.4.4-bin-hadoop2.7/licenses/LICENSE-matchMedia-polyfill.txt\n",
            "spark-2.4.4-bin-hadoop2.7/licenses/LICENSE-machinist.txt\n",
            "spark-2.4.4-bin-hadoop2.7/licenses/LICENSE-leveldbjni.txt\n",
            "spark-2.4.4-bin-hadoop2.7/licenses/LICENSE-kryo.txt\n",
            "spark-2.4.4-bin-hadoop2.7/LICENSE\n",
            "spark-2.4.4-bin-hadoop2.7/examples/\n",
            "spark-2.4.4-bin-hadoop2.7/examples/src/\n",
            "spark-2.4.4-bin-hadoop2.7/examples/src/main/\n",
            "spark-2.4.4-bin-hadoop2.7/examples/src/main/scala/\n",
            "spark-2.4.4-bin-hadoop2.7/examples/src/main/scala/org/\n",
            "spark-2.4.4-bin-hadoop2.7/examples/src/main/scala/org/apache/\n",
            "spark-2.4.4-bin-hadoop2.7/examples/src/main/scala/org/apache/spark/\n",
            "spark-2.4.4-bin-hadoop2.7/examples/src/main/scala/org/apache/spark/examples/\n",
            "spark-2.4.4-bin-hadoop2.7/examples/src/main/scala/org/apache/spark/examples/mllib/\n",
            "spark-2.4.4-bin-hadoop2.7/examples/src/main/scala/org/apache/spark/examples/mllib/ElementwiseProductExample.scala\n",
            "spark-2.4.4-bin-hadoop2.7/examples/src/main/scala/org/apache/spark/examples/mllib/DenseKMeans.scala\n",
            "spark-2.4.4-bin-hadoop2.7/examples/src/main/scala/org/apache/spark/examples/mllib/DecisionTreeRegressionExample.scala\n",
            "spark-2.4.4-bin-hadoop2.7/examples/src/main/scala/org/apache/spark/examples/mllib/DecisionTreeClassificationExample.scala\n",
            "spark-2.4.4-bin-hadoop2.7/examples/src/main/scala/org/apache/spark/examples/mllib/CosineSimilarity.scala\n",
            "spark-2.4.4-bin-hadoop2.7/examples/src/main/scala/org/apache/spark/examples/mllib/CorrelationsExample.scala\n",
            "spark-2.4.4-bin-hadoop2.7/examples/src/main/scala/org/apache/spark/examples/mllib/Correlations.scala\n",
            "spark-2.4.4-bin-hadoop2.7/examples/src/main/scala/org/apache/spark/examples/mllib/ChiSqSelectorExample.scala\n",
            "spark-2.4.4-bin-hadoop2.7/examples/src/main/scala/org/apache/spark/examples/mllib/BisectingKMeansExample.scala\n",
            "spark-2.4.4-bin-hadoop2.7/examples/src/main/scala/org/apache/spark/examples/mllib/BinaryClassificationMetricsExample.scala\n",
            "spark-2.4.4-bin-hadoop2.7/examples/src/main/scala/org/apache/spark/examples/mllib/AssociationRulesExample.scala\n",
            "spark-2.4.4-bin-hadoop2.7/examples/src/main/scala/org/apache/spark/examples/mllib/AbstractParams.scala\n",
            "spark-2.4.4-bin-hadoop2.7/examples/src/main/scala/org/apache/spark/examples/mllib/Word2VecExample.scala\n",
            "spark-2.4.4-bin-hadoop2.7/examples/src/main/scala/org/apache/spark/examples/mllib/TallSkinnySVD.scala\n",
            "spark-2.4.4-bin-hadoop2.7/examples/src/main/scala/org/apache/spark/examples/mllib/TallSkinnyPCA.scala\n",
            "spark-2.4.4-bin-hadoop2.7/examples/src/main/scala/org/apache/spark/examples/mllib/TFIDFExample.scala\n",
            "spark-2.4.4-bin-hadoop2.7/examples/src/main/scala/org/apache/spark/examples/mllib/SummaryStatisticsExample.scala\n",
            "spark-2.4.4-bin-hadoop2.7/examples/src/main/scala/org/apache/spark/examples/mllib/StreamingTestExample.scala\n",
            "spark-2.4.4-bin-hadoop2.7/examples/src/main/scala/org/apache/spark/examples/mllib/StreamingLogisticRegression.scala\n",
            "spark-2.4.4-bin-hadoop2.7/examples/src/main/scala/org/apache/spark/examples/mllib/StreamingLinearRegressionExample.scala\n",
            "spark-2.4.4-bin-hadoop2.7/examples/src/main/scala/org/apache/spark/examples/mllib/StreamingKMeansExample.scala\n",
            "spark-2.4.4-bin-hadoop2.7/examples/src/main/scala/org/apache/spark/examples/mllib/StratifiedSamplingExample.scala\n",
            "spark-2.4.4-bin-hadoop2.7/examples/src/main/scala/org/apache/spark/examples/mllib/StandardScalerExample.scala\n",
            "spark-2.4.4-bin-hadoop2.7/examples/src/main/scala/org/apache/spark/examples/mllib/SparseNaiveBayes.scala\n",
            "spark-2.4.4-bin-hadoop2.7/examples/src/main/scala/org/apache/spark/examples/mllib/SimpleFPGrowth.scala\n",
            "spark-2.4.4-bin-hadoop2.7/examples/src/main/scala/org/apache/spark/examples/mllib/SampledRDDs.scala\n",
            "spark-2.4.4-bin-hadoop2.7/examples/src/main/scala/org/apache/spark/examples/mllib/SVMWithSGDExample.scala\n",
            "spark-2.4.4-bin-hadoop2.7/examples/src/main/scala/org/apache/spark/examples/mllib/SVDExample.scala\n",
            "spark-2.4.4-bin-hadoop2.7/examples/src/main/scala/org/apache/spark/examples/mllib/RegressionMetricsExample.scala\n",
            "spark-2.4.4-bin-hadoop2.7/examples/src/main/scala/org/apache/spark/examples/mllib/RecommendationExample.scala\n",
            "spark-2.4.4-bin-hadoop2.7/examples/src/main/scala/org/apache/spark/examples/mllib/RandomRDDGeneration.scala\n",
            "spark-2.4.4-bin-hadoop2.7/examples/src/main/scala/org/apache/spark/examples/mllib/RandomForestRegressionExample.scala\n",
            "spark-2.4.4-bin-hadoop2.7/examples/src/main/scala/org/apache/spark/examples/mllib/RandomForestClassificationExample.scala\n",
            "spark-2.4.4-bin-hadoop2.7/examples/src/main/scala/org/apache/spark/examples/mllib/PrefixSpanExample.scala\n",
            "spark-2.4.4-bin-hadoop2.7/examples/src/main/scala/org/apache/spark/examples/mllib/PowerIterationClusteringExample.scala\n",
            "spark-2.4.4-bin-hadoop2.7/examples/src/main/scala/org/apache/spark/examples/mllib/PMMLModelExportExample.scala\n",
            "spark-2.4.4-bin-hadoop2.7/examples/src/main/scala/org/apache/spark/examples/mllib/PCAOnSourceVectorExample.scala\n",
            "spark-2.4.4-bin-hadoop2.7/examples/src/main/scala/org/apache/spark/examples/mllib/PCAOnRowMatrixExample.scala\n",
            "spark-2.4.4-bin-hadoop2.7/examples/src/main/scala/org/apache/spark/examples/mllib/PCAExample.scala\n",
            "spark-2.4.4-bin-hadoop2.7/examples/src/main/scala/org/apache/spark/examples/mllib/NormalizerExample.scala\n",
            "spark-2.4.4-bin-hadoop2.7/examples/src/main/scala/org/apache/spark/examples/mllib/NaiveBayesExample.scala\n",
            "spark-2.4.4-bin-hadoop2.7/examples/src/main/scala/org/apache/spark/examples/mllib/MultivariateSummarizer.scala\n",
            "spark-2.4.4-bin-hadoop2.7/examples/src/main/scala/org/apache/spark/examples/mllib/MulticlassMetricsExample.scala\n",
            "spark-2.4.4-bin-hadoop2.7/examples/src/main/scala/org/apache/spark/examples/mllib/MultiLabelMetricsExample.scala\n",
            "spark-2.4.4-bin-hadoop2.7/examples/src/main/scala/org/apache/spark/examples/mllib/LogisticRegressionWithLBFGSExample.scala\n",
            "spark-2.4.4-bin-hadoop2.7/examples/src/main/scala/org/apache/spark/examples/mllib/LinearRegressionWithSGDExample.scala\n",
            "spark-2.4.4-bin-hadoop2.7/examples/src/main/scala/org/apache/spark/examples/mllib/LatentDirichletAllocationExample.scala\n",
            "spark-2.4.4-bin-hadoop2.7/examples/src/main/scala/org/apache/spark/examples/mllib/LDAExample.scala\n",
            "spark-2.4.4-bin-hadoop2.7/examples/src/main/scala/org/apache/spark/examples/mllib/LBFGSExample.scala\n",
            "spark-2.4.4-bin-hadoop2.7/examples/src/main/scala/org/apache/spark/examples/mllib/KernelDensityEstimationExample.scala\n",
            "spark-2.4.4-bin-hadoop2.7/examples/src/main/scala/org/apache/spark/examples/mllib/KMeansExample.scala\n",
            "spark-2.4.4-bin-hadoop2.7/examples/src/main/scala/org/apache/spark/examples/mllib/IsotonicRegressionExample.scala\n",
            "spark-2.4.4-bin-hadoop2.7/examples/src/main/scala/org/apache/spark/examples/mllib/HypothesisTestingKolmogorovSmirnovTestExample.scala\n",
            "spark-2.4.4-bin-hadoop2.7/examples/src/main/scala/org/apache/spark/examples/mllib/HypothesisTestingExample.scala\n",
            "spark-2.4.4-bin-hadoop2.7/examples/src/main/scala/org/apache/spark/examples/mllib/GradientBoostingRegressionExample.scala\n",
            "spark-2.4.4-bin-hadoop2.7/examples/src/main/scala/org/apache/spark/examples/mllib/GradientBoostingClassificationExample.scala\n",
            "spark-2.4.4-bin-hadoop2.7/examples/src/main/scala/org/apache/spark/examples/mllib/GaussianMixtureExample.scala\n",
            "spark-2.4.4-bin-hadoop2.7/examples/src/main/scala/org/apache/spark/examples/mllib/FPGrowthExample.scala\n",
            "spark-2.4.4-bin-hadoop2.7/examples/src/main/scala/org/apache/spark/examples/mllib/RankingMetricsExample.scala\n",
            "spark-2.4.4-bin-hadoop2.7/examples/src/main/scala/org/apache/spark/examples/mllib/MovieLensALS.scala\n",
            "spark-2.4.4-bin-hadoop2.7/examples/src/main/scala/org/apache/spark/examples/mllib/LinearRegression.scala\n",
            "spark-2.4.4-bin-hadoop2.7/examples/src/main/scala/org/apache/spark/examples/mllib/GradientBoostedTreesRunner.scala\n",
            "spark-2.4.4-bin-hadoop2.7/examples/src/main/scala/org/apache/spark/examples/mllib/DecisionTreeRunner.scala\n",
            "spark-2.4.4-bin-hadoop2.7/examples/src/main/scala/org/apache/spark/examples/mllib/BinaryClassification.scala\n",
            "spark-2.4.4-bin-hadoop2.7/examples/src/main/scala/org/apache/spark/examples/ml/\n",
            "spark-2.4.4-bin-hadoop2.7/examples/src/main/scala/org/apache/spark/examples/ml/Word2VecExample.scala\n",
            "spark-2.4.4-bin-hadoop2.7/examples/src/main/scala/org/apache/spark/examples/ml/VectorSlicerExample.scala\n",
            "spark-2.4.4-bin-hadoop2.7/examples/src/main/scala/org/apache/spark/examples/ml/VectorSizeHintExample.scala\n",
            "spark-2.4.4-bin-hadoop2.7/examples/src/main/scala/org/apache/spark/examples/ml/VectorIndexerExample.scala\n",
            "spark-2.4.4-bin-hadoop2.7/examples/src/main/scala/org/apache/spark/examples/ml/VectorAssemblerExample.scala\n",
            "spark-2.4.4-bin-hadoop2.7/examples/src/main/scala/org/apache/spark/examples/ml/UnaryTransformerExample.scala\n",
            "spark-2.4.4-bin-hadoop2.7/examples/src/main/scala/org/apache/spark/examples/ml/TokenizerExample.scala\n",
            "spark-2.4.4-bin-hadoop2.7/examples/src/main/scala/org/apache/spark/examples/ml/TfIdfExample.scala\n",
            "spark-2.4.4-bin-hadoop2.7/examples/src/main/scala/org/apache/spark/examples/ml/SummarizerExample.scala\n",
            "spark-2.4.4-bin-hadoop2.7/examples/src/main/scala/org/apache/spark/examples/ml/StringIndexerExample.scala\n",
            "spark-2.4.4-bin-hadoop2.7/examples/src/main/scala/org/apache/spark/examples/ml/StopWordsRemoverExample.scala\n",
            "spark-2.4.4-bin-hadoop2.7/examples/src/main/scala/org/apache/spark/examples/ml/StandardScalerExample.scala\n",
            "spark-2.4.4-bin-hadoop2.7/examples/src/main/scala/org/apache/spark/examples/ml/SQLTransformerExample.scala\n",
            "spark-2.4.4-bin-hadoop2.7/examples/src/main/scala/org/apache/spark/examples/ml/RandomForestRegressorExample.scala\n",
            "spark-2.4.4-bin-hadoop2.7/examples/src/main/scala/org/apache/spark/examples/ml/RandomForestExample.scala\n",
            "spark-2.4.4-bin-hadoop2.7/examples/src/main/scala/org/apache/spark/examples/ml/RFormulaExample.scala\n",
            "spark-2.4.4-bin-hadoop2.7/examples/src/main/scala/org/apache/spark/examples/ml/QuantileDiscretizerExample.scala\n",
            "spark-2.4.4-bin-hadoop2.7/examples/src/main/scala/org/apache/spark/examples/ml/PowerIterationClusteringExample.scala\n",
            "spark-2.4.4-bin-hadoop2.7/examples/src/main/scala/org/apache/spark/examples/ml/PolynomialExpansionExample.scala\n",
            "spark-2.4.4-bin-hadoop2.7/examples/src/main/scala/org/apache/spark/examples/ml/PipelineExample.scala\n",
            "spark-2.4.4-bin-hadoop2.7/examples/src/main/scala/org/apache/spark/examples/ml/PCAExample.scala\n",
            "spark-2.4.4-bin-hadoop2.7/examples/src/main/scala/org/apache/spark/examples/ml/OneVsRestExample.scala\n",
            "spark-2.4.4-bin-hadoop2.7/examples/src/main/scala/org/apache/spark/examples/ml/NormalizerExample.scala\n",
            "spark-2.4.4-bin-hadoop2.7/examples/src/main/scala/org/apache/spark/examples/ml/NaiveBayesExample.scala\n",
            "spark-2.4.4-bin-hadoop2.7/examples/src/main/scala/org/apache/spark/examples/ml/NGramExample.scala\n",
            "spark-2.4.4-bin-hadoop2.7/examples/src/main/scala/org/apache/spark/examples/ml/MultilayerPerceptronClassifierExample.scala\n",
            "spark-2.4.4-bin-hadoop2.7/examples/src/main/scala/org/apache/spark/examples/ml/MulticlassLogisticRegressionWithElasticNetExample.scala\n",
            "spark-2.4.4-bin-hadoop2.7/examples/src/main/scala/org/apache/spark/examples/ml/ModelSelectionViaTrainValidationSplitExample.scala\n",
            "spark-2.4.4-bin-hadoop2.7/examples/src/main/scala/org/apache/spark/examples/ml/ModelSelectionViaCrossValidationExample.scala\n",
            "spark-2.4.4-bin-hadoop2.7/examples/src/main/scala/org/apache/spark/examples/ml/MinMaxScalerExample.scala\n",
            "spark-2.4.4-bin-hadoop2.7/examples/src/main/scala/org/apache/spark/examples/ml/MinHashLSHExample.scala\n",
            "spark-2.4.4-bin-hadoop2.7/examples/src/main/scala/org/apache/spark/examples/ml/MaxAbsScalerExample.scala\n",
            "spark-2.4.4-bin-hadoop2.7/examples/src/main/scala/org/apache/spark/examples/ml/LogisticRegressionWithElasticNetExample.scala\n",
            "spark-2.4.4-bin-hadoop2.7/examples/src/main/scala/org/apache/spark/examples/ml/LogisticRegressionSummaryExample.scala\n",
            "spark-2.4.4-bin-hadoop2.7/examples/src/main/scala/org/apache/spark/examples/ml/LogisticRegressionExample.scala\n",
            "spark-2.4.4-bin-hadoop2.7/examples/src/main/scala/org/apache/spark/examples/ml/LinearSVCExample.scala\n",
            "spark-2.4.4-bin-hadoop2.7/examples/src/main/scala/org/apache/spark/examples/ml/LinearRegressionWithElasticNetExample.scala\n",
            "spark-2.4.4-bin-hadoop2.7/examples/src/main/scala/org/apache/spark/examples/ml/LinearRegressionExample.scala\n",
            "spark-2.4.4-bin-hadoop2.7/examples/src/main/scala/org/apache/spark/examples/ml/LDAExample.scala\n",
            "spark-2.4.4-bin-hadoop2.7/examples/src/main/scala/org/apache/spark/examples/ml/KMeansExample.scala\n",
            "spark-2.4.4-bin-hadoop2.7/examples/src/main/scala/org/apache/spark/examples/ml/IsotonicRegressionExample.scala\n",
            "spark-2.4.4-bin-hadoop2.7/examples/src/main/scala/org/apache/spark/examples/ml/InteractionExample.scala\n",
            "spark-2.4.4-bin-hadoop2.7/examples/src/main/scala/org/apache/spark/examples/ml/IndexToStringExample.scala\n",
            "spark-2.4.4-bin-hadoop2.7/examples/src/main/scala/org/apache/spark/examples/ml/ImputerExample.scala\n",
            "spark-2.4.4-bin-hadoop2.7/examples/src/main/scala/org/apache/spark/examples/ml/GradientBoostedTreeRegressorExample.scala\n",
            "spark-2.4.4-bin-hadoop2.7/examples/src/main/scala/org/apache/spark/examples/ml/GeneralizedLinearRegressionExample.scala\n",
            "spark-2.4.4-bin-hadoop2.7/examples/src/main/scala/org/apache/spark/examples/ml/GaussianMixtureExample.scala\n",
            "spark-2.4.4-bin-hadoop2.7/examples/src/main/scala/org/apache/spark/examples/ml/GBTExample.scala\n",
            "spark-2.4.4-bin-hadoop2.7/examples/src/main/scala/org/apache/spark/examples/ml/FeatureHasherExample.scala\n",
            "spark-2.4.4-bin-hadoop2.7/examples/src/main/scala/org/apache/spark/examples/ml/EstimatorTransformerParamExample.scala\n",
            "spark-2.4.4-bin-hadoop2.7/examples/src/main/scala/org/apache/spark/examples/ml/ElementwiseProductExample.scala\n",
            "spark-2.4.4-bin-hadoop2.7/examples/src/main/scala/org/apache/spark/examples/ml/DeveloperApiExample.scala\n",
            "spark-2.4.4-bin-hadoop2.7/examples/src/main/scala/org/apache/spark/examples/ml/DecisionTreeRegressionExample.scala\n",
            "spark-2.4.4-bin-hadoop2.7/examples/src/main/scala/org/apache/spark/examples/ml/DecisionTreeExample.scala\n",
            "spark-2.4.4-bin-hadoop2.7/examples/src/main/scala/org/apache/spark/examples/ml/DataFrameExample.scala\n",
            "spark-2.4.4-bin-hadoop2.7/examples/src/main/scala/org/apache/spark/examples/ml/DCTExample.scala\n",
            "spark-2.4.4-bin-hadoop2.7/examples/src/main/scala/org/apache/spark/examples/ml/CountVectorizerExample.scala\n",
            "spark-2.4.4-bin-hadoop2.7/examples/src/main/scala/org/apache/spark/examples/ml/CorrelationExample.scala\n",
            "spark-2.4.4-bin-hadoop2.7/examples/src/main/scala/org/apache/spark/examples/ml/ChiSquareTestExample.scala\n",
            "spark-2.4.4-bin-hadoop2.7/examples/src/main/scala/org/apache/spark/examples/ml/ChiSqSelectorExample.scala\n",
            "spark-2.4.4-bin-hadoop2.7/examples/src/main/scala/org/apache/spark/examples/ml/BucketizerExample.scala\n",
            "spark-2.4.4-bin-hadoop2.7/examples/src/main/scala/org/apache/spark/examples/ml/BucketedRandomProjectionLSHExample.scala\n",
            "spark-2.4.4-bin-hadoop2.7/examples/src/main/scala/org/apache/spark/examples/ml/BinarizerExample.scala\n",
            "spark-2.4.4-bin-hadoop2.7/examples/src/main/scala/org/apache/spark/examples/ml/ALSExample.scala\n",
            "spark-2.4.4-bin-hadoop2.7/examples/src/main/scala/org/apache/spark/examples/ml/AFTSurvivalRegressionExample.scala\n",
            "spark-2.4.4-bin-hadoop2.7/examples/src/main/scala/org/apache/spark/examples/ml/RandomForestClassifierExample.scala\n",
            "spark-2.4.4-bin-hadoop2.7/examples/src/main/scala/org/apache/spark/examples/ml/PrefixSpanExample.scala\n",
            "spark-2.4.4-bin-hadoop2.7/examples/src/main/scala/org/apache/spark/examples/ml/OneHotEncoderEstimatorExample.scala\n",
            "spark-2.4.4-bin-hadoop2.7/examples/src/main/scala/org/apache/spark/examples/ml/GradientBoostedTreeClassifierExample.scala\n",
            "spark-2.4.4-bin-hadoop2.7/examples/src/main/scala/org/apache/spark/examples/ml/FPGrowthExample.scala\n",
            "spark-2.4.4-bin-hadoop2.7/examples/src/main/scala/org/apache/spark/examples/ml/DecisionTreeClassificationExample.scala\n",
            "spark-2.4.4-bin-hadoop2.7/examples/src/main/scala/org/apache/spark/examples/ml/BisectingKMeansExample.scala\n",
            "spark-2.4.4-bin-hadoop2.7/examples/src/main/scala/org/apache/spark/examples/graphx/\n",
            "spark-2.4.4-bin-hadoop2.7/examples/src/main/scala/org/apache/spark/examples/graphx/TriangleCountingExample.scala\n",
            "spark-2.4.4-bin-hadoop2.7/examples/src/main/scala/org/apache/spark/examples/graphx/SynthBenchmark.scala\n",
            "spark-2.4.4-bin-hadoop2.7/examples/src/main/scala/org/apache/spark/examples/graphx/SSSPExample.scala\n",
            "spark-2.4.4-bin-hadoop2.7/examples/src/main/scala/org/apache/spark/examples/graphx/PageRankExample.scala\n",
            "spark-2.4.4-bin-hadoop2.7/examples/src/main/scala/org/apache/spark/examples/graphx/LiveJournalPageRank.scala\n",
            "spark-2.4.4-bin-hadoop2.7/examples/src/main/scala/org/apache/spark/examples/graphx/ConnectedComponentsExample.scala\n",
            "spark-2.4.4-bin-hadoop2.7/examples/src/main/scala/org/apache/spark/examples/graphx/ComprehensiveExample.scala\n",
            "spark-2.4.4-bin-hadoop2.7/examples/src/main/scala/org/apache/spark/examples/graphx/Analytics.scala\n",
            "spark-2.4.4-bin-hadoop2.7/examples/src/main/scala/org/apache/spark/examples/graphx/AggregateMessagesExample.scala\n",
            "spark-2.4.4-bin-hadoop2.7/examples/src/main/scala/org/apache/spark/examples/SparkTC.scala\n",
            "spark-2.4.4-bin-hadoop2.7/examples/src/main/scala/org/apache/spark/examples/SparkRemoteFileTest.scala\n",
            "spark-2.4.4-bin-hadoop2.7/examples/src/main/scala/org/apache/spark/examples/SparkPi.scala\n",
            "spark-2.4.4-bin-hadoop2.7/examples/src/main/scala/org/apache/spark/examples/SparkPageRank.scala\n",
            "spark-2.4.4-bin-hadoop2.7/examples/src/main/scala/org/apache/spark/examples/SparkLR.scala\n",
            "spark-2.4.4-bin-hadoop2.7/examples/src/main/scala/org/apache/spark/examples/SparkKMeans.scala\n",
            "spark-2.4.4-bin-hadoop2.7/examples/src/main/scala/org/apache/spark/examples/SparkHdfsLR.scala\n",
            "spark-2.4.4-bin-hadoop2.7/examples/src/main/scala/org/apache/spark/examples/SparkALS.scala\n",
            "spark-2.4.4-bin-hadoop2.7/examples/src/main/scala/org/apache/spark/examples/SkewedGroupByTest.scala\n",
            "spark-2.4.4-bin-hadoop2.7/examples/src/main/scala/org/apache/spark/examples/SimpleSkewedGroupByTest.scala\n",
            "spark-2.4.4-bin-hadoop2.7/examples/src/main/scala/org/apache/spark/examples/MultiBroadcastTest.scala\n",
            "spark-2.4.4-bin-hadoop2.7/examples/src/main/scala/org/apache/spark/examples/LocalPi.scala\n",
            "spark-2.4.4-bin-hadoop2.7/examples/src/main/scala/org/apache/spark/examples/LocalLR.scala\n",
            "spark-2.4.4-bin-hadoop2.7/examples/src/main/scala/org/apache/spark/examples/LocalKMeans.scala\n",
            "spark-2.4.4-bin-hadoop2.7/examples/src/main/scala/org/apache/spark/examples/LocalFileLR.scala\n",
            "spark-2.4.4-bin-hadoop2.7/examples/src/main/scala/org/apache/spark/examples/LocalALS.scala\n",
            "spark-2.4.4-bin-hadoop2.7/examples/src/main/scala/org/apache/spark/examples/GroupByTest.scala\n",
            "spark-2.4.4-bin-hadoop2.7/examples/src/main/scala/org/apache/spark/examples/ExceptionHandlingTest.scala\n",
            "spark-2.4.4-bin-hadoop2.7/examples/src/main/scala/org/apache/spark/examples/DriverSubmissionTest.scala\n",
            "spark-2.4.4-bin-hadoop2.7/examples/src/main/scala/org/apache/spark/examples/BroadcastTest.scala\n",
            "spark-2.4.4-bin-hadoop2.7/examples/src/main/scala/org/apache/spark/examples/streaming/\n",
            "spark-2.4.4-bin-hadoop2.7/examples/src/main/scala/org/apache/spark/examples/streaming/clickstream/\n",
            "spark-2.4.4-bin-hadoop2.7/examples/src/main/scala/org/apache/spark/examples/streaming/clickstream/PageViewStream.scala\n",
            "spark-2.4.4-bin-hadoop2.7/examples/src/main/scala/org/apache/spark/examples/streaming/clickstream/PageViewGenerator.scala\n",
            "spark-2.4.4-bin-hadoop2.7/examples/src/main/scala/org/apache/spark/examples/streaming/StreamingExamples.scala\n",
            "spark-2.4.4-bin-hadoop2.7/examples/src/main/scala/org/apache/spark/examples/streaming/StatefulNetworkWordCount.scala\n",
            "spark-2.4.4-bin-hadoop2.7/examples/src/main/scala/org/apache/spark/examples/streaming/SqlNetworkWordCount.scala\n",
            "spark-2.4.4-bin-hadoop2.7/examples/src/main/scala/org/apache/spark/examples/streaming/RecoverableNetworkWordCount.scala\n",
            "spark-2.4.4-bin-hadoop2.7/examples/src/main/scala/org/apache/spark/examples/streaming/RawNetworkGrep.scala\n",
            "spark-2.4.4-bin-hadoop2.7/examples/src/main/scala/org/apache/spark/examples/streaming/QueueStream.scala\n",
            "spark-2.4.4-bin-hadoop2.7/examples/src/main/scala/org/apache/spark/examples/streaming/NetworkWordCount.scala\n",
            "spark-2.4.4-bin-hadoop2.7/examples/src/main/scala/org/apache/spark/examples/streaming/HdfsWordCount.scala\n",
            "spark-2.4.4-bin-hadoop2.7/examples/src/main/scala/org/apache/spark/examples/streaming/DirectKafkaWordCount.scala\n",
            "spark-2.4.4-bin-hadoop2.7/examples/src/main/scala/org/apache/spark/examples/streaming/CustomReceiver.scala\n",
            "spark-2.4.4-bin-hadoop2.7/examples/src/main/scala/org/apache/spark/examples/sql/\n",
            "spark-2.4.4-bin-hadoop2.7/examples/src/main/scala/org/apache/spark/examples/sql/streaming/\n",
            "spark-2.4.4-bin-hadoop2.7/examples/src/main/scala/org/apache/spark/examples/sql/streaming/StructuredSessionization.scala\n",
            "spark-2.4.4-bin-hadoop2.7/examples/src/main/scala/org/apache/spark/examples/sql/streaming/StructuredNetworkWordCountWindowed.scala\n",
            "spark-2.4.4-bin-hadoop2.7/examples/src/main/scala/org/apache/spark/examples/sql/streaming/StructuredNetworkWordCount.scala\n",
            "spark-2.4.4-bin-hadoop2.7/examples/src/main/scala/org/apache/spark/examples/sql/streaming/StructuredKafkaWordCount.scala\n",
            "spark-2.4.4-bin-hadoop2.7/examples/src/main/scala/org/apache/spark/examples/sql/hive/\n",
            "spark-2.4.4-bin-hadoop2.7/examples/src/main/scala/org/apache/spark/examples/sql/hive/SparkHiveExample.scala\n",
            "spark-2.4.4-bin-hadoop2.7/examples/src/main/scala/org/apache/spark/examples/sql/UserDefinedUntypedAggregation.scala\n",
            "spark-2.4.4-bin-hadoop2.7/examples/src/main/scala/org/apache/spark/examples/sql/UserDefinedTypedAggregation.scala\n",
            "spark-2.4.4-bin-hadoop2.7/examples/src/main/scala/org/apache/spark/examples/sql/RDDRelation.scala\n",
            "spark-2.4.4-bin-hadoop2.7/examples/src/main/scala/org/apache/spark/examples/sql/SparkSQLExample.scala\n",
            "spark-2.4.4-bin-hadoop2.7/examples/src/main/scala/org/apache/spark/examples/sql/SQLDataSourceExample.scala\n",
            "spark-2.4.4-bin-hadoop2.7/examples/src/main/scala/org/apache/spark/examples/pythonconverters/\n",
            "spark-2.4.4-bin-hadoop2.7/examples/src/main/scala/org/apache/spark/examples/pythonconverters/AvroConverters.scala\n",
            "spark-2.4.4-bin-hadoop2.7/examples/src/main/scala/org/apache/spark/examples/LogQuery.scala\n",
            "spark-2.4.4-bin-hadoop2.7/examples/src/main/scala/org/apache/spark/examples/HdfsTest.scala\n",
            "spark-2.4.4-bin-hadoop2.7/examples/src/main/scala/org/apache/spark/examples/DFSReadWriteTest.scala\n",
            "spark-2.4.4-bin-hadoop2.7/examples/src/main/resources/\n",
            "spark-2.4.4-bin-hadoop2.7/examples/src/main/resources/users.parquet\n",
            "spark-2.4.4-bin-hadoop2.7/examples/src/main/resources/users.orc\n",
            "spark-2.4.4-bin-hadoop2.7/examples/src/main/resources/users.avro\n",
            "spark-2.4.4-bin-hadoop2.7/examples/src/main/resources/user.avsc\n",
            "spark-2.4.4-bin-hadoop2.7/examples/src/main/resources/people.txt\n",
            "spark-2.4.4-bin-hadoop2.7/examples/src/main/resources/people.json\n",
            "spark-2.4.4-bin-hadoop2.7/examples/src/main/resources/people.csv\n",
            "spark-2.4.4-bin-hadoop2.7/examples/src/main/resources/kv1.txt\n",
            "spark-2.4.4-bin-hadoop2.7/examples/src/main/resources/full_user.avsc\n",
            "spark-2.4.4-bin-hadoop2.7/examples/src/main/resources/employees.json\n",
            "spark-2.4.4-bin-hadoop2.7/examples/src/main/r/\n",
            "spark-2.4.4-bin-hadoop2.7/examples/src/main/r/streaming/\n",
            "spark-2.4.4-bin-hadoop2.7/examples/src/main/r/streaming/structured_network_wordcount.R\n",
            "spark-2.4.4-bin-hadoop2.7/examples/src/main/r/ml/\n",
            "spark-2.4.4-bin-hadoop2.7/examples/src/main/r/ml/svmLinear.R\n",
            "spark-2.4.4-bin-hadoop2.7/examples/src/main/r/ml/survreg.R\n",
            "spark-2.4.4-bin-hadoop2.7/examples/src/main/r/ml/randomForest.R\n",
            "spark-2.4.4-bin-hadoop2.7/examples/src/main/r/ml/naiveBayes.R\n",
            "spark-2.4.4-bin-hadoop2.7/examples/src/main/r/ml/mlp.R\n",
            "spark-2.4.4-bin-hadoop2.7/examples/src/main/r/ml/ml.R\n",
            "spark-2.4.4-bin-hadoop2.7/examples/src/main/r/ml/logit.R\n",
            "spark-2.4.4-bin-hadoop2.7/examples/src/main/r/ml/lda.R\n",
            "spark-2.4.4-bin-hadoop2.7/examples/src/main/r/ml/kstest.R\n",
            "spark-2.4.4-bin-hadoop2.7/examples/src/main/r/ml/kmeans.R\n",
            "spark-2.4.4-bin-hadoop2.7/examples/src/main/r/ml/isoreg.R\n",
            "spark-2.4.4-bin-hadoop2.7/examples/src/main/r/ml/glm.R\n",
            "spark-2.4.4-bin-hadoop2.7/examples/src/main/r/ml/gbt.R\n",
            "spark-2.4.4-bin-hadoop2.7/examples/src/main/r/ml/gaussianMixture.R\n",
            "spark-2.4.4-bin-hadoop2.7/examples/src/main/r/ml/fpm.R\n",
            "spark-2.4.4-bin-hadoop2.7/examples/src/main/r/ml/decisionTree.R\n",
            "spark-2.4.4-bin-hadoop2.7/examples/src/main/r/ml/bisectingKmeans.R\n",
            "spark-2.4.4-bin-hadoop2.7/examples/src/main/r/ml/als.R\n",
            "spark-2.4.4-bin-hadoop2.7/examples/src/main/r/dataframe.R\n",
            "spark-2.4.4-bin-hadoop2.7/examples/src/main/r/data-manipulation.R\n",
            "spark-2.4.4-bin-hadoop2.7/examples/src/main/r/RSparkSQLExample.R\n",
            "spark-2.4.4-bin-hadoop2.7/examples/src/main/python/\n",
            "spark-2.4.4-bin-hadoop2.7/examples/src/main/python/wordcount.py\n",
            "spark-2.4.4-bin-hadoop2.7/examples/src/main/python/transitive_closure.py\n",
            "spark-2.4.4-bin-hadoop2.7/examples/src/main/python/streaming/\n",
            "spark-2.4.4-bin-hadoop2.7/examples/src/main/python/streaming/stateful_network_wordcount.py\n",
            "spark-2.4.4-bin-hadoop2.7/examples/src/main/python/streaming/sql_network_wordcount.py\n",
            "spark-2.4.4-bin-hadoop2.7/examples/src/main/python/streaming/queue_stream.py\n",
            "spark-2.4.4-bin-hadoop2.7/examples/src/main/python/streaming/network_wordjoinsentiments.py\n",
            "spark-2.4.4-bin-hadoop2.7/examples/src/main/python/streaming/network_wordcount.py\n",
            "spark-2.4.4-bin-hadoop2.7/examples/src/main/python/streaming/hdfs_wordcount.py\n",
            "spark-2.4.4-bin-hadoop2.7/examples/src/main/python/streaming/recoverable_network_wordcount.py\n",
            "spark-2.4.4-bin-hadoop2.7/examples/src/main/python/streaming/kafka_wordcount.py\n",
            "spark-2.4.4-bin-hadoop2.7/examples/src/main/python/streaming/flume_wordcount.py\n",
            "spark-2.4.4-bin-hadoop2.7/examples/src/main/python/streaming/direct_kafka_wordcount.py\n",
            "spark-2.4.4-bin-hadoop2.7/examples/src/main/python/status_api_demo.py\n",
            "spark-2.4.4-bin-hadoop2.7/examples/src/main/python/sql/\n",
            "spark-2.4.4-bin-hadoop2.7/examples/src/main/python/sql/streaming/\n",
            "spark-2.4.4-bin-hadoop2.7/examples/src/main/python/sql/streaming/structured_network_wordcount_windowed.py\n",
            "spark-2.4.4-bin-hadoop2.7/examples/src/main/python/sql/streaming/structured_network_wordcount.py\n",
            "spark-2.4.4-bin-hadoop2.7/examples/src/main/python/sql/streaming/structured_kafka_wordcount.py\n",
            "spark-2.4.4-bin-hadoop2.7/examples/src/main/python/sql/basic.py\n",
            "spark-2.4.4-bin-hadoop2.7/examples/src/main/python/sql/hive.py\n",
            "spark-2.4.4-bin-hadoop2.7/examples/src/main/python/sql/datasource.py\n",
            "spark-2.4.4-bin-hadoop2.7/examples/src/main/python/sql/arrow.py\n",
            "spark-2.4.4-bin-hadoop2.7/examples/src/main/python/sort.py\n",
            "spark-2.4.4-bin-hadoop2.7/examples/src/main/python/pi.py\n",
            "spark-2.4.4-bin-hadoop2.7/examples/src/main/python/parquet_inputformat.py\n",
            "spark-2.4.4-bin-hadoop2.7/examples/src/main/python/pagerank.py\n",
            "spark-2.4.4-bin-hadoop2.7/examples/src/main/python/mllib/\n",
            "spark-2.4.4-bin-hadoop2.7/examples/src/main/python/mllib/word2vec_example.py\n",
            "spark-2.4.4-bin-hadoop2.7/examples/src/main/python/mllib/word2vec.py\n",
            "spark-2.4.4-bin-hadoop2.7/examples/src/main/python/mllib/tf_idf_example.py\n",
            "spark-2.4.4-bin-hadoop2.7/examples/src/main/python/mllib/svm_with_sgd_example.py\n",
            "spark-2.4.4-bin-hadoop2.7/examples/src/main/python/mllib/svd_example.py\n",
            "spark-2.4.4-bin-hadoop2.7/examples/src/main/python/mllib/summary_statistics_example.py\n",
            "spark-2.4.4-bin-hadoop2.7/examples/src/main/python/mllib/streaming_linear_regression_example.py\n",
            "spark-2.4.4-bin-hadoop2.7/examples/src/main/python/mllib/streaming_k_means_example.py\n",
            "spark-2.4.4-bin-hadoop2.7/examples/src/main/python/mllib/stratified_sampling_example.py\n",
            "spark-2.4.4-bin-hadoop2.7/examples/src/main/python/mllib/sampled_rdds.py\n",
            "spark-2.4.4-bin-hadoop2.7/examples/src/main/python/mllib/regression_metrics_example.py\n",
            "spark-2.4.4-bin-hadoop2.7/examples/src/main/python/mllib/recommendation_example.py\n",
            "spark-2.4.4-bin-hadoop2.7/examples/src/main/python/mllib/random_rdd_generation.py\n",
            "spark-2.4.4-bin-hadoop2.7/examples/src/main/python/mllib/random_forest_regression_example.py\n",
            "spark-2.4.4-bin-hadoop2.7/examples/src/main/python/mllib/random_forest_classification_example.py\n",
            "spark-2.4.4-bin-hadoop2.7/examples/src/main/python/mllib/power_iteration_clustering_example.py\n",
            "spark-2.4.4-bin-hadoop2.7/examples/src/main/python/mllib/pca_rowmatrix_example.py\n",
            "spark-2.4.4-bin-hadoop2.7/examples/src/main/python/mllib/normalizer_example.py\n",
            "spark-2.4.4-bin-hadoop2.7/examples/src/main/python/mllib/naive_bayes_example.py\n",
            "spark-2.4.4-bin-hadoop2.7/examples/src/main/python/mllib/multi_label_metrics_example.py\n",
            "spark-2.4.4-bin-hadoop2.7/examples/src/main/python/mllib/logistic_regression_with_lbfgs_example.py\n",
            "spark-2.4.4-bin-hadoop2.7/examples/src/main/python/mllib/logistic_regression.py\n",
            "spark-2.4.4-bin-hadoop2.7/examples/src/main/python/mllib/linear_regression_with_sgd_example.py\n",
            "spark-2.4.4-bin-hadoop2.7/examples/src/main/python/mllib/latent_dirichlet_allocation_example.py\n",
            "spark-2.4.4-bin-hadoop2.7/examples/src/main/python/mllib/kmeans.py\n",
            "spark-2.4.4-bin-hadoop2.7/examples/src/main/python/mllib/kernel_density_estimation_example.py\n",
            "spark-2.4.4-bin-hadoop2.7/examples/src/main/python/mllib/k_means_example.py\n",
            "spark-2.4.4-bin-hadoop2.7/examples/src/main/python/mllib/hypothesis_testing_kolmogorov_smirnov_test_example.py\n",
            "spark-2.4.4-bin-hadoop2.7/examples/src/main/python/mllib/hypothesis_testing_example.py\n",
            "spark-2.4.4-bin-hadoop2.7/examples/src/main/python/mllib/gradient_boosting_regression_example.py\n",
            "spark-2.4.4-bin-hadoop2.7/examples/src/main/python/mllib/gradient_boosting_classification_example.py\n",
            "spark-2.4.4-bin-hadoop2.7/examples/src/main/python/mllib/gaussian_mixture_model.py\n",
            "spark-2.4.4-bin-hadoop2.7/examples/src/main/python/mllib/gaussian_mixture_example.py\n",
            "spark-2.4.4-bin-hadoop2.7/examples/src/main/python/mllib/fpgrowth_example.py\n",
            "spark-2.4.4-bin-hadoop2.7/examples/src/main/python/mllib/elementwise_product_example.py\n",
            "spark-2.4.4-bin-hadoop2.7/examples/src/main/python/mllib/decision_tree_regression_example.py\n",
            "spark-2.4.4-bin-hadoop2.7/examples/src/main/python/mllib/decision_tree_classification_example.py\n",
            "spark-2.4.4-bin-hadoop2.7/examples/src/main/python/mllib/correlations_example.py\n",
            "spark-2.4.4-bin-hadoop2.7/examples/src/main/python/mllib/correlations.py\n",
            "spark-2.4.4-bin-hadoop2.7/examples/src/main/python/mllib/binary_classification_metrics_example.py\n",
            "spark-2.4.4-bin-hadoop2.7/examples/src/main/python/mllib/standard_scaler_example.py\n",
            "spark-2.4.4-bin-hadoop2.7/examples/src/main/python/mllib/ranking_metrics_example.py\n",
            "spark-2.4.4-bin-hadoop2.7/examples/src/main/python/mllib/multi_class_metrics_example.py\n",
            "spark-2.4.4-bin-hadoop2.7/examples/src/main/python/mllib/isotonic_regression_example.py\n",
            "spark-2.4.4-bin-hadoop2.7/examples/src/main/python/mllib/bisecting_k_means_example.py\n",
            "spark-2.4.4-bin-hadoop2.7/examples/src/main/python/ml/\n",
            "spark-2.4.4-bin-hadoop2.7/examples/src/main/python/ml/word2vec_example.py\n",
            "spark-2.4.4-bin-hadoop2.7/examples/src/main/python/ml/vector_slicer_example.py\n",
            "spark-2.4.4-bin-hadoop2.7/examples/src/main/python/ml/vector_size_hint_example.py\n",
            "spark-2.4.4-bin-hadoop2.7/examples/src/main/python/ml/vector_indexer_example.py\n",
            "spark-2.4.4-bin-hadoop2.7/examples/src/main/python/ml/vector_assembler_example.py\n",
            "spark-2.4.4-bin-hadoop2.7/examples/src/main/python/ml/train_validation_split.py\n",
            "spark-2.4.4-bin-hadoop2.7/examples/src/main/python/ml/tokenizer_example.py\n",
            "spark-2.4.4-bin-hadoop2.7/examples/src/main/python/ml/tf_idf_example.py\n",
            "spark-2.4.4-bin-hadoop2.7/examples/src/main/python/ml/summarizer_example.py\n",
            "spark-2.4.4-bin-hadoop2.7/examples/src/main/python/ml/string_indexer_example.py\n",
            "spark-2.4.4-bin-hadoop2.7/examples/src/main/python/ml/stopwords_remover_example.py\n",
            "spark-2.4.4-bin-hadoop2.7/examples/src/main/python/ml/standard_scaler_example.py\n",
            "spark-2.4.4-bin-hadoop2.7/examples/src/main/python/ml/sql_transformer.py\n",
            "spark-2.4.4-bin-hadoop2.7/examples/src/main/python/ml/rformula_example.py\n",
            "spark-2.4.4-bin-hadoop2.7/examples/src/main/python/ml/random_forest_regressor_example.py\n",
            "spark-2.4.4-bin-hadoop2.7/examples/src/main/python/ml/random_forest_classifier_example.py\n",
            "spark-2.4.4-bin-hadoop2.7/examples/src/main/python/ml/quantile_discretizer_example.py\n",
            "spark-2.4.4-bin-hadoop2.7/examples/src/main/python/ml/prefixspan_example.py\n",
            "spark-2.4.4-bin-hadoop2.7/examples/src/main/python/ml/polynomial_expansion_example.py\n",
            "spark-2.4.4-bin-hadoop2.7/examples/src/main/python/ml/pipeline_example.py\n",
            "spark-2.4.4-bin-hadoop2.7/examples/src/main/python/ml/pca_example.py\n",
            "spark-2.4.4-bin-hadoop2.7/examples/src/main/python/ml/one_vs_rest_example.py\n",
            "spark-2.4.4-bin-hadoop2.7/examples/src/main/python/ml/normalizer_example.py\n",
            "spark-2.4.4-bin-hadoop2.7/examples/src/main/python/ml/naive_bayes_example.py\n",
            "spark-2.4.4-bin-hadoop2.7/examples/src/main/python/ml/n_gram_example.py\n",
            "spark-2.4.4-bin-hadoop2.7/examples/src/main/python/ml/multilayer_perceptron_classification.py\n",
            "spark-2.4.4-bin-hadoop2.7/examples/src/main/python/ml/multiclass_logistic_regression_with_elastic_net.py\n",
            "spark-2.4.4-bin-hadoop2.7/examples/src/main/python/ml/min_max_scaler_example.py\n",
            "spark-2.4.4-bin-hadoop2.7/examples/src/main/python/ml/min_hash_lsh_example.py\n",
            "spark-2.4.4-bin-hadoop2.7/examples/src/main/python/ml/max_abs_scaler_example.py\n",
            "spark-2.4.4-bin-hadoop2.7/examples/src/main/python/ml/logistic_regression_with_elastic_net.py\n",
            "spark-2.4.4-bin-hadoop2.7/examples/src/main/python/ml/logistic_regression_summary_example.py\n",
            "spark-2.4.4-bin-hadoop2.7/examples/src/main/python/ml/linearsvc.py\n",
            "spark-2.4.4-bin-hadoop2.7/examples/src/main/python/ml/linear_regression_with_elastic_net.py\n",
            "spark-2.4.4-bin-hadoop2.7/examples/src/main/python/ml/lda_example.py\n",
            "spark-2.4.4-bin-hadoop2.7/examples/src/main/python/ml/kmeans_example.py\n",
            "spark-2.4.4-bin-hadoop2.7/examples/src/main/python/ml/isotonic_regression_example.py\n",
            "spark-2.4.4-bin-hadoop2.7/examples/src/main/python/ml/index_to_string_example.py\n",
            "spark-2.4.4-bin-hadoop2.7/examples/src/main/python/ml/imputer_example.py\n",
            "spark-2.4.4-bin-hadoop2.7/examples/src/main/python/ml/gradient_boosted_tree_regressor_example.py\n",
            "spark-2.4.4-bin-hadoop2.7/examples/src/main/python/ml/gradient_boosted_tree_classifier_example.py\n",
            "spark-2.4.4-bin-hadoop2.7/examples/src/main/python/ml/generalized_linear_regression_example.py\n",
            "spark-2.4.4-bin-hadoop2.7/examples/src/main/python/ml/gaussian_mixture_example.py\n",
            "spark-2.4.4-bin-hadoop2.7/examples/src/main/python/ml/fpgrowth_example.py\n",
            "spark-2.4.4-bin-hadoop2.7/examples/src/main/python/ml/feature_hasher_example.py\n",
            "spark-2.4.4-bin-hadoop2.7/examples/src/main/python/ml/estimator_transformer_param_example.py\n",
            "spark-2.4.4-bin-hadoop2.7/examples/src/main/python/ml/elementwise_product_example.py\n",
            "spark-2.4.4-bin-hadoop2.7/examples/src/main/python/ml/decision_tree_regression_example.py\n",
            "spark-2.4.4-bin-hadoop2.7/examples/src/main/python/ml/decision_tree_classification_example.py\n",
            "spark-2.4.4-bin-hadoop2.7/examples/src/main/python/ml/dct_example.py\n",
            "spark-2.4.4-bin-hadoop2.7/examples/src/main/python/ml/dataframe_example.py\n",
            "spark-2.4.4-bin-hadoop2.7/examples/src/main/python/ml/cross_validator.py\n",
            "spark-2.4.4-bin-hadoop2.7/examples/src/main/python/ml/count_vectorizer_example.py\n",
            "spark-2.4.4-bin-hadoop2.7/examples/src/main/python/ml/correlation_example.py\n",
            "spark-2.4.4-bin-hadoop2.7/examples/src/main/python/ml/chisq_selector_example.py\n",
            "spark-2.4.4-bin-hadoop2.7/examples/src/main/python/ml/chi_square_test_example.py\n",
            "spark-2.4.4-bin-hadoop2.7/examples/src/main/python/ml/bucketizer_example.py\n",
            "spark-2.4.4-bin-hadoop2.7/examples/src/main/python/ml/bucketed_random_projection_lsh_example.py\n",
            "spark-2.4.4-bin-hadoop2.7/examples/src/main/python/ml/binarizer_example.py\n",
            "spark-2.4.4-bin-hadoop2.7/examples/src/main/python/ml/als_example.py\n",
            "spark-2.4.4-bin-hadoop2.7/examples/src/main/python/ml/aft_survival_regression.py\n",
            "spark-2.4.4-bin-hadoop2.7/examples/src/main/python/ml/onehot_encoder_estimator_example.py\n",
            "spark-2.4.4-bin-hadoop2.7/examples/src/main/python/ml/bisecting_k_means_example.py\n",
            "spark-2.4.4-bin-hadoop2.7/examples/src/main/python/logistic_regression.py\n",
            "spark-2.4.4-bin-hadoop2.7/examples/src/main/python/kmeans.py\n",
            "spark-2.4.4-bin-hadoop2.7/examples/src/main/python/avro_inputformat.py\n",
            "spark-2.4.4-bin-hadoop2.7/examples/src/main/python/als.py\n",
            "spark-2.4.4-bin-hadoop2.7/examples/src/main/java/\n",
            "spark-2.4.4-bin-hadoop2.7/examples/src/main/java/org/\n",
            "spark-2.4.4-bin-hadoop2.7/examples/src/main/java/org/apache/\n",
            "spark-2.4.4-bin-hadoop2.7/examples/src/main/java/org/apache/spark/\n",
            "spark-2.4.4-bin-hadoop2.7/examples/src/main/java/org/apache/spark/examples/\n",
            "spark-2.4.4-bin-hadoop2.7/examples/src/main/java/org/apache/spark/examples/streaming/\n",
            "spark-2.4.4-bin-hadoop2.7/examples/src/main/java/org/apache/spark/examples/streaming/JavaStatefulNetworkWordCount.java\n",
            "spark-2.4.4-bin-hadoop2.7/examples/src/main/java/org/apache/spark/examples/streaming/JavaSqlNetworkWordCount.java\n",
            "spark-2.4.4-bin-hadoop2.7/examples/src/main/java/org/apache/spark/examples/streaming/JavaRecoverableNetworkWordCount.java\n",
            "spark-2.4.4-bin-hadoop2.7/examples/src/main/java/org/apache/spark/examples/streaming/JavaRecord.java\n",
            "spark-2.4.4-bin-hadoop2.7/examples/src/main/java/org/apache/spark/examples/streaming/JavaQueueStream.java\n",
            "spark-2.4.4-bin-hadoop2.7/examples/src/main/java/org/apache/spark/examples/streaming/JavaNetworkWordCount.java\n",
            "spark-2.4.4-bin-hadoop2.7/examples/src/main/java/org/apache/spark/examples/streaming/JavaDirectKafkaWordCount.java\n",
            "spark-2.4.4-bin-hadoop2.7/examples/src/main/java/org/apache/spark/examples/streaming/JavaCustomReceiver.java\n",
            "spark-2.4.4-bin-hadoop2.7/examples/src/main/java/org/apache/spark/examples/sql/\n",
            "spark-2.4.4-bin-hadoop2.7/examples/src/main/java/org/apache/spark/examples/sql/streaming/\n",
            "spark-2.4.4-bin-hadoop2.7/examples/src/main/java/org/apache/spark/examples/sql/streaming/JavaStructuredNetworkWordCountWindowed.java\n",
            "spark-2.4.4-bin-hadoop2.7/examples/src/main/java/org/apache/spark/examples/sql/streaming/JavaStructuredNetworkWordCount.java\n",
            "spark-2.4.4-bin-hadoop2.7/examples/src/main/java/org/apache/spark/examples/sql/streaming/JavaStructuredKafkaWordCount.java\n",
            "spark-2.4.4-bin-hadoop2.7/examples/src/main/java/org/apache/spark/examples/sql/streaming/JavaStructuredSessionization.java\n",
            "spark-2.4.4-bin-hadoop2.7/examples/src/main/java/org/apache/spark/examples/sql/hive/\n",
            "spark-2.4.4-bin-hadoop2.7/examples/src/main/java/org/apache/spark/examples/sql/hive/JavaSparkHiveExample.java\n",
            "spark-2.4.4-bin-hadoop2.7/examples/src/main/java/org/apache/spark/examples/sql/JavaUserDefinedUntypedAggregation.java\n",
            "spark-2.4.4-bin-hadoop2.7/examples/src/main/java/org/apache/spark/examples/sql/JavaUserDefinedTypedAggregation.java\n",
            "spark-2.4.4-bin-hadoop2.7/examples/src/main/java/org/apache/spark/examples/sql/JavaSparkSQLExample.java\n",
            "spark-2.4.4-bin-hadoop2.7/examples/src/main/java/org/apache/spark/examples/sql/JavaSQLDataSourceExample.java\n",
            "spark-2.4.4-bin-hadoop2.7/examples/src/main/java/org/apache/spark/examples/mllib/\n",
            "spark-2.4.4-bin-hadoop2.7/examples/src/main/java/org/apache/spark/examples/mllib/JavaSummaryStatisticsExample.java\n",
            "spark-2.4.4-bin-hadoop2.7/examples/src/main/java/org/apache/spark/examples/mllib/JavaStreamingTestExample.java\n",
            "spark-2.4.4-bin-hadoop2.7/examples/src/main/java/org/apache/spark/examples/mllib/JavaStratifiedSamplingExample.java\n",
            "spark-2.4.4-bin-hadoop2.7/examples/src/main/java/org/apache/spark/examples/mllib/JavaSimpleFPGrowth.java\n",
            "spark-2.4.4-bin-hadoop2.7/examples/src/main/java/org/apache/spark/examples/mllib/JavaSVMWithSGDExample.java\n",
            "spark-2.4.4-bin-hadoop2.7/examples/src/main/java/org/apache/spark/examples/mllib/JavaSVDExample.java\n",
            "spark-2.4.4-bin-hadoop2.7/examples/src/main/java/org/apache/spark/examples/mllib/JavaRegressionMetricsExample.java\n",
            "spark-2.4.4-bin-hadoop2.7/examples/src/main/java/org/apache/spark/examples/mllib/JavaRecommendationExample.java\n",
            "spark-2.4.4-bin-hadoop2.7/examples/src/main/java/org/apache/spark/examples/mllib/JavaRandomForestRegressionExample.java\n",
            "spark-2.4.4-bin-hadoop2.7/examples/src/main/java/org/apache/spark/examples/mllib/JavaPrefixSpanExample.java\n",
            "spark-2.4.4-bin-hadoop2.7/examples/src/main/java/org/apache/spark/examples/mllib/JavaPowerIterationClusteringExample.java\n",
            "spark-2.4.4-bin-hadoop2.7/examples/src/main/java/org/apache/spark/examples/mllib/JavaPCAExample.java\n",
            "spark-2.4.4-bin-hadoop2.7/examples/src/main/java/org/apache/spark/examples/mllib/JavaNaiveBayesExample.java\n",
            "spark-2.4.4-bin-hadoop2.7/examples/src/main/java/org/apache/spark/examples/mllib/JavaMulticlassClassificationMetricsExample.java\n",
            "spark-2.4.4-bin-hadoop2.7/examples/src/main/java/org/apache/spark/examples/mllib/JavaMultiLabelClassificationMetricsExample.java\n",
            "spark-2.4.4-bin-hadoop2.7/examples/src/main/java/org/apache/spark/examples/mllib/JavaLogisticRegressionWithLBFGSExample.java\n",
            "spark-2.4.4-bin-hadoop2.7/examples/src/main/java/org/apache/spark/examples/mllib/JavaLinearRegressionWithSGDExample.java\n",
            "spark-2.4.4-bin-hadoop2.7/examples/src/main/java/org/apache/spark/examples/mllib/JavaLatentDirichletAllocationExample.java\n",
            "spark-2.4.4-bin-hadoop2.7/examples/src/main/java/org/apache/spark/examples/mllib/JavaLBFGSExample.java\n",
            "spark-2.4.4-bin-hadoop2.7/examples/src/main/java/org/apache/spark/examples/mllib/JavaKernelDensityEstimationExample.java\n",
            "spark-2.4.4-bin-hadoop2.7/examples/src/main/java/org/apache/spark/examples/mllib/JavaKMeansExample.java\n",
            "spark-2.4.4-bin-hadoop2.7/examples/src/main/java/org/apache/spark/examples/mllib/JavaIsotonicRegressionExample.java\n",
            "spark-2.4.4-bin-hadoop2.7/examples/src/main/java/org/apache/spark/examples/mllib/JavaHypothesisTestingKolmogorovSmirnovTestExample.java\n",
            "spark-2.4.4-bin-hadoop2.7/examples/src/main/java/org/apache/spark/examples/mllib/JavaHypothesisTestingExample.java\n",
            "spark-2.4.4-bin-hadoop2.7/examples/src/main/java/org/apache/spark/examples/mllib/JavaGradientBoostingRegressionExample.java\n",
            "spark-2.4.4-bin-hadoop2.7/examples/src/main/java/org/apache/spark/examples/mllib/JavaGradientBoostingClassificationExample.java\n",
            "spark-2.4.4-bin-hadoop2.7/examples/src/main/java/org/apache/spark/examples/mllib/JavaGaussianMixtureExample.java\n",
            "spark-2.4.4-bin-hadoop2.7/examples/src/main/java/org/apache/spark/examples/mllib/JavaElementwiseProductExample.java\n",
            "spark-2.4.4-bin-hadoop2.7/examples/src/main/java/org/apache/spark/examples/mllib/JavaDecisionTreeRegressionExample.java\n",
            "spark-2.4.4-bin-hadoop2.7/examples/src/main/java/org/apache/spark/examples/mllib/JavaDecisionTreeClassificationExample.java\n",
            "spark-2.4.4-bin-hadoop2.7/examples/src/main/java/org/apache/spark/examples/mllib/JavaChiSqSelectorExample.java\n",
            "spark-2.4.4-bin-hadoop2.7/examples/src/main/java/org/apache/spark/examples/mllib/JavaBisectingKMeansExample.java\n",
            "spark-2.4.4-bin-hadoop2.7/examples/src/main/java/org/apache/spark/examples/mllib/JavaBinaryClassificationMetricsExample.java\n",
            "spark-2.4.4-bin-hadoop2.7/examples/src/main/java/org/apache/spark/examples/mllib/JavaAssociationRulesExample.java\n",
            "spark-2.4.4-bin-hadoop2.7/examples/src/main/java/org/apache/spark/examples/mllib/JavaALS.java\n",
            "spark-2.4.4-bin-hadoop2.7/examples/src/main/java/org/apache/spark/examples/mllib/JavaRankingMetricsExample.java\n",
            "spark-2.4.4-bin-hadoop2.7/examples/src/main/java/org/apache/spark/examples/mllib/JavaRandomForestClassificationExample.java\n",
            "spark-2.4.4-bin-hadoop2.7/examples/src/main/java/org/apache/spark/examples/mllib/JavaCorrelationsExample.java\n",
            "spark-2.4.4-bin-hadoop2.7/examples/src/main/java/org/apache/spark/examples/ml/\n",
            "spark-2.4.4-bin-hadoop2.7/examples/src/main/java/org/apache/spark/examples/ml/JavaWord2VecExample.java\n",
            "spark-2.4.4-bin-hadoop2.7/examples/src/main/java/org/apache/spark/examples/ml/JavaVectorSlicerExample.java\n",
            "spark-2.4.4-bin-hadoop2.7/examples/src/main/java/org/apache/spark/examples/ml/JavaVectorSizeHintExample.java\n",
            "spark-2.4.4-bin-hadoop2.7/examples/src/main/java/org/apache/spark/examples/ml/JavaVectorIndexerExample.java\n",
            "spark-2.4.4-bin-hadoop2.7/examples/src/main/java/org/apache/spark/examples/ml/JavaVectorAssemblerExample.java\n",
            "spark-2.4.4-bin-hadoop2.7/examples/src/main/java/org/apache/spark/examples/ml/JavaTokenizerExample.java\n",
            "spark-2.4.4-bin-hadoop2.7/examples/src/main/java/org/apache/spark/examples/ml/JavaTfIdfExample.java\n",
            "spark-2.4.4-bin-hadoop2.7/examples/src/main/java/org/apache/spark/examples/ml/JavaSummarizerExample.java\n",
            "spark-2.4.4-bin-hadoop2.7/examples/src/main/java/org/apache/spark/examples/ml/JavaStringIndexerExample.java\n",
            "spark-2.4.4-bin-hadoop2.7/examples/src/main/java/org/apache/spark/examples/ml/JavaStopWordsRemoverExample.java\n",
            "spark-2.4.4-bin-hadoop2.7/examples/src/main/java/org/apache/spark/examples/ml/JavaStandardScalerExample.java\n",
            "spark-2.4.4-bin-hadoop2.7/examples/src/main/java/org/apache/spark/examples/ml/JavaSQLTransformerExample.java\n",
            "spark-2.4.4-bin-hadoop2.7/examples/src/main/java/org/apache/spark/examples/ml/JavaRandomForestRegressorExample.java\n",
            "spark-2.4.4-bin-hadoop2.7/examples/src/main/java/org/apache/spark/examples/ml/JavaRFormulaExample.java\n",
            "spark-2.4.4-bin-hadoop2.7/examples/src/main/java/org/apache/spark/examples/ml/JavaQuantileDiscretizerExample.java\n",
            "spark-2.4.4-bin-hadoop2.7/examples/src/main/java/org/apache/spark/examples/ml/JavaPowerIterationClusteringExample.java\n",
            "spark-2.4.4-bin-hadoop2.7/examples/src/main/java/org/apache/spark/examples/ml/JavaPolynomialExpansionExample.java\n",
            "spark-2.4.4-bin-hadoop2.7/examples/src/main/java/org/apache/spark/examples/ml/JavaPipelineExample.java\n",
            "spark-2.4.4-bin-hadoop2.7/examples/src/main/java/org/apache/spark/examples/ml/JavaPCAExample.java\n",
            "spark-2.4.4-bin-hadoop2.7/examples/src/main/java/org/apache/spark/examples/ml/JavaOneVsRestExample.java\n",
            "spark-2.4.4-bin-hadoop2.7/examples/src/main/java/org/apache/spark/examples/ml/JavaNormalizerExample.java\n",
            "spark-2.4.4-bin-hadoop2.7/examples/src/main/java/org/apache/spark/examples/ml/JavaNaiveBayesExample.java\n",
            "spark-2.4.4-bin-hadoop2.7/examples/src/main/java/org/apache/spark/examples/ml/JavaNGramExample.java\n",
            "spark-2.4.4-bin-hadoop2.7/examples/src/main/java/org/apache/spark/examples/ml/JavaMultilayerPerceptronClassifierExample.java\n",
            "spark-2.4.4-bin-hadoop2.7/examples/src/main/java/org/apache/spark/examples/ml/JavaMulticlassLogisticRegressionWithElasticNetExample.java\n",
            "spark-2.4.4-bin-hadoop2.7/examples/src/main/java/org/apache/spark/examples/ml/JavaModelSelectionViaTrainValidationSplitExample.java\n",
            "spark-2.4.4-bin-hadoop2.7/examples/src/main/java/org/apache/spark/examples/ml/JavaModelSelectionViaCrossValidationExample.java\n",
            "spark-2.4.4-bin-hadoop2.7/examples/src/main/java/org/apache/spark/examples/ml/JavaMinMaxScalerExample.java\n",
            "spark-2.4.4-bin-hadoop2.7/examples/src/main/java/org/apache/spark/examples/ml/JavaMinHashLSHExample.java\n",
            "spark-2.4.4-bin-hadoop2.7/examples/src/main/java/org/apache/spark/examples/ml/JavaMaxAbsScalerExample.java\n",
            "spark-2.4.4-bin-hadoop2.7/examples/src/main/java/org/apache/spark/examples/ml/JavaLogisticRegressionWithElasticNetExample.java\n",
            "spark-2.4.4-bin-hadoop2.7/examples/src/main/java/org/apache/spark/examples/ml/JavaLogisticRegressionSummaryExample.java\n",
            "spark-2.4.4-bin-hadoop2.7/examples/src/main/java/org/apache/spark/examples/ml/JavaLinearSVCExample.java\n",
            "spark-2.4.4-bin-hadoop2.7/examples/src/main/java/org/apache/spark/examples/ml/JavaLinearRegressionWithElasticNetExample.java\n",
            "spark-2.4.4-bin-hadoop2.7/examples/src/main/java/org/apache/spark/examples/ml/JavaLabeledDocument.java\n",
            "spark-2.4.4-bin-hadoop2.7/examples/src/main/java/org/apache/spark/examples/ml/JavaLDAExample.java\n",
            "spark-2.4.4-bin-hadoop2.7/examples/src/main/java/org/apache/spark/examples/ml/JavaKMeansExample.java\n",
            "spark-2.4.4-bin-hadoop2.7/examples/src/main/java/org/apache/spark/examples/ml/JavaIsotonicRegressionExample.java\n",
            "spark-2.4.4-bin-hadoop2.7/examples/src/main/java/org/apache/spark/examples/ml/JavaInteractionExample.java\n",
            "spark-2.4.4-bin-hadoop2.7/examples/src/main/java/org/apache/spark/examples/ml/JavaIndexToStringExample.java\n",
            "spark-2.4.4-bin-hadoop2.7/examples/src/main/java/org/apache/spark/examples/ml/JavaImputerExample.java\n",
            "spark-2.4.4-bin-hadoop2.7/examples/src/main/java/org/apache/spark/examples/ml/JavaGradientBoostedTreeRegressorExample.java\n",
            "spark-2.4.4-bin-hadoop2.7/examples/src/main/java/org/apache/spark/examples/ml/JavaGeneralizedLinearRegressionExample.java\n",
            "spark-2.4.4-bin-hadoop2.7/examples/src/main/java/org/apache/spark/examples/ml/JavaGaussianMixtureExample.java\n",
            "spark-2.4.4-bin-hadoop2.7/examples/src/main/java/org/apache/spark/examples/ml/JavaFeatureHasherExample.java\n",
            "spark-2.4.4-bin-hadoop2.7/examples/src/main/java/org/apache/spark/examples/ml/JavaFPGrowthExample.java\n",
            "spark-2.4.4-bin-hadoop2.7/examples/src/main/java/org/apache/spark/examples/ml/JavaEstimatorTransformerParamExample.java\n",
            "spark-2.4.4-bin-hadoop2.7/examples/src/main/java/org/apache/spark/examples/ml/JavaElementwiseProductExample.java\n",
            "spark-2.4.4-bin-hadoop2.7/examples/src/main/java/org/apache/spark/examples/ml/JavaDocument.java\n",
            "spark-2.4.4-bin-hadoop2.7/examples/src/main/java/org/apache/spark/examples/ml/JavaDecisionTreeRegressionExample.java\n",
            "spark-2.4.4-bin-hadoop2.7/examples/src/main/java/org/apache/spark/examples/ml/JavaDCTExample.java\n",
            "spark-2.4.4-bin-hadoop2.7/examples/src/main/java/org/apache/spark/examples/ml/JavaCountVectorizerExample.java\n",
            "spark-2.4.4-bin-hadoop2.7/examples/src/main/java/org/apache/spark/examples/ml/JavaCorrelationExample.java\n",
            "spark-2.4.4-bin-hadoop2.7/examples/src/main/java/org/apache/spark/examples/ml/JavaChiSquareTestExample.java\n",
            "spark-2.4.4-bin-hadoop2.7/examples/src/main/java/org/apache/spark/examples/ml/JavaChiSqSelectorExample.java\n",
            "spark-2.4.4-bin-hadoop2.7/examples/src/main/java/org/apache/spark/examples/ml/JavaBucketizerExample.java\n",
            "spark-2.4.4-bin-hadoop2.7/examples/src/main/java/org/apache/spark/examples/ml/JavaBucketedRandomProjectionLSHExample.java\n",
            "spark-2.4.4-bin-hadoop2.7/examples/src/main/java/org/apache/spark/examples/ml/JavaBinarizerExample.java\n",
            "spark-2.4.4-bin-hadoop2.7/examples/src/main/java/org/apache/spark/examples/ml/JavaAFTSurvivalRegressionExample.java\n",
            "spark-2.4.4-bin-hadoop2.7/examples/src/main/java/org/apache/spark/examples/ml/JavaRandomForestClassifierExample.java\n",
            "spark-2.4.4-bin-hadoop2.7/examples/src/main/java/org/apache/spark/examples/ml/JavaPrefixSpanExample.java\n",
            "spark-2.4.4-bin-hadoop2.7/examples/src/main/java/org/apache/spark/examples/ml/JavaOneHotEncoderEstimatorExample.java\n",
            "spark-2.4.4-bin-hadoop2.7/examples/src/main/java/org/apache/spark/examples/ml/JavaGradientBoostedTreeClassifierExample.java\n",
            "spark-2.4.4-bin-hadoop2.7/examples/src/main/java/org/apache/spark/examples/ml/JavaDecisionTreeClassificationExample.java\n",
            "spark-2.4.4-bin-hadoop2.7/examples/src/main/java/org/apache/spark/examples/ml/JavaBisectingKMeansExample.java\n",
            "spark-2.4.4-bin-hadoop2.7/examples/src/main/java/org/apache/spark/examples/ml/JavaALSExample.java\n",
            "spark-2.4.4-bin-hadoop2.7/examples/src/main/java/org/apache/spark/examples/JavaWordCount.java\n",
            "spark-2.4.4-bin-hadoop2.7/examples/src/main/java/org/apache/spark/examples/JavaStatusTrackerDemo.java\n",
            "spark-2.4.4-bin-hadoop2.7/examples/src/main/java/org/apache/spark/examples/JavaSparkPi.java\n",
            "spark-2.4.4-bin-hadoop2.7/examples/src/main/java/org/apache/spark/examples/JavaPageRank.java\n",
            "spark-2.4.4-bin-hadoop2.7/examples/src/main/java/org/apache/spark/examples/JavaLogQuery.java\n",
            "spark-2.4.4-bin-hadoop2.7/examples/src/main/java/org/apache/spark/examples/JavaHdfsLR.java\n",
            "spark-2.4.4-bin-hadoop2.7/examples/src/main/java/org/apache/spark/examples/JavaTC.java\n",
            "spark-2.4.4-bin-hadoop2.7/examples/jars/\n",
            "spark-2.4.4-bin-hadoop2.7/examples/jars/spark-examples_2.11-2.4.4.jar\n",
            "spark-2.4.4-bin-hadoop2.7/examples/jars/scopt_2.11-3.7.0.jar\n",
            "spark-2.4.4-bin-hadoop2.7/kubernetes/\n",
            "spark-2.4.4-bin-hadoop2.7/kubernetes/tests/\n",
            "spark-2.4.4-bin-hadoop2.7/kubernetes/tests/pyfiles.py\n",
            "spark-2.4.4-bin-hadoop2.7/kubernetes/tests/worker_memory_check.py\n",
            "spark-2.4.4-bin-hadoop2.7/kubernetes/tests/py_container_checks.py\n",
            "spark-2.4.4-bin-hadoop2.7/kubernetes/dockerfiles/\n",
            "spark-2.4.4-bin-hadoop2.7/kubernetes/dockerfiles/spark/\n",
            "spark-2.4.4-bin-hadoop2.7/kubernetes/dockerfiles/spark/entrypoint.sh\n",
            "spark-2.4.4-bin-hadoop2.7/kubernetes/dockerfiles/spark/Dockerfile\n",
            "spark-2.4.4-bin-hadoop2.7/kubernetes/dockerfiles/spark/bindings/\n",
            "spark-2.4.4-bin-hadoop2.7/kubernetes/dockerfiles/spark/bindings/python/\n",
            "spark-2.4.4-bin-hadoop2.7/kubernetes/dockerfiles/spark/bindings/python/Dockerfile\n",
            "spark-2.4.4-bin-hadoop2.7/kubernetes/dockerfiles/spark/bindings/R/\n",
            "spark-2.4.4-bin-hadoop2.7/kubernetes/dockerfiles/spark/bindings/R/Dockerfile\n",
            "spark-2.4.4-bin-hadoop2.7/yarn/\n",
            "spark-2.4.4-bin-hadoop2.7/yarn/spark-2.4.4-yarn-shuffle.jar\n",
            "spark-2.4.4-bin-hadoop2.7/jars/\n",
            "spark-2.4.4-bin-hadoop2.7/jars/jackson-mapper-asl-1.9.13.jar\n",
            "spark-2.4.4-bin-hadoop2.7/jars/jackson-jaxrs-1.9.13.jar\n",
            "spark-2.4.4-bin-hadoop2.7/jars/jackson-dataformat-yaml-2.6.7.jar\n",
            "spark-2.4.4-bin-hadoop2.7/jars/jackson-databind-2.6.7.1.jar\n",
            "spark-2.4.4-bin-hadoop2.7/jars/jackson-core-asl-1.9.13.jar\n",
            "spark-2.4.4-bin-hadoop2.7/jars/jackson-core-2.6.7.jar\n",
            "spark-2.4.4-bin-hadoop2.7/jars/jackson-annotations-2.6.7.jar\n",
            "spark-2.4.4-bin-hadoop2.7/jars/ivy-2.4.0.jar\n",
            "spark-2.4.4-bin-hadoop2.7/jars/httpcore-4.4.10.jar\n",
            "spark-2.4.4-bin-hadoop2.7/jars/httpclient-4.5.6.jar\n",
            "spark-2.4.4-bin-hadoop2.7/jars/htrace-core-3.1.0-incubating.jar\n",
            "spark-2.4.4-bin-hadoop2.7/jars/hppc-0.7.2.jar\n",
            "spark-2.4.4-bin-hadoop2.7/jars/hk2-utils-2.4.0-b34.jar\n",
            "spark-2.4.4-bin-hadoop2.7/jars/hk2-locator-2.4.0-b34.jar\n",
            "spark-2.4.4-bin-hadoop2.7/jars/hk2-api-2.4.0-b34.jar\n",
            "spark-2.4.4-bin-hadoop2.7/jars/hive-metastore-1.2.1.spark2.jar\n",
            "spark-2.4.4-bin-hadoop2.7/jars/hive-jdbc-1.2.1.spark2.jar\n",
            "spark-2.4.4-bin-hadoop2.7/jars/hive-exec-1.2.1.spark2.jar\n",
            "spark-2.4.4-bin-hadoop2.7/jars/hive-cli-1.2.1.spark2.jar\n",
            "spark-2.4.4-bin-hadoop2.7/jars/hive-beeline-1.2.1.spark2.jar\n",
            "spark-2.4.4-bin-hadoop2.7/jars/hadoop-yarn-server-web-proxy-2.7.3.jar\n",
            "spark-2.4.4-bin-hadoop2.7/jars/hadoop-yarn-server-common-2.7.3.jar\n",
            "spark-2.4.4-bin-hadoop2.7/jars/hadoop-yarn-common-2.7.3.jar\n",
            "spark-2.4.4-bin-hadoop2.7/jars/hadoop-yarn-client-2.7.3.jar\n",
            "spark-2.4.4-bin-hadoop2.7/jars/hadoop-yarn-api-2.7.3.jar\n",
            "spark-2.4.4-bin-hadoop2.7/jars/hadoop-mapreduce-client-shuffle-2.7.3.jar\n",
            "spark-2.4.4-bin-hadoop2.7/jars/hadoop-mapreduce-client-jobclient-2.7.3.jar\n",
            "spark-2.4.4-bin-hadoop2.7/jars/hadoop-mapreduce-client-core-2.7.3.jar\n",
            "spark-2.4.4-bin-hadoop2.7/jars/hadoop-mapreduce-client-common-2.7.3.jar\n",
            "spark-2.4.4-bin-hadoop2.7/jars/hadoop-mapreduce-client-app-2.7.3.jar\n",
            "spark-2.4.4-bin-hadoop2.7/jars/hadoop-hdfs-2.7.3.jar\n",
            "spark-2.4.4-bin-hadoop2.7/jars/hadoop-common-2.7.3.jar\n",
            "spark-2.4.4-bin-hadoop2.7/jars/hadoop-client-2.7.3.jar\n",
            "spark-2.4.4-bin-hadoop2.7/jars/hadoop-auth-2.7.3.jar\n",
            "spark-2.4.4-bin-hadoop2.7/jars/hadoop-annotations-2.7.3.jar\n",
            "spark-2.4.4-bin-hadoop2.7/jars/guice-servlet-3.0.jar\n",
            "spark-2.4.4-bin-hadoop2.7/jars/guice-3.0.jar\n",
            "spark-2.4.4-bin-hadoop2.7/jars/guava-14.0.1.jar\n",
            "spark-2.4.4-bin-hadoop2.7/jars/gson-2.2.4.jar\n",
            "spark-2.4.4-bin-hadoop2.7/jars/generex-1.0.1.jar\n",
            "spark-2.4.4-bin-hadoop2.7/jars/flatbuffers-1.2.0-3f79e055.jar\n",
            "spark-2.4.4-bin-hadoop2.7/jars/eigenbase-properties-1.1.5.jar\n",
            "spark-2.4.4-bin-hadoop2.7/jars/derby-10.12.1.1.jar\n",
            "spark-2.4.4-bin-hadoop2.7/jars/datanucleus-rdbms-3.2.9.jar\n",
            "spark-2.4.4-bin-hadoop2.7/jars/datanucleus-core-3.2.10.jar\n",
            "spark-2.4.4-bin-hadoop2.7/jars/datanucleus-api-jdo-3.2.6.jar\n",
            "spark-2.4.4-bin-hadoop2.7/jars/curator-recipes-2.7.1.jar\n",
            "spark-2.4.4-bin-hadoop2.7/jars/curator-framework-2.7.1.jar\n",
            "spark-2.4.4-bin-hadoop2.7/jars/curator-client-2.7.1.jar\n",
            "spark-2.4.4-bin-hadoop2.7/jars/core-1.1.2.jar\n",
            "spark-2.4.4-bin-hadoop2.7/jars/compress-lzf-1.0.3.jar\n",
            "spark-2.4.4-bin-hadoop2.7/jars/commons-pool-1.5.4.jar\n",
            "spark-2.4.4-bin-hadoop2.7/jars/commons-net-3.1.jar\n",
            "spark-2.4.4-bin-hadoop2.7/jars/commons-math3-3.4.1.jar\n",
            "spark-2.4.4-bin-hadoop2.7/jars/commons-logging-1.1.3.jar\n",
            "spark-2.4.4-bin-hadoop2.7/jars/commons-lang3-3.5.jar\n",
            "spark-2.4.4-bin-hadoop2.7/jars/commons-lang-2.6.jar\n",
            "spark-2.4.4-bin-hadoop2.7/jars/commons-io-2.4.jar\n",
            "spark-2.4.4-bin-hadoop2.7/jars/commons-httpclient-3.1.jar\n",
            "spark-2.4.4-bin-hadoop2.7/jars/commons-digester-1.8.jar\n",
            "spark-2.4.4-bin-hadoop2.7/jars/commons-dbcp-1.4.jar\n",
            "spark-2.4.4-bin-hadoop2.7/jars/commons-crypto-1.0.0.jar\n",
            "spark-2.4.4-bin-hadoop2.7/jars/commons-configuration-1.6.jar\n",
            "spark-2.4.4-bin-hadoop2.7/jars/commons-compress-1.8.1.jar\n",
            "spark-2.4.4-bin-hadoop2.7/jars/commons-compiler-3.0.9.jar\n",
            "spark-2.4.4-bin-hadoop2.7/jars/commons-collections-3.2.2.jar\n",
            "spark-2.4.4-bin-hadoop2.7/jars/commons-codec-1.10.jar\n",
            "spark-2.4.4-bin-hadoop2.7/jars/commons-cli-1.2.jar\n",
            "spark-2.4.4-bin-hadoop2.7/jars/commons-beanutils-1.9.3.jar\n",
            "spark-2.4.4-bin-hadoop2.7/jars/chill_2.11-0.9.3.jar\n",
            "spark-2.4.4-bin-hadoop2.7/jars/chill-java-0.9.3.jar\n",
            "spark-2.4.4-bin-hadoop2.7/jars/calcite-linq4j-1.2.0-incubating.jar\n",
            "spark-2.4.4-bin-hadoop2.7/jars/calcite-core-1.2.0-incubating.jar\n",
            "spark-2.4.4-bin-hadoop2.7/jars/calcite-avatica-1.2.0-incubating.jar\n",
            "spark-2.4.4-bin-hadoop2.7/jars/breeze_2.11-0.13.2.jar\n",
            "spark-2.4.4-bin-hadoop2.7/jars/breeze-macros_2.11-0.13.2.jar\n",
            "spark-2.4.4-bin-hadoop2.7/jars/bonecp-0.8.0.RELEASE.jar\n",
            "spark-2.4.4-bin-hadoop2.7/jars/avro-mapred-1.8.2-hadoop2.jar\n",
            "spark-2.4.4-bin-hadoop2.7/jars/avro-ipc-1.8.2.jar\n",
            "spark-2.4.4-bin-hadoop2.7/jars/avro-1.8.2.jar\n",
            "spark-2.4.4-bin-hadoop2.7/jars/automaton-1.11-8.jar\n",
            "spark-2.4.4-bin-hadoop2.7/jars/arrow-vector-0.10.0.jar\n",
            "spark-2.4.4-bin-hadoop2.7/jars/arrow-memory-0.10.0.jar\n",
            "spark-2.4.4-bin-hadoop2.7/jars/arrow-format-0.10.0.jar\n",
            "spark-2.4.4-bin-hadoop2.7/jars/arpack_combined_all-0.1.jar\n",
            "spark-2.4.4-bin-hadoop2.7/jars/api-util-1.0.0-M20.jar\n",
            "spark-2.4.4-bin-hadoop2.7/jars/api-asn1-api-1.0.0-M20.jar\n",
            "spark-2.4.4-bin-hadoop2.7/jars/apacheds-kerberos-codec-2.0.0-M15.jar\n",
            "spark-2.4.4-bin-hadoop2.7/jars/apacheds-i18n-2.0.0-M15.jar\n",
            "spark-2.4.4-bin-hadoop2.7/jars/apache-log4j-extras-1.2.17.jar\n",
            "spark-2.4.4-bin-hadoop2.7/jars/aopalliance-repackaged-2.4.0-b34.jar\n",
            "spark-2.4.4-bin-hadoop2.7/jars/aopalliance-1.0.jar\n",
            "spark-2.4.4-bin-hadoop2.7/jars/antlr4-runtime-4.7.jar\n",
            "spark-2.4.4-bin-hadoop2.7/jars/antlr-runtime-3.4.jar\n",
            "spark-2.4.4-bin-hadoop2.7/jars/antlr-2.7.7.jar\n",
            "spark-2.4.4-bin-hadoop2.7/jars/aircompressor-0.10.jar\n",
            "spark-2.4.4-bin-hadoop2.7/jars/activation-1.1.1.jar\n",
            "spark-2.4.4-bin-hadoop2.7/jars/ST4-4.0.4.jar\n",
            "spark-2.4.4-bin-hadoop2.7/jars/RoaringBitmap-0.7.45.jar\n",
            "spark-2.4.4-bin-hadoop2.7/jars/JavaEWAH-0.3.2.jar\n",
            "spark-2.4.4-bin-hadoop2.7/jars/zstd-jni-1.3.2-2.jar\n",
            "spark-2.4.4-bin-hadoop2.7/jars/zookeeper-3.4.6.jar\n",
            "spark-2.4.4-bin-hadoop2.7/jars/zjsonpatch-0.3.0.jar\n",
            "spark-2.4.4-bin-hadoop2.7/jars/xz-1.5.jar\n",
            "spark-2.4.4-bin-hadoop2.7/jars/xmlenc-0.52.jar\n",
            "spark-2.4.4-bin-hadoop2.7/jars/xercesImpl-2.9.1.jar\n",
            "spark-2.4.4-bin-hadoop2.7/jars/xbean-asm6-shaded-4.8.jar\n",
            "spark-2.4.4-bin-hadoop2.7/jars/validation-api-1.1.0.Final.jar\n",
            "spark-2.4.4-bin-hadoop2.7/jars/univocity-parsers-2.7.3.jar\n",
            "spark-2.4.4-bin-hadoop2.7/jars/super-csv-2.2.0.jar\n",
            "spark-2.4.4-bin-hadoop2.7/jars/stringtemplate-3.2.1.jar\n",
            "spark-2.4.4-bin-hadoop2.7/jars/stream-2.7.0.jar\n",
            "spark-2.4.4-bin-hadoop2.7/jars/stax-api-1.0.1.jar\n",
            "spark-2.4.4-bin-hadoop2.7/jars/stax-api-1.0-2.jar\n",
            "spark-2.4.4-bin-hadoop2.7/jars/spire_2.11-0.13.0.jar\n",
            "spark-2.4.4-bin-hadoop2.7/jars/spire-macros_2.11-0.13.0.jar\n",
            "spark-2.4.4-bin-hadoop2.7/jars/spark-yarn_2.11-2.4.4.jar\n",
            "spark-2.4.4-bin-hadoop2.7/jars/spark-unsafe_2.11-2.4.4.jar\n",
            "spark-2.4.4-bin-hadoop2.7/jars/spark-tags_2.11-2.4.4.jar\n",
            "spark-2.4.4-bin-hadoop2.7/jars/spark-tags_2.11-2.4.4-tests.jar\n",
            "spark-2.4.4-bin-hadoop2.7/jars/spark-streaming_2.11-2.4.4.jar\n",
            "spark-2.4.4-bin-hadoop2.7/jars/spark-sql_2.11-2.4.4.jar\n",
            "spark-2.4.4-bin-hadoop2.7/jars/spark-sketch_2.11-2.4.4.jar\n",
            "spark-2.4.4-bin-hadoop2.7/jars/spark-repl_2.11-2.4.4.jar\n",
            "spark-2.4.4-bin-hadoop2.7/jars/spark-network-shuffle_2.11-2.4.4.jar\n",
            "spark-2.4.4-bin-hadoop2.7/jars/spark-network-common_2.11-2.4.4.jar\n",
            "spark-2.4.4-bin-hadoop2.7/jars/spark-mllib_2.11-2.4.4.jar\n",
            "spark-2.4.4-bin-hadoop2.7/jars/spark-mllib-local_2.11-2.4.4.jar\n",
            "spark-2.4.4-bin-hadoop2.7/jars/spark-mesos_2.11-2.4.4.jar\n",
            "spark-2.4.4-bin-hadoop2.7/jars/spark-launcher_2.11-2.4.4.jar\n",
            "spark-2.4.4-bin-hadoop2.7/jars/spark-kvstore_2.11-2.4.4.jar\n",
            "spark-2.4.4-bin-hadoop2.7/jars/spark-kubernetes_2.11-2.4.4.jar\n",
            "spark-2.4.4-bin-hadoop2.7/jars/spark-hive_2.11-2.4.4.jar\n",
            "spark-2.4.4-bin-hadoop2.7/jars/spark-hive-thriftserver_2.11-2.4.4.jar\n",
            "spark-2.4.4-bin-hadoop2.7/jars/spark-graphx_2.11-2.4.4.jar\n",
            "spark-2.4.4-bin-hadoop2.7/jars/spark-core_2.11-2.4.4.jar\n",
            "spark-2.4.4-bin-hadoop2.7/jars/spark-catalyst_2.11-2.4.4.jar\n",
            "spark-2.4.4-bin-hadoop2.7/jars/snappy-java-1.1.7.3.jar\n",
            "spark-2.4.4-bin-hadoop2.7/jars/snappy-0.2.jar\n",
            "spark-2.4.4-bin-hadoop2.7/jars/snakeyaml-1.15.jar\n",
            "spark-2.4.4-bin-hadoop2.7/jars/slf4j-log4j12-1.7.16.jar\n",
            "spark-2.4.4-bin-hadoop2.7/jars/slf4j-api-1.7.16.jar\n",
            "spark-2.4.4-bin-hadoop2.7/jars/shims-0.7.45.jar\n",
            "spark-2.4.4-bin-hadoop2.7/jars/shapeless_2.11-2.3.2.jar\n",
            "spark-2.4.4-bin-hadoop2.7/jars/scala-xml_2.11-1.0.5.jar\n",
            "spark-2.4.4-bin-hadoop2.7/jars/scala-reflect-2.11.12.jar\n",
            "spark-2.4.4-bin-hadoop2.7/jars/scala-parser-combinators_2.11-1.1.0.jar\n",
            "spark-2.4.4-bin-hadoop2.7/jars/scala-library-2.11.12.jar\n",
            "spark-2.4.4-bin-hadoop2.7/jars/scala-compiler-2.11.12.jar\n",
            "spark-2.4.4-bin-hadoop2.7/jars/pyrolite-4.13.jar\n",
            "spark-2.4.4-bin-hadoop2.7/jars/py4j-0.10.7.jar\n",
            "spark-2.4.4-bin-hadoop2.7/jars/protobuf-java-2.5.0.jar\n",
            "spark-2.4.4-bin-hadoop2.7/jars/parquet-jackson-1.10.1.jar\n",
            "spark-2.4.4-bin-hadoop2.7/jars/parquet-hadoop-bundle-1.6.0.jar\n",
            "spark-2.4.4-bin-hadoop2.7/jars/parquet-hadoop-1.10.1.jar\n",
            "spark-2.4.4-bin-hadoop2.7/jars/parquet-format-2.4.0.jar\n",
            "spark-2.4.4-bin-hadoop2.7/jars/parquet-encoding-1.10.1.jar\n",
            "spark-2.4.4-bin-hadoop2.7/jars/parquet-common-1.10.1.jar\n",
            "spark-2.4.4-bin-hadoop2.7/jars/parquet-column-1.10.1.jar\n",
            "spark-2.4.4-bin-hadoop2.7/jars/paranamer-2.8.jar\n",
            "spark-2.4.4-bin-hadoop2.7/jars/osgi-resource-locator-1.0.1.jar\n",
            "spark-2.4.4-bin-hadoop2.7/jars/oro-2.0.8.jar\n",
            "spark-2.4.4-bin-hadoop2.7/jars/orc-shims-1.5.5.jar\n",
            "spark-2.4.4-bin-hadoop2.7/jars/orc-mapreduce-1.5.5-nohive.jar\n",
            "spark-2.4.4-bin-hadoop2.7/jars/orc-core-1.5.5-nohive.jar\n",
            "spark-2.4.4-bin-hadoop2.7/jars/opencsv-2.3.jar\n",
            "spark-2.4.4-bin-hadoop2.7/jars/okio-1.13.0.jar\n",
            "spark-2.4.4-bin-hadoop2.7/jars/okhttp-3.8.1.jar\n",
            "spark-2.4.4-bin-hadoop2.7/jars/objenesis-2.5.1.jar\n",
            "spark-2.4.4-bin-hadoop2.7/jars/netty-all-4.1.17.Final.jar\n",
            "spark-2.4.4-bin-hadoop2.7/jars/netty-3.9.9.Final.jar\n",
            "spark-2.4.4-bin-hadoop2.7/jars/minlog-1.3.0.jar\n",
            "spark-2.4.4-bin-hadoop2.7/jars/metrics-jvm-3.1.5.jar\n",
            "spark-2.4.4-bin-hadoop2.7/jars/metrics-json-3.1.5.jar\n",
            "spark-2.4.4-bin-hadoop2.7/jars/metrics-graphite-3.1.5.jar\n",
            "spark-2.4.4-bin-hadoop2.7/jars/metrics-core-3.1.5.jar\n",
            "spark-2.4.4-bin-hadoop2.7/jars/mesos-1.4.0-shaded-protobuf.jar\n",
            "spark-2.4.4-bin-hadoop2.7/jars/macro-compat_2.11-1.1.1.jar\n",
            "spark-2.4.4-bin-hadoop2.7/jars/machinist_2.11-0.6.1.jar\n",
            "spark-2.4.4-bin-hadoop2.7/jars/lz4-java-1.4.0.jar\n",
            "spark-2.4.4-bin-hadoop2.7/jars/logging-interceptor-3.12.0.jar\n",
            "spark-2.4.4-bin-hadoop2.7/jars/log4j-1.2.17.jar\n",
            "spark-2.4.4-bin-hadoop2.7/jars/libthrift-0.9.3.jar\n",
            "spark-2.4.4-bin-hadoop2.7/jars/libfb303-0.9.3.jar\n",
            "spark-2.4.4-bin-hadoop2.7/jars/leveldbjni-all-1.8.jar\n",
            "spark-2.4.4-bin-hadoop2.7/jars/kubernetes-model-common-4.1.2.jar\n",
            "spark-2.4.4-bin-hadoop2.7/jars/kubernetes-model-4.1.2.jar\n",
            "spark-2.4.4-bin-hadoop2.7/jars/kubernetes-client-4.1.2.jar\n",
            "spark-2.4.4-bin-hadoop2.7/jars/kryo-shaded-4.0.2.jar\n",
            "spark-2.4.4-bin-hadoop2.7/jars/jul-to-slf4j-1.7.16.jar\n",
            "spark-2.4.4-bin-hadoop2.7/jars/jtransforms-2.4.0.jar\n",
            "spark-2.4.4-bin-hadoop2.7/jars/jta-1.1.jar\n",
            "spark-2.4.4-bin-hadoop2.7/jars/jsr305-1.3.9.jar\n",
            "spark-2.4.4-bin-hadoop2.7/jars/jsp-api-2.1.jar\n",
            "spark-2.4.4-bin-hadoop2.7/jars/json4s-scalap_2.11-3.5.3.jar\n",
            "spark-2.4.4-bin-hadoop2.7/jars/json4s-jackson_2.11-3.5.3.jar\n",
            "spark-2.4.4-bin-hadoop2.7/jars/json4s-core_2.11-3.5.3.jar\n",
            "spark-2.4.4-bin-hadoop2.7/jars/json4s-ast_2.11-3.5.3.jar\n",
            "spark-2.4.4-bin-hadoop2.7/jars/jpam-1.1.jar\n",
            "spark-2.4.4-bin-hadoop2.7/jars/jodd-core-3.5.2.jar\n",
            "spark-2.4.4-bin-hadoop2.7/jars/joda-time-2.9.3.jar\n",
            "spark-2.4.4-bin-hadoop2.7/jars/jline-2.14.6.jar\n",
            "spark-2.4.4-bin-hadoop2.7/jars/jetty-util-6.1.26.jar\n",
            "spark-2.4.4-bin-hadoop2.7/jars/jetty-6.1.26.jar\n",
            "spark-2.4.4-bin-hadoop2.7/jars/jersey-server-2.22.2.jar\n",
            "spark-2.4.4-bin-hadoop2.7/jars/jersey-media-jaxb-2.22.2.jar\n",
            "spark-2.4.4-bin-hadoop2.7/jars/jersey-guava-2.22.2.jar\n",
            "spark-2.4.4-bin-hadoop2.7/jars/jersey-container-servlet-core-2.22.2.jar\n",
            "spark-2.4.4-bin-hadoop2.7/jars/jersey-container-servlet-2.22.2.jar\n",
            "spark-2.4.4-bin-hadoop2.7/jars/jersey-common-2.22.2.jar\n",
            "spark-2.4.4-bin-hadoop2.7/jars/jersey-client-2.22.2.jar\n",
            "spark-2.4.4-bin-hadoop2.7/jars/jdo-api-3.0.1.jar\n",
            "spark-2.4.4-bin-hadoop2.7/jars/jcl-over-slf4j-1.7.16.jar\n",
            "spark-2.4.4-bin-hadoop2.7/jars/jaxb-api-2.2.2.jar\n",
            "spark-2.4.4-bin-hadoop2.7/jars/javolution-5.5.1.jar\n",
            "spark-2.4.4-bin-hadoop2.7/jars/javax.ws.rs-api-2.0.1.jar\n",
            "spark-2.4.4-bin-hadoop2.7/jars/javax.servlet-api-3.1.0.jar\n",
            "spark-2.4.4-bin-hadoop2.7/jars/javax.inject-2.4.0-b34.jar\n",
            "spark-2.4.4-bin-hadoop2.7/jars/javax.inject-1.jar\n",
            "spark-2.4.4-bin-hadoop2.7/jars/javax.annotation-api-1.2.jar\n",
            "spark-2.4.4-bin-hadoop2.7/jars/javassist-3.18.1-GA.jar\n",
            "spark-2.4.4-bin-hadoop2.7/jars/janino-3.0.9.jar\n",
            "spark-2.4.4-bin-hadoop2.7/jars/jackson-xc-1.9.13.jar\n",
            "spark-2.4.4-bin-hadoop2.7/jars/jackson-module-scala_2.11-2.6.7.1.jar\n",
            "spark-2.4.4-bin-hadoop2.7/jars/jackson-module-paranamer-2.7.9.jar\n",
            "spark-2.4.4-bin-hadoop2.7/jars/jackson-module-jaxb-annotations-2.6.7.jar\n",
            "spark-2.4.4-bin-hadoop2.7/RELEASE\n"
          ],
          "name": "stdout"
        }
      ]
    },
    {
      "cell_type": "markdown",
      "metadata": {
        "id": "qQq64BehowcQ",
        "colab_type": "text"
      },
      "source": [
        "# Importing Neccessary Packages"
      ]
    },
    {
      "cell_type": "code",
      "metadata": {
        "id": "w8tF7l4t7p4O",
        "colab_type": "code",
        "colab": {}
      },
      "source": [
        "# time\n",
        "import time\n",
        "\n",
        "# os \n",
        "import os\n",
        "os.environ[\"JAVA_HOME\"] = \"/usr/lib/jvm/java-8-openjdk-amd64\"\n",
        "os.environ[\"SPARK_HOME\"] = \"/content/spark-2.4.4-bin-hadoop2.7\"\n",
        "\n",
        "# data science imports\n",
        "import math\n",
        "import numpy as np\n",
        "import pandas as pd\n",
        "\n",
        "\n",
        "#from scipy.sparse import csr_matrix\n",
        "#from urllib.request import urlopen\n",
        "\n",
        "# utils import\n",
        "#!pip install fuzzywuzzy\n",
        "#from fuzzywuzzy import fuzz\n",
        "\n",
        "# visualization imports\n",
        "import seaborn as sns\n",
        "import matplotlib.pyplot as plt\n",
        "plt.style.use('ggplot')\n",
        "\n",
        "import findspark\n",
        "findspark.init()\n",
        "\n",
        "from pyspark import SparkContext\n",
        "from pyspark.sql import SparkSession, SQLContext, Row\n",
        "from pyspark.sql.functions import UserDefinedFunction, explode, desc, col, lower, lit\n",
        "from pyspark.sql.types import StringType, ArrayType\n",
        "\n",
        "from pyspark.ml.recommendation import ALS\n",
        "from pyspark.ml.tuning import TrainValidationSplit, ParamGridBuilder\n",
        "from pyspark.ml.evaluation import RegressionEvaluator\n",
        "\n",
        "spark = SparkSession.builder.master(\"local[*]\").getOrCreate()\n",
        "\n",
        "%matplotlib inline"
      ],
      "execution_count": 0,
      "outputs": []
    },
    {
      "cell_type": "code",
      "metadata": {
        "id": "mzmwtVpR6rka",
        "colab_type": "code",
        "colab": {}
      },
      "source": [
        "# spark config\n",
        "spark = SparkSession \\\n",
        "    .builder \\\n",
        "    .appName(\"movie recommendation\") \\\n",
        "    .config(\"spark.driver.maxResultSize\", \"96g\") \\\n",
        "    .config(\"spark.driver.memory\", \"96g\") \\\n",
        "    .config(\"spark.executor.memory\", \"8g\") \\\n",
        "    .config(\"spark.master\", \"local[12]\") \\\n",
        "    .getOrCreate()\n",
        "# get spark context\n",
        "sc = spark.sparkContext\n",
        "from pyspark.sql import SQLContext\n",
        "sqlContext = SQLContext(sc)\n",
        "# mergeSQL = sqlContext.createDataFrame(mergeDF)"
      ],
      "execution_count": 0,
      "outputs": []
    },
    {
      "cell_type": "markdown",
      "metadata": {
        "id": "wIgdbqfhpo0i",
        "colab_type": "text"
      },
      "source": [
        "# Loading the Datasets"
      ]
    },
    {
      "cell_type": "code",
      "metadata": {
        "id": "WSt-a1q-7yOa",
        "colab_type": "code",
        "outputId": "49e3c61a-21ce-4ebb-9fed-ec6116408736",
        "colab": {
          "base_uri": "https://localhost:8080/",
          "height": 107
        }
      },
      "source": [
        "### loading the movie dataset\n",
        "movie_fname = 'https://raw.githubusercontent.com/lazysimon/NYCDSA_CapstoneProject/master/latest/movies.dat'\n",
        "movieDF = pd.read_csv(movie_fname, sep='::', header='infer', skipinitialspace=True,names = [\"MovieId\",\"Movie_Title\",\"Genres\"])\n",
        "movieDF = movieDF.drop('Genres', 1)\n",
        "\n",
        "### loading the rating dataset\n",
        "rating_fname = 'https://raw.githubusercontent.com/lazysimon/NYCDSA_CapstoneProject/master/latest/ratings.dat'\n",
        "ratingDF = pd.read_csv(rating_fname, sep='::', header='infer', skipinitialspace=True,names = [\"UserId\", \"MovieId\", \"Rating\", \"Timestamp\"])\n",
        "ratingDF = ratingDF.drop('Timestamp',1)"
      ],
      "execution_count": 4,
      "outputs": [
        {
          "output_type": "stream",
          "text": [
            "/usr/local/lib/python3.6/dist-packages/ipykernel_launcher.py:2: ParserWarning: Falling back to the 'python' engine because the 'c' engine does not support regex separators (separators > 1 char and different from '\\s+' are interpreted as regex); you can avoid this warning by specifying engine='python'.\n",
            "  \n",
            "/usr/local/lib/python3.6/dist-packages/ipykernel_launcher.py:7: ParserWarning: Falling back to the 'python' engine because the 'c' engine does not support regex separators (separators > 1 char and different from '\\s+' are interpreted as regex); you can avoid this warning by specifying engine='python'.\n",
            "  import sys\n"
          ],
          "name": "stderr"
        }
      ]
    },
    {
      "cell_type": "code",
      "metadata": {
        "id": "rfIpxrDN9Q9L",
        "colab_type": "code",
        "colab": {
          "base_uri": "https://localhost:8080/",
          "height": 227
        },
        "outputId": "31228beb-925a-49d1-9500-35c45cc03a58"
      },
      "source": [
        "### print the first five rows of the two datasets\n",
        "print(movieDF.head(5))\n",
        "print(ratingDF.head(5))"
      ],
      "execution_count": 5,
      "outputs": [
        {
          "output_type": "stream",
          "text": [
            "   MovieId                                        Movie_Title\n",
            "0        8      Edison Kinetoscopic Record of a Sneeze (1894)\n",
            "1       10                La sortie des usines Lumière (1895)\n",
            "2       12                      The Arrival of a Train (1896)\n",
            "3       25  The Oxford and Cambridge University Boat Race ...\n",
            "4       91                         Le manoir du diable (1896)\n",
            "   UserId  MovieId  Rating\n",
            "0       1   111161      10\n",
            "1       1   117060       7\n",
            "2       1   120755       6\n",
            "3       1   317919       6\n",
            "4       1   454876      10\n"
          ],
          "name": "stdout"
        }
      ]
    },
    {
      "cell_type": "code",
      "metadata": {
        "id": "O5rKAp8X9fPy",
        "colab_type": "code",
        "colab": {}
      },
      "source": [
        "### convert the dataframes to spark.RDD\n",
        "ratingRDD = sqlContext.createDataFrame(ratingDF)\n",
        "ratingRDD = ratingRDD.selectExpr(\"UserId as user\",\"MovieId as item\",\"Rating as rating\")\n",
        "\n",
        "movieRDD = sqlContext.createDataFrame(movieDF)\n",
        "movieRDD = movieRDD.selectExpr(\"MovieId as item\",\"Movie_title as title\")"
      ],
      "execution_count": 0,
      "outputs": []
    },
    {
      "cell_type": "code",
      "metadata": {
        "id": "4_LZvhei_aR-",
        "colab_type": "code",
        "colab": {
          "base_uri": "https://localhost:8080/",
          "height": 69
        },
        "outputId": "28a7c3c1-c1a7-4d28-beac-537f8f66a429"
      },
      "source": [
        "print(\"Number of movies: {}\".format(movieRDD.count()))\n",
        "print(\"Number of ratings: {}\".format(ratingRDD.count()))\n",
        "print(\"Number of users: {}\".format(ratingRDD.select('user').distinct().count()))"
      ],
      "execution_count": 7,
      "outputs": [
        {
          "output_type": "stream",
          "text": [
            "Number of movies: 34000\n",
            "Number of ratings: 801291\n",
            "Number of users: 59168\n"
          ],
          "name": "stdout"
        }
      ]
    },
    {
      "cell_type": "code",
      "metadata": {
        "id": "Zwao8Etr9YrF",
        "colab_type": "code",
        "colab": {
          "base_uri": "https://localhost:8080/",
          "height": 962
        },
        "outputId": "1f94c067-2b38-4b08-d668-2ac0b17a97bf"
      },
      "source": [
        "### print the first five rows of the two RDDs\n",
        "print(ratingRDD.show())\n",
        "print(movieRDD.show())"
      ],
      "execution_count": 8,
      "outputs": [
        {
          "output_type": "stream",
          "text": [
            "+----+-------+------+\n",
            "|user|   item|rating|\n",
            "+----+-------+------+\n",
            "|   1| 111161|    10|\n",
            "|   1| 117060|     7|\n",
            "|   1| 120755|     6|\n",
            "|   1| 317919|     6|\n",
            "|   1| 454876|    10|\n",
            "|   1| 790724|     8|\n",
            "|   1| 882977|     8|\n",
            "|   1|1229238|     9|\n",
            "|   1|1288558|     5|\n",
            "|   1|1300854|     8|\n",
            "|   1|1483013|     6|\n",
            "|   1|1583421|     7|\n",
            "|   1|1588173|     9|\n",
            "|   1|1711425|     3|\n",
            "|   1|2024432|     8|\n",
            "|   1|2053463|     8|\n",
            "|   1|2101341|     7|\n",
            "|   1|2101441|     1|\n",
            "|   1|2302755|    10|\n",
            "|   2| 422720|     8|\n",
            "+----+-------+------+\n",
            "only showing top 20 rows\n",
            "\n",
            "None\n",
            "+----+--------------------+\n",
            "|item|               title|\n",
            "+----+--------------------+\n",
            "|   8|Edison Kinetoscop...|\n",
            "|  10|La sortie des usi...|\n",
            "|  12|The Arrival of a ...|\n",
            "|  25|The Oxford and Ca...|\n",
            "|  91|Le manoir du diab...|\n",
            "| 131|Une nuit terrible...|\n",
            "| 417|Le voyage dans la...|\n",
            "| 439|The Great Train R...|\n",
            "| 443|Hiawatha, the Mes...|\n",
            "| 628|The Adventures of...|\n",
            "| 833|The Country Docto...|\n",
            "|1223| Frankenstein (1910)|\n",
            "|1740|The Lonedale Oper...|\n",
            "|2101|    Cleopatra (1912)|\n",
            "|2130|    L'inferno (1911)|\n",
            "|2354|Max et Jane veule...|\n",
            "|2844|Fantômas - À l'om...|\n",
            "|3740|      Cabiria (1914)|\n",
            "|3863|Dough and Dynamit...|\n",
            "|4099|His Majesty, the ...|\n",
            "+----+--------------------+\n",
            "only showing top 20 rows\n",
            "\n",
            "None\n"
          ],
          "name": "stdout"
        }
      ]
    },
    {
      "cell_type": "code",
      "metadata": {
        "id": "qEpCCHjr65OK",
        "colab_type": "code",
        "colab": {}
      },
      "source": [
        "def split_sets(ratings, proportions):\n",
        "    split = ratings.randomSplit(proportions, seed=42)\n",
        "    return {'training': split[0], 'validation': split[1], 'test': split[2]}\n",
        "  \n",
        "def calc_se(rating, user_factor, item_factor):\n",
        "    \"\"\"Squared Error (SE) for a single rating and prediction\"\"\"\n",
        "    prediction = user_factor.T.dot(item_factor)\n",
        "    return (rating - prediction) ** 2"
      ],
      "execution_count": 0,
      "outputs": []
    },
    {
      "cell_type": "code",
      "metadata": {
        "id": "2qYpWw4X_sHN",
        "colab_type": "code",
        "colab": {
          "base_uri": "https://localhost:8080/",
          "height": 286
        },
        "outputId": "0ea0c666-6cfe-4aca-d70b-946053f9cf45"
      },
      "source": [
        "import seaborn as sns\n",
        "\n",
        "r = ratingRDD.select('rating').collect()\n",
        "sns.distplot(r, kde=False)"
      ],
      "execution_count": 10,
      "outputs": [
        {
          "output_type": "execute_result",
          "data": {
            "text/plain": [
              "<matplotlib.axes._subplots.AxesSubplot at 0x7fb87ea22390>"
            ]
          },
          "metadata": {
            "tags": []
          },
          "execution_count": 10
        },
        {
          "output_type": "display_data",
          "data": {
            "image/png": "[encoded data removed]",
            "text/plain": [
              "<Figure size 432x288 with 1 Axes>"
            ]
          },
          "metadata": {
            "tags": []
          }
        }
      ]
    },
    {
      "cell_type": "code",
      "metadata": {
        "id": "I-MS5t1iAHwD",
        "colab_type": "code",
        "colab": {
          "base_uri": "https://localhost:8080/",
          "height": 339
        },
        "outputId": "d7a0994b-37a0-4a6d-cb59-0ee59a861288"
      },
      "source": [
        "ratings_per_user = ratingRDD.groupBy(\"user\").count()\n",
        "sns.distplot(ratings_per_user.select(\"count\").collect(), hist_kws={'log':True}, kde_kws={'clip': (1.0, 3000.0)})"
      ],
      "execution_count": 11,
      "outputs": [
        {
          "output_type": "stream",
          "text": [
            "/usr/local/lib/python3.6/dist-packages/seaborn/distributions.py:340: UserWarning: Attempted to set non-positive bottom ylim on a log-scaled axis.\n",
            "Invalid limit will be ignored.\n",
            "  ax.set_ylim(0, auto=None)\n"
          ],
          "name": "stderr"
        },
        {
          "output_type": "execute_result",
          "data": {
            "text/plain": [
              "<matplotlib.axes._subplots.AxesSubplot at 0x7fb87360b6d8>"
            ]
          },
          "metadata": {
            "tags": []
          },
          "execution_count": 11
        },
        {
          "output_type": "display_data",
          "data": {
            "image/png": "[encoded data removed]",
            "text/plain": [
              "<Figure size 432x288 with 1 Axes>"
            ]
          },
          "metadata": {
            "tags": []
          }
        }
      ]
    },
    {
      "cell_type": "code",
      "metadata": {
        "id": "ModoCVxr9ug1",
        "colab_type": "code",
        "outputId": "3a5d7fbb-ebe9-493c-8ad7-b71c6450de8f",
        "colab": {
          "base_uri": "https://localhost:8080/",
          "height": 69
        }
      },
      "source": [
        "sets = split_sets(ratingRDD, [0.63212056, 0.1839397, 0.1839397])\n",
        "print(\"Training dataset size = {}\".format(sets['training'].count()))\n",
        "print(\"Validation dataset size = {}\".format(sets['validation'].count()))\n",
        "print(\"Test dataset size = {}\".format(sets['test'].count()))"
      ],
      "execution_count": 12,
      "outputs": [
        {
          "output_type": "stream",
          "text": [
            "Training dataset size = 506226\n",
            "Validation dataset size = 148042\n",
            "Test dataset size = 147023\n"
          ],
          "name": "stdout"
        }
      ]
    },
    {
      "cell_type": "code",
      "metadata": {
        "id": "nXyHYw-9Ayd8",
        "colab_type": "code",
        "colab": {
          "base_uri": "https://localhost:8080/",
          "height": 122
        },
        "outputId": "0819299e-eb81-425f-b7f2-d986859e00ad"
      },
      "source": [
        "ratings_per_user.filter(col('count') > 1000).groupBy('user').count().agg({\"count\":\"sum\"}).show()"
      ],
      "execution_count": 13,
      "outputs": [
        {
          "output_type": "stream",
          "text": [
            "+----------+\n",
            "|sum(count)|\n",
            "+----------+\n",
            "|        14|\n",
            "+----------+\n",
            "\n"
          ],
          "name": "stdout"
        }
      ]
    },
    {
      "cell_type": "code",
      "metadata": {
        "id": "6uv1TXyoA-G-",
        "colab_type": "code",
        "colab": {
          "base_uri": "https://localhost:8080/",
          "height": 122
        },
        "outputId": "1f115116-ae93-4a3f-9a13-4b4d91b24ca4"
      },
      "source": [
        "ratings_per_user.filter(col('count') < 100).groupBy('user').count().agg({\"count\":\"sum\"}).show()"
      ],
      "execution_count": 14,
      "outputs": [
        {
          "output_type": "stream",
          "text": [
            "+----------+\n",
            "|sum(count)|\n",
            "+----------+\n",
            "|     57554|\n",
            "+----------+\n",
            "\n"
          ],
          "name": "stdout"
        }
      ]
    },
    {
      "cell_type": "code",
      "metadata": {
        "id": "rMFBqaZhP0i9",
        "colab_type": "code",
        "colab": {
          "base_uri": "https://localhost:8080/",
          "height": 339
        },
        "outputId": "912d28e9-1389-4abf-ec7a-e7c65db6e31c"
      },
      "source": [
        "ratings_per_movie = ratingRDD.groupBy(\"item\").count()\n",
        "sns.distplot(ratings_per_movie.select(\"count\").collect(), hist_kws={'log':True}, kde_kws={'clip': (0, 3000.0)})"
      ],
      "execution_count": 16,
      "outputs": [
        {
          "output_type": "stream",
          "text": [
            "/usr/local/lib/python3.6/dist-packages/seaborn/distributions.py:340: UserWarning: Attempted to set non-positive bottom ylim on a log-scaled axis.\n",
            "Invalid limit will be ignored.\n",
            "  ax.set_ylim(0, auto=None)\n"
          ],
          "name": "stderr"
        },
        {
          "output_type": "execute_result",
          "data": {
            "text/plain": [
              "<matplotlib.axes._subplots.AxesSubplot at 0x7fb8733ee2e8>"
            ]
          },
          "metadata": {
            "tags": []
          },
          "execution_count": 16
        },
        {
          "output_type": "display_data",
          "data": {
            "image/png": "[encoded data removed]",
            "text/plain": [
              "<Figure size 432x288 with 1 Axes>"
            ]
          },
          "metadata": {
            "tags": []
          }
        }
      ]
    },
    {
      "cell_type": "code",
      "metadata": {
        "id": "Z0i0fuG7JQmN",
        "colab_type": "code",
        "colab": {
          "base_uri": "https://localhost:8080/",
          "height": 122
        },
        "outputId": "11108399-a253-459f-b66a-cdf6972f326f"
      },
      "source": [
        "ratings_per_movie.filter(col('count') < 2).groupBy('item').count().agg({\"count\":\"sum\"}).show()"
      ],
      "execution_count": 17,
      "outputs": [
        {
          "output_type": "stream",
          "text": [
            "+----------+\n",
            "|sum(count)|\n",
            "+----------+\n",
            "|     14300|\n",
            "+----------+\n",
            "\n"
          ],
          "name": "stdout"
        }
      ]
    },
    {
      "cell_type": "code",
      "metadata": {
        "id": "bw-mJ1H17DgZ",
        "colab_type": "code",
        "outputId": "fade7d3a-f4f9-414e-9d8a-7769b4e516c3",
        "colab": {
          "base_uri": "https://localhost:8080/",
          "height": 297
        }
      },
      "source": [
        "sets['training'].show(10)"
      ],
      "execution_count": 18,
      "outputs": [
        {
          "output_type": "stream",
          "text": [
            "+----+-------+------+\n",
            "|user|   item|rating|\n",
            "+----+-------+------+\n",
            "|   1| 454876|    10|\n",
            "|   1| 790724|     8|\n",
            "|   1| 882977|     8|\n",
            "|   1|1229238|     9|\n",
            "|   1|1288558|     5|\n",
            "|   1|1483013|     6|\n",
            "|   1|1583421|     7|\n",
            "|   1|1588173|     9|\n",
            "|   1|2024432|     8|\n",
            "|   1|2053463|     8|\n",
            "+----+-------+------+\n",
            "only showing top 10 rows\n",
            "\n"
          ],
          "name": "stdout"
        }
      ]
    },
    {
      "cell_type": "code",
      "metadata": {
        "id": "zr1KaI8y912F",
        "colab_type": "code",
        "outputId": "dd5e7a76-0ed2-4680-f577-036b44ad7c85",
        "colab": {
          "base_uri": "https://localhost:8080/",
          "height": 87
        }
      },
      "source": [
        "### Parameter tuning\n",
        "als = ALS(coldStartStrategy=\"drop\")\n",
        "\n",
        "param_grid = ParamGridBuilder() \\\n",
        "    .addGrid(als.rank, [6, 8]) \\\n",
        "    .addGrid(als.maxIter,[10, 12]) \\\n",
        "    .build()\n",
        "\n",
        "evaluator = RegressionEvaluator(\n",
        "    metricName=\"mse\",\n",
        "    labelCol=\"rating\",\n",
        "    predictionCol=\"prediction\")\n",
        "\n",
        "tvs = TrainValidationSplit(\n",
        "    estimator=als,\n",
        "    estimatorParamMaps=param_grid,\n",
        "    evaluator=evaluator,\n",
        ")\n",
        "\n",
        "%time model = tvs.fit(sets['training'])\n",
        "\n",
        "print(\"Best rank = {}\".format(model.bestModel.rank))\n",
        "print(\"Best maxIter = {}\".format(model.bestModel._java_obj.parent().getMaxIter()))"
      ],
      "execution_count": 19,
      "outputs": [
        {
          "output_type": "stream",
          "text": [
            "CPU times: user 651 ms, sys: 142 ms, total: 793 ms\n",
            "Wall time: 1min 40s\n",
            "Best rank = 6\n",
            "Best maxIter = 12\n"
          ],
          "name": "stdout"
        }
      ]
    },
    {
      "cell_type": "code",
      "metadata": {
        "id": "uEHai4-W98oC",
        "colab_type": "code",
        "outputId": "a86c6d90-8dfc-462d-f10f-f4fbb2d9e6d3",
        "colab": {
          "base_uri": "https://localhost:8080/",
          "height": 1000
        }
      },
      "source": [
        "from pyspark.sql.functions import col\n",
        "prediction = model.transform(sets['test'])\n",
        "# movieRDD = movieRDD.selectExpr(\"UserId as user\",\"MovieId as item\",\"Rating as rating\")\n",
        "\n",
        "prediction.alias('p').join(movieRDD.alias('m'), col('p.item') == col('m.item')) \\\n",
        "    .select([col('p.user'), col('m.title'), col('p.prediction'), col('p.rating')]).show(100, truncate=False)"
      ],
      "execution_count": 20,
      "outputs": [
        {
          "output_type": "stream",
          "text": [
            "+-----+--------------------------------------+----------+------+\n",
            "|user |title                                 |prediction|rating|\n",
            "+-----+--------------------------------------+----------+------+\n",
            "|21563|Only Angels Have Wings (1939)         |4.6387353 |9     |\n",
            "|41579|The Lost Weekend (1945)               |7.7722406 |9     |\n",
            "|27802|The Lost Weekend (1945)               |7.8332944 |8     |\n",
            "|30478|The Lost Weekend (1945)               |8.908277  |9     |\n",
            "|10478|The Lost Weekend (1945)               |10.058904 |9     |\n",
            "|41281|Lady and the Tramp (1955)             |6.1701107 |7     |\n",
            "|3833 |Lady and the Tramp (1955)             |8.620272  |9     |\n",
            "|58043|Lady and the Tramp (1955)             |7.4901013 |7     |\n",
            "|40048|Lady and the Tramp (1955)             |7.7559667 |9     |\n",
            "|37987|Lady and the Tramp (1955)             |7.8550167 |3     |\n",
            "|17310|Lady and the Tramp (1955)             |8.435482  |8     |\n",
            "|36036|Lady and the Tramp (1955)             |7.44176   |8     |\n",
            "|58054|The Blob (1958)                       |6.687328  |6     |\n",
            "|45816|The Blob (1958)                       |6.253523  |7     |\n",
            "|33966|On Her Majesty's Secret Service (1969)|6.8173776 |5     |\n",
            "|1752 |On Her Majesty's Secret Service (1969)|5.7736444 |4     |\n",
            "|55657|On Her Majesty's Secret Service (1969)|7.606313  |9     |\n",
            "|17656|On Her Majesty's Secret Service (1969)|7.0142775 |7     |\n",
            "|22191|On Her Majesty's Secret Service (1969)|7.4054832 |6     |\n",
            "|39466|On Her Majesty's Secret Service (1969)|5.9583006 |6     |\n",
            "|59021|On Her Majesty's Secret Service (1969)|7.063379  |5     |\n",
            "|10957|On Her Majesty's Secret Service (1969)|6.6934705 |10    |\n",
            "|47863|On Her Majesty's Secret Service (1969)|6.808136  |7     |\n",
            "|18871|On Her Majesty's Secret Service (1969)|8.107351  |8     |\n",
            "|27006|On Her Majesty's Secret Service (1969)|7.150139  |9     |\n",
            "|43746|The Rain People (1969)                |6.4369054 |7     |\n",
            "|44124|Beneath the Planet of the Apes (1970) |4.747552  |7     |\n",
            "|9978 |Beneath the Planet of the Apes (1970) |7.355591  |7     |\n",
            "|16870|Woodstock (1970)                      |8.755027  |8     |\n",
            "|19204|The Great Gatsby (1974)               |4.3994656 |4     |\n",
            "|16348|The Great Gatsby (1974)               |7.215478  |7     |\n",
            "|9165 |The Eiger Sanction (1975)             |7.5044513 |8     |\n",
            "|18013|The Eiger Sanction (1975)             |6.7429504 |4     |\n",
            "|12660|The Eiger Sanction (1975)             |6.6660185 |7     |\n",
            "|34716|Family Plot (1976)                    |5.4342184 |7     |\n",
            "|11523|Family Plot (1976)                    |7.5403557 |7     |\n",
            "|46958|Quel maledetto treno blindato (1978)  |7.183564  |7     |\n",
            "|23794|Ran (1985)                            |8.34061   |9     |\n",
            "|54782|Ran (1985)                            |7.94461   |8     |\n",
            "|25459|Ran (1985)                            |8.775183  |9     |\n",
            "|42448|Ran (1985)                            |8.021546  |8     |\n",
            "|4224 |Ran (1985)                            |7.8679447 |7     |\n",
            "|48606|Ran (1985)                            |8.344209  |9     |\n",
            "|55046|Ran (1985)                            |9.05183   |9     |\n",
            "|46321|Ran (1985)                            |8.392508  |9     |\n",
            "|37481|Dirty Rotten Scoundrels (1988)        |7.3612604 |7     |\n",
            "|42498|Dirty Rotten Scoundrels (1988)        |7.0304585 |8     |\n",
            "|38606|Dirty Rotten Scoundrels (1988)        |6.7632093 |9     |\n",
            "|12824|Dirty Rotten Scoundrels (1988)        |5.4026494 |8     |\n",
            "|43263|Dirty Rotten Scoundrels (1988)        |7.565222  |8     |\n",
            "|36886|Dirty Rotten Scoundrels (1988)        |6.965994  |9     |\n",
            "|19204|The 'Burbs (1989)                     |5.2873516 |4     |\n",
            "|27327|The 'Burbs (1989)                     |8.158389  |9     |\n",
            "|45591|The 'Burbs (1989)                     |4.9768567 |9     |\n",
            "|36978|The 'Burbs (1989)                     |7.1091127 |6     |\n",
            "|31206|The 'Burbs (1989)                     |6.0166297 |10    |\n",
            "|14697|The 'Burbs (1989)                     |9.491915  |10    |\n",
            "|17369|The 'Burbs (1989)                     |6.516524  |10    |\n",
            "|33792|The 'Burbs (1989)                     |10.090683 |10    |\n",
            "|8878 |The 'Burbs (1989)                     |7.622129  |6     |\n",
            "|44486|The 'Burbs (1989)                     |6.5074463 |8     |\n",
            "|24772|The 'Burbs (1989)                     |8.1681795 |10    |\n",
            "|30685|The 'Burbs (1989)                     |7.793174  |10    |\n",
            "|27118|Do the Right Thing (1989)             |7.9002953 |8     |\n",
            "|39479|Do the Right Thing (1989)             |7.9615526 |8     |\n",
            "|6690 |Do the Right Thing (1989)             |7.8522    |9     |\n",
            "|3349 |Do the Right Thing (1989)             |9.4895115 |8     |\n",
            "|42881|Do the Right Thing (1989)             |6.8233953 |7     |\n",
            "|18013|Do the Right Thing (1989)             |8.939685  |8     |\n",
            "|69   |Do the Right Thing (1989)             |8.05231   |9     |\n",
            "|43643|Do the Right Thing (1989)             |8.114077  |8     |\n",
            "|26505|Do the Right Thing (1989)             |6.1499767 |5     |\n",
            "|52152|Do the Right Thing (1989)             |8.800685  |8     |\n",
            "|43488|Do the Right Thing (1989)             |6.2176995 |6     |\n",
            "|48464|Do the Right Thing (1989)             |7.3251195 |8     |\n",
            "|10726|Do the Right Thing (1989)             |6.3706913 |7     |\n",
            "|8559 |Do the Right Thing (1989)             |7.6846356 |8     |\n",
            "|42847|Do the Right Thing (1989)             |8.365897  |8     |\n",
            "|46330|Another 48 Hrs. (1990)                |6.799124  |6     |\n",
            "|41011|Boyz n the Hood (1991)                |8.50453   |8     |\n",
            "|33948|Boyz n the Hood (1991)                |8.259497  |8     |\n",
            "|51182|Boyz n the Hood (1991)                |7.6368847 |7     |\n",
            "|50362|Boyz n the Hood (1991)                |6.9191694 |8     |\n",
            "|31406|Boyz n the Hood (1991)                |6.306419  |8     |\n",
            "|24207|Boyz n the Hood (1991)                |6.565997  |5     |\n",
            "|36517|Boyz n the Hood (1991)                |7.6839604 |7     |\n",
            "|24835|Boyz n the Hood (1991)                |8.422593  |8     |\n",
            "|52272|Boyz n the Hood (1991)                |8.361648  |4     |\n",
            "|12419|Boyz n the Hood (1991)                |8.092627  |8     |\n",
            "|13678|Boyz n the Hood (1991)                |6.279376  |10    |\n",
            "|5249 |Boyz n the Hood (1991)                |7.4842124 |8     |\n",
            "|32485|Boyz n the Hood (1991)                |8.611793  |9     |\n",
            "|43643|Boyz n the Hood (1991)                |8.855275  |8     |\n",
            "|889  |Boyz n the Hood (1991)                |8.184448  |8     |\n",
            "|24206|Boyz n the Hood (1991)                |9.434654  |10    |\n",
            "|20745|Boyz n the Hood (1991)                |7.958047  |7     |\n",
            "|44486|Boyz n the Hood (1991)                |8.614505  |9     |\n",
            "|14652|Boyz n the Hood (1991)                |8.346319  |9     |\n",
            "|2746 |Boyz n the Hood (1991)                |7.869906  |5     |\n",
            "|50919|Heavenly Creatures (1994)             |8.129432  |9     |\n",
            "+-----+--------------------------------------+----------+------+\n",
            "only showing top 100 rows\n",
            "\n"
          ],
          "name": "stdout"
        }
      ]
    },
    {
      "cell_type": "code",
      "metadata": {
        "id": "0Go4PTwdDTGt",
        "colab_type": "code",
        "outputId": "b17b832e-426a-486c-b363-a009eeee59cd",
        "colab": {
          "base_uri": "https://localhost:8080/",
          "height": 286
        }
      },
      "source": [
        "errors = prediction.withColumn('error', col('prediction')-col('rating')).select('error').collect()\n",
        "ax = sns.distplot(errors, rug=True, hist=True)\n",
        "ax.set_xlim(0, 10)"
      ],
      "execution_count": 21,
      "outputs": [
        {
          "output_type": "execute_result",
          "data": {
            "text/plain": [
              "(0, 10)"
            ]
          },
          "metadata": {
            "tags": []
          },
          "execution_count": 21
        },
        {
          "output_type": "display_data",
          "data": {
            "image/png": "[encoded data removed]",
            "text/plain": [
              "<Figure size 432x288 with 1 Axes>"
            ]
          },
          "metadata": {
            "tags": []
          }
        }
      ]
    },
    {
      "cell_type": "code",
      "metadata": {
        "id": "ZBUtfFwW-Abe",
        "colab_type": "code",
        "outputId": "6115e27f-f08d-42f9-b6b9-622495f23ceb",
        "colab": {
          "base_uri": "https://localhost:8080/",
          "height": 34
        }
      },
      "source": [
        "mse = evaluator.evaluate(prediction)\n",
        "print(\"MSE = {}\".format(mse))"
      ],
      "execution_count": 23,
      "outputs": [
        {
          "output_type": "stream",
          "text": [
            "MSE = 2.662087108654272\n"
          ],
          "name": "stdout"
        }
      ]
    },
    {
      "cell_type": "code",
      "metadata": {
        "id": "Xd2bVqDKFc75",
        "colab_type": "code",
        "outputId": "be1a1e05-dbcc-409c-ca3a-01e60414a5cd",
        "colab": {
          "base_uri": "https://localhost:8080/",
          "height": 331
        }
      },
      "source": [
        "# top 10 movies for all users\n",
        "k = 10 \n",
        "model.bestModel.recommendForAllUsers(k).show(10)"
      ],
      "execution_count": 24,
      "outputs": [
        {
          "output_type": "error",
          "ename": "KeyboardInterrupt",
          "evalue": "ignored",
          "traceback": [
            "\u001b[0;31m---------------------------------------------------------------------------\u001b[0m",
            "\u001b[0;31mKeyboardInterrupt\u001b[0m                         Traceback (most recent call last)",
            "\u001b[0;32m<ipython-input-24-e431150593d2>\u001b[0m in \u001b[0;36m<module>\u001b[0;34m()\u001b[0m\n\u001b[1;32m      1\u001b[0m \u001b[0mk\u001b[0m \u001b[0;34m=\u001b[0m \u001b[0;36m10\u001b[0m\u001b[0;34m\u001b[0m\u001b[0;34m\u001b[0m\u001b[0m\n\u001b[0;32m----> 2\u001b[0;31m \u001b[0mmodel\u001b[0m\u001b[0;34m.\u001b[0m\u001b[0mbestModel\u001b[0m\u001b[0;34m.\u001b[0m\u001b[0mrecommendForAllUsers\u001b[0m\u001b[0;34m(\u001b[0m\u001b[0mk\u001b[0m\u001b[0;34m)\u001b[0m\u001b[0;34m.\u001b[0m\u001b[0mshow\u001b[0m\u001b[0;34m(\u001b[0m\u001b[0;36m10\u001b[0m\u001b[0;34m)\u001b[0m\u001b[0;34m\u001b[0m\u001b[0;34m\u001b[0m\u001b[0m\n\u001b[0m",
            "\u001b[0;32m/content/spark-2.4.4-bin-hadoop2.7/python/pyspark/sql/dataframe.py\u001b[0m in \u001b[0;36mshow\u001b[0;34m(self, n, truncate, vertical)\u001b[0m\n\u001b[1;32m    378\u001b[0m         \"\"\"\n\u001b[1;32m    379\u001b[0m         \u001b[0;32mif\u001b[0m \u001b[0misinstance\u001b[0m\u001b[0;34m(\u001b[0m\u001b[0mtruncate\u001b[0m\u001b[0;34m,\u001b[0m \u001b[0mbool\u001b[0m\u001b[0;34m)\u001b[0m \u001b[0;32mand\u001b[0m \u001b[0mtruncate\u001b[0m\u001b[0;34m:\u001b[0m\u001b[0;34m\u001b[0m\u001b[0;34m\u001b[0m\u001b[0m\n\u001b[0;32m--> 380\u001b[0;31m             \u001b[0mprint\u001b[0m\u001b[0;34m(\u001b[0m\u001b[0mself\u001b[0m\u001b[0;34m.\u001b[0m\u001b[0m_jdf\u001b[0m\u001b[0;34m.\u001b[0m\u001b[0mshowString\u001b[0m\u001b[0;34m(\u001b[0m\u001b[0mn\u001b[0m\u001b[0;34m,\u001b[0m \u001b[0;36m20\u001b[0m\u001b[0;34m,\u001b[0m \u001b[0mvertical\u001b[0m\u001b[0;34m)\u001b[0m\u001b[0;34m)\u001b[0m\u001b[0;34m\u001b[0m\u001b[0;34m\u001b[0m\u001b[0m\n\u001b[0m\u001b[1;32m    381\u001b[0m         \u001b[0;32melse\u001b[0m\u001b[0;34m:\u001b[0m\u001b[0;34m\u001b[0m\u001b[0;34m\u001b[0m\u001b[0m\n\u001b[1;32m    382\u001b[0m             \u001b[0mprint\u001b[0m\u001b[0;34m(\u001b[0m\u001b[0mself\u001b[0m\u001b[0;34m.\u001b[0m\u001b[0m_jdf\u001b[0m\u001b[0;34m.\u001b[0m\u001b[0mshowString\u001b[0m\u001b[0;34m(\u001b[0m\u001b[0mn\u001b[0m\u001b[0;34m,\u001b[0m \u001b[0mint\u001b[0m\u001b[0;34m(\u001b[0m\u001b[0mtruncate\u001b[0m\u001b[0;34m)\u001b[0m\u001b[0;34m,\u001b[0m \u001b[0mvertical\u001b[0m\u001b[0;34m)\u001b[0m\u001b[0;34m)\u001b[0m\u001b[0;34m\u001b[0m\u001b[0;34m\u001b[0m\u001b[0m\n",
            "\u001b[0;32m/content/spark-2.4.4-bin-hadoop2.7/python/lib/py4j-0.10.7-src.zip/py4j/java_gateway.py\u001b[0m in \u001b[0;36m__call__\u001b[0;34m(self, *args)\u001b[0m\n\u001b[1;32m   1253\u001b[0m             \u001b[0mproto\u001b[0m\u001b[0;34m.\u001b[0m\u001b[0mEND_COMMAND_PART\u001b[0m\u001b[0;34m\u001b[0m\u001b[0;34m\u001b[0m\u001b[0m\n\u001b[1;32m   1254\u001b[0m \u001b[0;34m\u001b[0m\u001b[0m\n\u001b[0;32m-> 1255\u001b[0;31m         \u001b[0manswer\u001b[0m \u001b[0;34m=\u001b[0m \u001b[0mself\u001b[0m\u001b[0;34m.\u001b[0m\u001b[0mgateway_client\u001b[0m\u001b[0;34m.\u001b[0m\u001b[0msend_command\u001b[0m\u001b[0;34m(\u001b[0m\u001b[0mcommand\u001b[0m\u001b[0;34m)\u001b[0m\u001b[0;34m\u001b[0m\u001b[0;34m\u001b[0m\u001b[0m\n\u001b[0m\u001b[1;32m   1256\u001b[0m         return_value = get_return_value(\n\u001b[1;32m   1257\u001b[0m             answer, self.gateway_client, self.target_id, self.name)\n",
            "\u001b[0;32m/content/spark-2.4.4-bin-hadoop2.7/python/lib/py4j-0.10.7-src.zip/py4j/java_gateway.py\u001b[0m in \u001b[0;36msend_command\u001b[0;34m(self, command, retry, binary)\u001b[0m\n\u001b[1;32m    983\u001b[0m         \u001b[0mconnection\u001b[0m \u001b[0;34m=\u001b[0m \u001b[0mself\u001b[0m\u001b[0;34m.\u001b[0m\u001b[0m_get_connection\u001b[0m\u001b[0;34m(\u001b[0m\u001b[0;34m)\u001b[0m\u001b[0;34m\u001b[0m\u001b[0;34m\u001b[0m\u001b[0m\n\u001b[1;32m    984\u001b[0m         \u001b[0;32mtry\u001b[0m\u001b[0;34m:\u001b[0m\u001b[0;34m\u001b[0m\u001b[0;34m\u001b[0m\u001b[0m\n\u001b[0;32m--> 985\u001b[0;31m             \u001b[0mresponse\u001b[0m \u001b[0;34m=\u001b[0m \u001b[0mconnection\u001b[0m\u001b[0;34m.\u001b[0m\u001b[0msend_command\u001b[0m\u001b[0;34m(\u001b[0m\u001b[0mcommand\u001b[0m\u001b[0;34m)\u001b[0m\u001b[0;34m\u001b[0m\u001b[0;34m\u001b[0m\u001b[0m\n\u001b[0m\u001b[1;32m    986\u001b[0m             \u001b[0;32mif\u001b[0m \u001b[0mbinary\u001b[0m\u001b[0;34m:\u001b[0m\u001b[0;34m\u001b[0m\u001b[0;34m\u001b[0m\u001b[0m\n\u001b[1;32m    987\u001b[0m                 \u001b[0;32mreturn\u001b[0m \u001b[0mresponse\u001b[0m\u001b[0;34m,\u001b[0m \u001b[0mself\u001b[0m\u001b[0;34m.\u001b[0m\u001b[0m_create_connection_guard\u001b[0m\u001b[0;34m(\u001b[0m\u001b[0mconnection\u001b[0m\u001b[0;34m)\u001b[0m\u001b[0;34m\u001b[0m\u001b[0;34m\u001b[0m\u001b[0m\n",
            "\u001b[0;32m/content/spark-2.4.4-bin-hadoop2.7/python/lib/py4j-0.10.7-src.zip/py4j/java_gateway.py\u001b[0m in \u001b[0;36msend_command\u001b[0;34m(self, command)\u001b[0m\n\u001b[1;32m   1150\u001b[0m \u001b[0;34m\u001b[0m\u001b[0m\n\u001b[1;32m   1151\u001b[0m         \u001b[0;32mtry\u001b[0m\u001b[0;34m:\u001b[0m\u001b[0;34m\u001b[0m\u001b[0;34m\u001b[0m\u001b[0m\n\u001b[0;32m-> 1152\u001b[0;31m             \u001b[0manswer\u001b[0m \u001b[0;34m=\u001b[0m \u001b[0msmart_decode\u001b[0m\u001b[0;34m(\u001b[0m\u001b[0mself\u001b[0m\u001b[0;34m.\u001b[0m\u001b[0mstream\u001b[0m\u001b[0;34m.\u001b[0m\u001b[0mreadline\u001b[0m\u001b[0;34m(\u001b[0m\u001b[0;34m)\u001b[0m\u001b[0;34m[\u001b[0m\u001b[0;34m:\u001b[0m\u001b[0;34m-\u001b[0m\u001b[0;36m1\u001b[0m\u001b[0;34m]\u001b[0m\u001b[0;34m)\u001b[0m\u001b[0;34m\u001b[0m\u001b[0;34m\u001b[0m\u001b[0m\n\u001b[0m\u001b[1;32m   1153\u001b[0m             \u001b[0mlogger\u001b[0m\u001b[0;34m.\u001b[0m\u001b[0mdebug\u001b[0m\u001b[0;34m(\u001b[0m\u001b[0;34m\"Answer received: {0}\"\u001b[0m\u001b[0;34m.\u001b[0m\u001b[0mformat\u001b[0m\u001b[0;34m(\u001b[0m\u001b[0manswer\u001b[0m\u001b[0;34m)\u001b[0m\u001b[0;34m)\u001b[0m\u001b[0;34m\u001b[0m\u001b[0;34m\u001b[0m\u001b[0m\n\u001b[1;32m   1154\u001b[0m             \u001b[0;32mif\u001b[0m \u001b[0manswer\u001b[0m\u001b[0;34m.\u001b[0m\u001b[0mstartswith\u001b[0m\u001b[0;34m(\u001b[0m\u001b[0mproto\u001b[0m\u001b[0;34m.\u001b[0m\u001b[0mRETURN_MESSAGE\u001b[0m\u001b[0;34m)\u001b[0m\u001b[0;34m:\u001b[0m\u001b[0;34m\u001b[0m\u001b[0;34m\u001b[0m\u001b[0m\n",
            "\u001b[0;32m/usr/lib/python3.6/socket.py\u001b[0m in \u001b[0;36mreadinto\u001b[0;34m(self, b)\u001b[0m\n\u001b[1;32m    584\u001b[0m         \u001b[0;32mwhile\u001b[0m \u001b[0;32mTrue\u001b[0m\u001b[0;34m:\u001b[0m\u001b[0;34m\u001b[0m\u001b[0;34m\u001b[0m\u001b[0m\n\u001b[1;32m    585\u001b[0m             \u001b[0;32mtry\u001b[0m\u001b[0;34m:\u001b[0m\u001b[0;34m\u001b[0m\u001b[0;34m\u001b[0m\u001b[0m\n\u001b[0;32m--> 586\u001b[0;31m                 \u001b[0;32mreturn\u001b[0m \u001b[0mself\u001b[0m\u001b[0;34m.\u001b[0m\u001b[0m_sock\u001b[0m\u001b[0;34m.\u001b[0m\u001b[0mrecv_into\u001b[0m\u001b[0;34m(\u001b[0m\u001b[0mb\u001b[0m\u001b[0;34m)\u001b[0m\u001b[0;34m\u001b[0m\u001b[0;34m\u001b[0m\u001b[0m\n\u001b[0m\u001b[1;32m    587\u001b[0m             \u001b[0;32mexcept\u001b[0m \u001b[0mtimeout\u001b[0m\u001b[0;34m:\u001b[0m\u001b[0;34m\u001b[0m\u001b[0;34m\u001b[0m\u001b[0m\n\u001b[1;32m    588\u001b[0m                 \u001b[0mself\u001b[0m\u001b[0;34m.\u001b[0m\u001b[0m_timeout_occurred\u001b[0m \u001b[0;34m=\u001b[0m \u001b[0;32mTrue\u001b[0m\u001b[0;34m\u001b[0m\u001b[0;34m\u001b[0m\u001b[0m\n",
            "\u001b[0;31mKeyboardInterrupt\u001b[0m: "
          ]
        }
      ]
    },
    {
      "cell_type": "code",
      "metadata": {
        "id": "tG5nRYgaSO4A",
        "colab_type": "code",
        "colab": {}
      },
      "source": [
        "# top 10 users for all movies\n",
        "model.bestModel.recommendForAllItems(k).show(10)"
      ],
      "execution_count": 0,
      "outputs": []
    },
    {
      "cell_type": "code",
      "metadata": {
        "id": "elJ21UgKaxft",
        "colab_type": "code",
        "outputId": "575ea55b-9b9c-4015-e4c2-79346d40b5b3",
        "colab": {
          "base_uri": "https://localhost:8080/",
          "height": 34
        }
      },
      "source": [
        "user59169 = ratingRDD.groupBy().max('user').first()['max(user)'] + 1\n",
        "print(\"New user id = {}\".format(user59169)) # 59168 users"
      ],
      "execution_count": 25,
      "outputs": [
        {
          "output_type": "stream",
          "text": [
            "New user id = 59169\n"
          ],
          "name": "stdout"
        }
      ]
    },
    {
      "cell_type": "code",
      "metadata": {
        "id": "xAIfZikDZIgC",
        "colab_type": "code",
        "colab": {}
      },
      "source": [
        "from pyspark.sql.functions import lower\n",
        "\n",
        "def find_movie_id(partial_title):\n",
        "    movieRDD.where(lower(col('title')).like(\"%{}%\".format(partial_title.lower())))\\\n",
        "    .show(truncate=False)"
      ],
      "execution_count": 0,
      "outputs": []
    },
    {
      "cell_type": "code",
      "metadata": {
        "id": "wcMyh5cZbtmE",
        "colab_type": "code",
        "outputId": "8c0871e6-0edf-4dcf-8ed9-e410f207b121",
        "colab": {
          "base_uri": "https://localhost:8080/",
          "height": 437
        }
      },
      "source": [
        "print(find_movie_id('one day'))\n",
        "print(find_movie_id('avengers'))"
      ],
      "execution_count": 0,
      "outputs": [
        {
          "output_type": "stream",
          "text": [
            "+-------+-------------------------+\n",
            "|item   |title                    |\n",
            "+-------+-------------------------+\n",
            "|1563738|One Day (2011)           |\n",
            "|1900946|One Day on Earth (2012)  |\n",
            "|5598320|One Day I'll Leave (2015)|\n",
            "|6168298|One Day (2016)           |\n",
            "|6214734|One Day (2017)           |\n",
            "+-------+-------------------------+\n",
            "\n",
            "None\n",
            "+-------+-------------------------------------+\n",
            "|item   |title                                |\n",
            "+-------+-------------------------------------+\n",
            "|118661 |The Avengers (1998)                  |\n",
            "|848228 |The Avengers (2012)                  |\n",
            "|2395427|Avengers: Age of Ultron (2015)       |\n",
            "|4154756|Avengers: Infinity War (2018)        |\n",
            "|4154796|Avengers: Endgame (2019)             |\n",
            "|4296026|Avengers Grimm (2015)                |\n",
            "|5262972|Avengers: Age of Ultron Parody (2015)|\n",
            "+-------+-------------------------------------+\n",
            "\n",
            "None\n"
          ],
          "name": "stdout"
        }
      ]
    },
    {
      "cell_type": "code",
      "metadata": {
        "id": "cbjRk9G3Tg6T",
        "colab_type": "code",
        "colab": {
          "base_uri": "https://localhost:8080/",
          "height": 122
        },
        "outputId": "5fe3537a-e050-43d1-afd0-9f7adf185ccc"
      },
      "source": [
        "find_movie_id('Crouching')"
      ],
      "execution_count": 74,
      "outputs": [
        {
          "output_type": "stream",
          "text": [
            "+-------+-------------------------------------------------------+\n",
            "|item   |title                                                  |\n",
            "+-------+-------------------------------------------------------+\n",
            "|2652118|Crouching Tiger, Hidden Dragon: Sword of Destiny (2016)|\n",
            "+-------+-------------------------------------------------------+\n",
            "\n"
          ],
          "name": "stdout"
        }
      ]
    },
    {
      "cell_type": "code",
      "metadata": {
        "id": "bvV5WYOcbSR_",
        "colab_type": "code",
        "outputId": "d518432c-57ad-4b68-e842-7abe0a20ff4c",
        "colab": {
          "base_uri": "https://localhost:8080/",
          "height": 244
        }
      },
      "source": [
        "from pyspark.sql import Row\n",
        "rating59169 = [\n",
        "    (118661, 1), # Avengers\n",
        "    (371746, 1),  # Iron Man 2008\n",
        "    #(397535, 6),  Memoirs of a Geisha\n",
        "    #(94625, 9),  Akira\n",
        "    (1563738, 9), # One day 2011\n",
        "    (800369, 1),  # Thor\n",
        "    #(1981115, 9),  Thor: The Dark World\n",
        "    #(3501632, 9),  Thor: Ragnarok\n",
        "    (120338, 9), # Titanic\n",
        "    (98635, 9), # When Harry Met Sally\n",
        "    (125439, 9), # Notting Hill\n",
        "    (332280, 9) # The Notebook\n",
        "]\n",
        "user59169DF = spark.createDataFrame([Row(user=user59169, item=r[0], rating=r[1]) for r in rating59169])\n",
        "user59169DF.show()"
      ],
      "execution_count": 61,
      "outputs": [
        {
          "output_type": "stream",
          "text": [
            "+-------+------+-----+\n",
            "|   item|rating| user|\n",
            "+-------+------+-----+\n",
            "| 118661|     1|59169|\n",
            "| 371746|     1|59169|\n",
            "|1563738|     9|59169|\n",
            "| 800369|     1|59169|\n",
            "| 120338|     9|59169|\n",
            "|  98635|     9|59169|\n",
            "| 125439|     9|59169|\n",
            "| 332280|     9|59169|\n",
            "+-------+------+-----+\n",
            "\n"
          ],
          "name": "stdout"
        }
      ]
    },
    {
      "cell_type": "code",
      "metadata": {
        "id": "l-g60A6zfuk0",
        "colab_type": "code",
        "outputId": "ba9414cb-e840-4e9e-a0c5-283e287aad2b",
        "colab": {
          "base_uri": "https://localhost:8080/",
          "height": 262
        }
      },
      "source": [
        "user59169DF = user59169DF.select('user','item','rating')\n",
        "user59169DF.show()\n",
        "type(user59169DF)"
      ],
      "execution_count": 62,
      "outputs": [
        {
          "output_type": "stream",
          "text": [
            "+-----+-------+------+\n",
            "| user|   item|rating|\n",
            "+-----+-------+------+\n",
            "|59169| 118661|     1|\n",
            "|59169| 371746|     1|\n",
            "|59169|1563738|     9|\n",
            "|59169| 800369|     1|\n",
            "|59169| 120338|     9|\n",
            "|59169|  98635|     9|\n",
            "|59169| 125439|     9|\n",
            "|59169| 332280|     9|\n",
            "+-----+-------+------+\n",
            "\n"
          ],
          "name": "stdout"
        },
        {
          "output_type": "execute_result",
          "data": {
            "text/plain": [
              "pyspark.sql.dataframe.DataFrame"
            ]
          },
          "metadata": {
            "tags": []
          },
          "execution_count": 62
        }
      ]
    },
    {
      "cell_type": "code",
      "metadata": {
        "id": "mpr4OvbKet1U",
        "colab_type": "code",
        "outputId": "38724935-3b71-45cb-b4b5-c8193a1b2c1c",
        "colab": {
          "base_uri": "https://localhost:8080/",
          "height": 34
        }
      },
      "source": [
        "ratingRDD2 = ratingRDD.union(user59169DF)\n",
        "ratingRDD2.groupBy().max('user').first()['max(user)'] + 1\n",
        "user59170 = ratingRDD2.groupBy().max('user').first()['max(user)'] + 1\n",
        "print(\"New user id = {}\".format(user59170)) # 59168 users"
      ],
      "execution_count": 63,
      "outputs": [
        {
          "output_type": "stream",
          "text": [
            "New user id = 59170\n"
          ],
          "name": "stdout"
        }
      ]
    },
    {
      "cell_type": "code",
      "metadata": {
        "id": "9hm5FYRpi8vv",
        "colab_type": "code",
        "outputId": "4cc57817-7a5a-4f5a-aa96-c1f569839357",
        "colab": {
          "base_uri": "https://localhost:8080/",
          "height": 52
        }
      },
      "source": [
        "best_rank = model.bestModel.rank\n",
        "best_iterations = model.bestModel._java_obj.parent().getMaxIter()\n",
        "%time new_model = ALS(rank=best_rank, maxIter=best_iterations, coldStartStrategy=\"drop\").fit(ratingRDD2)"
      ],
      "execution_count": 64,
      "outputs": [
        {
          "output_type": "stream",
          "text": [
            "CPU times: user 64.4 ms, sys: 11.8 ms, total: 76.3 ms\n",
            "Wall time: 11.2 s\n"
          ],
          "name": "stdout"
        }
      ]
    },
    {
      "cell_type": "code",
      "metadata": {
        "id": "KcR0Nk9MjaBy",
        "colab_type": "code",
        "outputId": "a3cfa12b-b52f-44f0-9d02-feb90c9d108b",
        "colab": {
          "base_uri": "https://localhost:8080/",
          "height": 314
        }
      },
      "source": [
        "unseen_movies = movieRDD.alias('m').join(user59169DF.alias('r'), col('m.item') == col('r.item'), how='left_anti').select('item')\n",
        "unseen_movies.show(10)\n",
        "print(\"Number of unseen movies = {}\".format(unseen_movies.count()))"
      ],
      "execution_count": 65,
      "outputs": [
        {
          "output_type": "stream",
          "text": [
            "+-----+\n",
            "| item|\n",
            "+-----+\n",
            "| 9968|\n",
            "|31762|\n",
            "|37098|\n",
            "|37884|\n",
            "|38108|\n",
            "|38510|\n",
            "|48280|\n",
            "|49967|\n",
            "|51418|\n",
            "|54415|\n",
            "+-----+\n",
            "only showing top 10 rows\n",
            "\n",
            "Number of unseen movies = 33992\n"
          ],
          "name": "stdout"
        }
      ]
    },
    {
      "cell_type": "code",
      "metadata": {
        "id": "1mUMWV6PlCg-",
        "colab_type": "code",
        "outputId": "e77f58eb-952a-4699-dee9-3dfdccb69abd",
        "colab": {
          "base_uri": "https://localhost:8080/",
          "height": 472
        }
      },
      "source": [
        "from pyspark.sql.functions import lit\n",
        "\n",
        "unseen_movies_user = unseen_movies.withColumn(\"user\", lit(user59169))\n",
        "unseen_movies_user.show()"
      ],
      "execution_count": 66,
      "outputs": [
        {
          "output_type": "stream",
          "text": [
            "+-----+-----+\n",
            "| item| user|\n",
            "+-----+-----+\n",
            "| 9968|59169|\n",
            "|31762|59169|\n",
            "|37098|59169|\n",
            "|37884|59169|\n",
            "|38108|59169|\n",
            "|38510|59169|\n",
            "|48280|59169|\n",
            "|49967|59169|\n",
            "|51418|59169|\n",
            "|54415|59169|\n",
            "|61135|59169|\n",
            "|61597|59169|\n",
            "|64757|59169|\n",
            "|64873|59169|\n",
            "|65462|59169|\n",
            "|65848|59169|\n",
            "|66070|59169|\n",
            "|66580|59169|\n",
            "|67148|59169|\n",
            "|69976|59169|\n",
            "+-----+-----+\n",
            "only showing top 20 rows\n",
            "\n"
          ],
          "name": "stdout"
        }
      ]
    },
    {
      "cell_type": "code",
      "metadata": {
        "id": "GMEIxnC1m1dX",
        "colab_type": "code",
        "outputId": "d176f481-e168-44fd-ba3c-50c7a30872d0",
        "colab": {
          "base_uri": "https://localhost:8080/",
          "height": 472
        }
      },
      "source": [
        "unseen_movies.show()"
      ],
      "execution_count": 67,
      "outputs": [
        {
          "output_type": "stream",
          "text": [
            "+-----+\n",
            "| item|\n",
            "+-----+\n",
            "| 9968|\n",
            "|31762|\n",
            "|37098|\n",
            "|37884|\n",
            "|38108|\n",
            "|38510|\n",
            "|48280|\n",
            "|49967|\n",
            "|51418|\n",
            "|54415|\n",
            "|61135|\n",
            "|61597|\n",
            "|64757|\n",
            "|64873|\n",
            "|65462|\n",
            "|65848|\n",
            "|66070|\n",
            "|66580|\n",
            "|67148|\n",
            "|69976|\n",
            "+-----+\n",
            "only showing top 20 rows\n",
            "\n"
          ],
          "name": "stdout"
        }
      ]
    },
    {
      "cell_type": "code",
      "metadata": {
        "id": "hodbXNvylJN-",
        "colab_type": "code",
        "outputId": "3d0dd0b7-7b28-4cb8-9bbc-9eb04bb60b63",
        "colab": {
          "base_uri": "https://localhost:8080/",
          "height": 297
        }
      },
      "source": [
        "spark.conf.set(\"spark.sql.crossJoin.enabled\", \"true\")\n",
        "unseen_ratings = new_model.transform(unseen_movies_user)\n",
        "unseen_ratings.show(10)"
      ],
      "execution_count": 68,
      "outputs": [
        {
          "output_type": "stream",
          "text": [
            "+-----+-----+----------+\n",
            "| item| user|prediction|\n",
            "+-----+-----+----------+\n",
            "|  833|59169| 3.4568524|\n",
            "| 4101|59169|  6.415948|\n",
            "| 7880|59169|  7.074723|\n",
            "|18051|59169| 11.068591|\n",
            "|19079|59169| 4.9347243|\n",
            "|25591|59169|  5.830441|\n",
            "|31951|59169| 6.6725464|\n",
            "|31983|59169| 3.4951837|\n",
            "|33717|59169| 7.4767804|\n",
            "|40335|59169| 10.288864|\n",
            "+-----+-----+----------+\n",
            "only showing top 10 rows\n",
            "\n"
          ],
          "name": "stdout"
        }
      ]
    },
    {
      "cell_type": "code",
      "metadata": {
        "id": "Dfb7b3MJs6r0",
        "colab_type": "code",
        "outputId": "e1de9b96-ae62-4b50-9153-86ca7b8fba26",
        "colab": {
          "base_uri": "https://localhost:8080/",
          "height": 297
        }
      },
      "source": [
        "unseen_ratings_titles = unseen_ratings.alias('r')\\\n",
        "                        .join(movieRDD.alias('m'), col('r.item') == col('m.item'))\\\n",
        "                        .select(['user', 'title', 'prediction'])\n",
        "\n",
        "\n",
        "unseen_ratings_titles.show(10, truncate=False) ##lmao exceeds max rating"
      ],
      "execution_count": 69,
      "outputs": [
        {
          "output_type": "stream",
          "text": [
            "+-----+-----------------------------------------------------+----------+\n",
            "|user |title                                                |prediction|\n",
            "+-----+-----------------------------------------------------+----------+\n",
            "|59169|Broken Blossoms or The Yellow Man and the Girl (1919)|7.352794  |\n",
            "|59169|Only Angels Have Wings (1939)                        |2.7933717 |\n",
            "|59169|The Mummy's Curse (1944)                             |3.9477797 |\n",
            "|59169|The Lost Weekend (1945)                              |11.016023 |\n",
            "|59169|The Spanish Main (1945)                              |3.8310013 |\n",
            "|59169|Enamorada (1946)                                     |7.104987  |\n",
            "|59169|Lady and the Tramp (1955)                            |6.545324  |\n",
            "|59169|X: The Unknown (1956)                                |6.3368883 |\n",
            "|59169|The Blob (1958)                                      |7.373987  |\n",
            "|59169|12 to the Moon (1960)                                |0.36766136|\n",
            "+-----+-----------------------------------------------------+----------+\n",
            "only showing top 10 rows\n",
            "\n"
          ],
          "name": "stdout"
        }
      ]
    },
    {
      "cell_type": "code",
      "metadata": {
        "id": "lSC9RDJ0tFsa",
        "colab_type": "code",
        "outputId": "444196ce-5dcb-4234-fec7-f7cda26da2ed",
        "colab": {
          "base_uri": "https://localhost:8080/",
          "height": 472
        }
      },
      "source": [
        "unseen_ratings_titles.orderBy(col('prediction').desc()).show(20)"
      ],
      "execution_count": 70,
      "outputs": [
        {
          "output_type": "stream",
          "text": [
            "+-----+--------------------+----------+\n",
            "| user|               title|prediction|\n",
            "+-----+--------------------+----------+\n",
            "|59169|Dante's Hell Anim...| 23.626059|\n",
            "|59169|   Loose Ends (1975)| 22.347765|\n",
            "|59169| King's Faith (2013)| 21.303312|\n",
            "|59169|   Warfighter (2018)| 21.024208|\n",
            "|59169|Goreyan Nu Daffa ...| 20.635515|\n",
            "|59169|Quiet Riot: Well ...| 20.536964|\n",
            "|59169|Mysterious & Ways...| 19.992966|\n",
            "|59169|God's Country (2012)| 19.992966|\n",
            "|59169|Scotland's Caddie...| 19.970066|\n",
            "|59169|La Buona Uscita (...| 19.916574|\n",
            "|59169|Meitantei Conan: ...| 19.242386|\n",
            "|59169|Dil Hai Tumhaara ...| 19.133154|\n",
            "|59169|She Could Be You ...| 19.115402|\n",
            "|59169|Welcome to Hard T...| 19.086384|\n",
            "|59169|The Congressman (...|  18.90662|\n",
            "|59169|Sacred Whispers (...|  18.85846|\n",
            "|59169|War Time Falcon (...|  18.70407|\n",
            "|59169|  Girl Asleep (2015)| 18.532167|\n",
            "|59169|The Kings of York...| 18.309933|\n",
            "|59169|On a Clear Day Yo...| 18.234306|\n",
            "+-----+--------------------+----------+\n",
            "only showing top 20 rows\n",
            "\n"
          ],
          "name": "stdout"
        }
      ]
    },
    {
      "cell_type": "code",
      "metadata": {
        "id": "aC_Rhfv4tBHR",
        "colab_type": "code",
        "outputId": "bfb2829e-17a9-4154-dedb-4e1c780d85e8",
        "colab": {
          "base_uri": "https://localhost:8080/",
          "height": 472
        }
      },
      "source": [
        "ratings_per_movie = ratingRDD.groupBy('item').count()\n",
        "enough_ratings = ratings_per_movie.filter(col('count') < 1000)\n",
        "enough_ratings.show()"
      ],
      "execution_count": 71,
      "outputs": [
        {
          "output_type": "stream",
          "text": [
            "+-------+-----+\n",
            "|   item|count|\n",
            "+-------+-----+\n",
            "|1972571|  377|\n",
            "|  97216|   71|\n",
            "|1360860|  132|\n",
            "| 796366|  321|\n",
            "|1477834|  742|\n",
            "|3967856|  284|\n",
            "|1640711|   16|\n",
            "| 803096|  510|\n",
            "|5177088|   68|\n",
            "|1600524|   34|\n",
            "|3174376|   84|\n",
            "|1772264|  103|\n",
            "|3658772|   45|\n",
            "|1131734|   48|\n",
            "| 462335|   93|\n",
            "|5112966|    1|\n",
            "|4005402|  187|\n",
            "|1259528|  211|\n",
            "|1243974|  137|\n",
            "|1028576|   13|\n",
            "+-------+-----+\n",
            "only showing top 20 rows\n",
            "\n"
          ],
          "name": "stdout"
        }
      ]
    },
    {
      "cell_type": "code",
      "metadata": {
        "id": "ye_rLyAttTHf",
        "colab_type": "code",
        "outputId": "b8d599c5-4f3a-4019-d4de-7e7c422474fe",
        "colab": {
          "base_uri": "https://localhost:8080/",
          "height": 472
        }
      },
      "source": [
        "training_100 = unseen_ratings.alias('r')\\\n",
        "    .join(enough_ratings.alias('e'), col('r.item') == col('e.item'), how='left_anti')\\\n",
        "    .select(['item', 'user', 'prediction']).orderBy(col('prediction').desc())\n",
        "training_100.show()"
      ],
      "execution_count": 72,
      "outputs": [
        {
          "output_type": "stream",
          "text": [
            "+-------+-----+----------+\n",
            "|   item| user|prediction|\n",
            "+-------+-----+----------+\n",
            "|1065073|59169| 10.969501|\n",
            "|3783958|59169| 10.527392|\n",
            "|5013056|59169|10.0908375|\n",
            "|1798709|59169| 10.078356|\n",
            "|7131622|59169| 9.7695875|\n",
            "|1817273|59169|  9.750026|\n",
            "|1245492|59169| 9.6377735|\n",
            "|4034228|59169|  9.607753|\n",
            "|2562232|59169|  9.557329|\n",
            "|1454468|59169|   9.45428|\n",
            "|2179136|59169|  9.380782|\n",
            "|2543164|59169|  9.279258|\n",
            "|2488496|59169|  8.966662|\n",
            "|1895587|59169|   8.82448|\n",
            "|2024544|59169| 8.7087345|\n",
            "| 359950|59169|  8.389807|\n",
            "|3890160|59169|  8.303661|\n",
            "|2278388|59169|  8.273398|\n",
            "| 470752|59169| 8.2387085|\n",
            "|2582802|59169| 8.1600275|\n",
            "+-------+-----+----------+\n",
            "only showing top 20 rows\n",
            "\n"
          ],
          "name": "stdout"
        }
      ]
    },
    {
      "cell_type": "code",
      "metadata": {
        "id": "3RV2OervtbDa",
        "colab_type": "code",
        "outputId": "13ae598b-d5ab-4f12-eac6-a06de2ab2678",
        "colab": {
          "base_uri": "https://localhost:8080/",
          "height": 1000
        }
      },
      "source": [
        "training_100.alias('t').join(movieRDD.alias('m'), col('t.item') == col('m.item')) \\\n",
        "    .select(['user', 'title', 'prediction']).orderBy(col('prediction').desc()).show(100, truncate=False)"
      ],
      "execution_count": 73,
      "outputs": [
        {
          "output_type": "stream",
          "text": [
            "+-----+------------------------------------------------+----------+\n",
            "|user |title                                           |prediction|\n",
            "+-----+------------------------------------------------+----------+\n",
            "|59169|Boyhood (2014)                                  |10.969501 |\n",
            "|59169|La La Land (2016)                               |10.527392 |\n",
            "|59169|Dunkirk (2017)                                  |10.0908375|\n",
            "|59169|Her (2013)                                      |10.078356 |\n",
            "|59169|Once Upon a Time ... in Hollywood (2019)        |9.7695875 |\n",
            "|59169|The Place Beyond the Pines (2012)               |9.750026  |\n",
            "|59169|This Is the End (2013)                          |9.6377735 |\n",
            "|59169|Manchester by the Sea (2016)                    |9.607753  |\n",
            "|59169|Birdman (2014)                                  |9.557329  |\n",
            "|59169|Gravity (2013)                                  |9.45428   |\n",
            "|59169|American Sniper (2014)                          |9.380782  |\n",
            "|59169|Arrival (2016)                                  |9.279258  |\n",
            "|59169|Star Wars: The Force Awakens (2015)             |8.966662  |\n",
            "|59169|Spotlight (2015)                                |8.82448   |\n",
            "|59169|12 Years a Slave (2013)                         |8.7087345 |\n",
            "|59169|The Secret Life of Walter Mitty (2013)          |8.389807  |\n",
            "|59169|Baby Driver (2017)                              |8.303661  |\n",
            "|59169|The Grand Budapest Hotel (2014)                 |8.273398  |\n",
            "|59169|Ex Machina (2015)                               |8.2387085 |\n",
            "|59169|Whiplash (2014)                                 |8.1600275 |\n",
            "|59169|Nightcrawler (2014)                             |8.097094  |\n",
            "|59169|It (2017)                                       |7.8982024 |\n",
            "|59169|Black Panther (2018)                            |7.876265  |\n",
            "|59169|Mad Max: Fury Road (2015)                       |7.8349204 |\n",
            "|59169|Dawn of the Planet of the Apes (2014)           |7.807057  |\n",
            "|59169|Django Unchained (2012)                         |7.7718997 |\n",
            "|59169|Gone Girl (2014)                                |7.767705  |\n",
            "|59169|Room (2015)                                     |7.724967  |\n",
            "|59169|Three Billboards Outside Ebbing, Missouri (2017)|7.711788  |\n",
            "|59169|Prisoners (2013)                                |7.543136  |\n",
            "|59169|Interstellar (2014)                             |7.535501  |\n",
            "|59169|Wonder Woman (2017)                             |7.52325   |\n",
            "|59169|Dallas Buyers Club (2013)                       |7.457629  |\n",
            "|59169|Deadpool (2016)                                 |7.3424177 |\n",
            "|59169|Silver Linings Playbook (2012)                  |7.2665133 |\n",
            "|59169|Avengers: Endgame (2019)                        |7.2373657 |\n",
            "|59169|The Wolf of Wall Street (2013)                  |7.2215834 |\n",
            "|59169|Inside Out (2015)                               |7.2142844 |\n",
            "|59169|Spider-Man: Homecoming (2017)                   |7.1492224 |\n",
            "|59169|American Hustle (2013)                          |7.093402  |\n",
            "|59169|Logan (2017)                                    |7.0732555 |\n",
            "|59169|Rush (2013)                                     |7.036792  |\n",
            "|59169|Captain Phillips (2013)                         |6.9058185 |\n",
            "|59169|The Revenant (2015)                             |6.8817797 |\n",
            "|59169|Guardians of the Galaxy (2014)                  |6.8810368 |\n",
            "|59169|Iron Man 3 (2013)                               |6.732972  |\n",
            "|59169|Split (2016)                                    |6.691862  |\n",
            "|59169|Get Out (2017)                                  |6.6755977 |\n",
            "|59169|The Imitation Game (2014)                       |6.6694    |\n",
            "|59169|Captain America: Civil War (2016)               |6.5002913 |\n",
            "|59169|Star Trek Into Darkness (2013)                  |6.4808626 |\n",
            "|59169|Elysium (2013)                                  |6.4763694 |\n",
            "|59169|Man of Steel (2013)                             |6.4740496 |\n",
            "|59169|The Hunger Games: Catching Fire (2013)          |6.4256234 |\n",
            "|59169|Argo (2012)                                     |6.4239    |\n",
            "|59169|Bridge of Spies (2015)                          |6.380873  |\n",
            "|59169|X-Men: Days of Future Past (2014)               |6.341346  |\n",
            "|59169|The Martian (2015)                              |6.3116703 |\n",
            "|59169|Edge of Tomorrow (2014)                         |6.2939606 |\n",
            "|59169|The Hateful Eight (2015)                        |6.2155285 |\n",
            "|59169|Doctor Strange (2016)                           |6.187791  |\n",
            "|59169|Avengers: Age of Ultron (2015)                  |6.103462  |\n",
            "|59169|Ant-Man (2015)                                  |6.056399  |\n",
            "|59169|Avengers: Infinity War (2018)                   |6.0276957 |\n",
            "|59169|Spectre (2015)                                  |5.993394  |\n",
            "|59169|Sully (2016)                                    |5.963217  |\n",
            "|59169|The Theory of Everything (2014)                 |5.9438076 |\n",
            "|59169|Lucy (2014)                                     |5.798912  |\n",
            "|59169|Godzilla (2014)                                 |5.78698   |\n",
            "|59169|Frozen (2013)                                   |5.7326517 |\n",
            "|59169|Suicide Squad (2016)                            |5.638396  |\n",
            "|59169|Pacific Rim (2013)                              |5.598261  |\n",
            "|59169|Captain America: The Winter Soldier (2014)      |5.405474  |\n",
            "|59169|Kingsman: The Secret Service (2014)             |5.38754   |\n",
            "|59169|Lone Survivor (2013)                            |5.2928987 |\n",
            "|59169|The Hobbit: The Desolation of Smaug (2013)      |5.27221   |\n",
            "|59169|The Conjuring (2013)                            |5.186595  |\n",
            "|59169|Hacksaw Ridge (2016)                            |5.184908  |\n",
            "|59169|Fury (2014)                                     |5.163298  |\n",
            "|59169|The Fault in Our Stars (2014)                   |5.0927634 |\n",
            "|59169|World War Z (2013)                              |4.9788923 |\n",
            "|59169|John Wick (2014)                                |4.8108344 |\n",
            "|59169|Despicable Me 2 (2013)                          |4.661579  |\n",
            "|59169|The Great Gatsby (2013)                         |4.660454  |\n",
            "|59169|We're the Millers (2013)                        |4.5971546 |\n",
            "|59169|Jurassic World (2015)                           |4.5640736 |\n",
            "|59169|Thor: The Dark World (2013)                     |4.392911  |\n",
            "|59169|Oblivion (2013)                                 |4.046077  |\n",
            "|59169|The Amazing Spider-Man 2 (2014)                 |3.6034527 |\n",
            "|59169|The Equalizer (2014)                            |3.5811958 |\n",
            "|59169|Furious 7 (2015)                                |3.4603848 |\n",
            "|59169|The Wolverine (2013)                            |3.4440536 |\n",
            "|59169|Now You See Me (2013)                           |3.22328   |\n",
            "|59169|The Hangover Part III (2013)                    |3.183624  |\n",
            "|59169|Fast & Furious 6 (2013)                         |2.8069785 |\n",
            "|59169|Non-Stop (2014)                                 |2.5456276 |\n",
            "|59169|Batman v Superman: Dawn of Justice (2016)       |1.8186969 |\n",
            "|59169|Olympus Has Fallen (2013)                       |1.3906602 |\n",
            "+-----+------------------------------------------------+----------+\n",
            "\n"
          ],
          "name": "stdout"
        }
      ]
    },
    {
      "cell_type": "code",
      "metadata": {
        "id": "a3eTNev1Bfv3",
        "colab_type": "code",
        "colab": {}
      },
      "source": [
        ""
      ],
      "execution_count": 0,
      "outputs": []
    }
  ]
}