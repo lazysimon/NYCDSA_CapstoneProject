{
  "nbformat": 4,
  "nbformat_minor": 0,
  "metadata": {
    "colab": {
      "name": "Untitled0.ipynb",
      "version": "0.3.2",
      "provenance": [],
      "include_colab_link": true
    },
    "kernelspec": {
      "name": "python3",
      "display_name": "Python 3"
    }
  },
  "cells": [
    {
      "cell_type": "markdown",
      "metadata": {
        "id": "view-in-github",
        "colab_type": "text"
      },
      "source": [
        "<a href=\"https://colab.research.google.com/github/lazysimon/NYCDSA_CapstoneProject/blob/master/movie_eda.ipynb\" target=\"_parent\"><img src=\"https://colab.research.google.com/assets/colab-badge.svg\" alt=\"Open In Colab\"/></a>"
      ]
    },
    {
      "cell_type": "code",
      "metadata": {
        "id": "t317SoAdhkYm",
        "colab_type": "code",
        "colab": {}
      },
      "source": [
        "import os\n",
        "import numpy as np\n",
        "import pandas as pd\n",
        "from urllib.request import urlopen\n",
        "from numpy import loadtxt"
      ],
      "execution_count": 0,
      "outputs": []
    },
    {
      "cell_type": "code",
      "metadata": {
        "id": "w6n_xdDLposr",
        "colab_type": "code",
        "colab": {}
      },
      "source": [
        "def read_the_dat(filepath):\n",
        "    with urlopen(filepath) as raw_data:\n",
        "        datfileL=pd.DataFrame(l.decode(\"utf-8\").rstrip().split('::') for l in raw_data)\n",
        "    return datfileL"
      ],
      "execution_count": 0,
      "outputs": []
    },
    {
      "cell_type": "code",
      "metadata": {
        "id": "Yac-rBF9prj2",
        "colab_type": "code",
        "colab": {}
      },
      "source": [
        "movie_fname = 'https://raw.githubusercontent.com/lazysimon/NYCDSA_CapstoneProject/master/latest/movies.dat'\n",
        "movie_df = read_the_dat(movie_fname)"
      ],
      "execution_count": 0,
      "outputs": []
    },
    {
      "cell_type": "code",
      "metadata": {
        "id": "v-8WxoS0srHq",
        "colab_type": "code",
        "colab": {}
      },
      "source": [
        "rating_fname = 'https://raw.githubusercontent.com/lazysimon/NYCDSA_CapstoneProject/master/latest/ratings.dat'\n",
        "rating_df = read_the_dat(rating_fname)\n",
        "rating_df.columns = ['userID', 'movieID', 'rating', 'timestamp']\n",
        "rating_df.head()"
      ],
      "execution_count": 0,
      "outputs": []
    },
    {
      "cell_type": "code",
      "metadata": {
        "id": "4_gtpfkQsCfS",
        "colab_type": "code",
        "colab": {}
      },
      "source": [
        "data = pd.DataFrame(raw_data)"
      ],
      "execution_count": 0,
      "outputs": []
    },
    {
      "cell_type": "code",
      "metadata": {
        "id": "87anCEzDtIDp",
        "colab_type": "code",
        "colab": {
          "base_uri": "https://localhost:8080/",
          "height": 69
        },
        "outputId": "e8ee5ec8-a690-4ad6-fd75-71d3a8c72ed5"
      },
      "source": [
        "data[0][0].decode(\"utf-8\").rstrip().split('::')"
      ],
      "execution_count": 42,
      "outputs": [
        {
          "output_type": "execute_result",
          "data": {
            "text/plain": [
              "['0000008',\n",
              " 'Edison Kinetoscopic Record of a Sneeze (1894)',\n",
              " 'Documentary|Short']"
            ]
          },
          "metadata": {
            "tags": []
          },
          "execution_count": 42
        }
      ]
    },
    {
      "cell_type": "code",
      "metadata": {
        "id": "OTS1CPgFtL6k",
        "colab_type": "code",
        "colab": {
          "base_uri": "https://localhost:8080/",
          "height": 204
        },
        "outputId": "afc367bd-f78a-41ba-84c9-cc23c756439f"
      },
      "source": [
        "rating_df.columns = ['userID', 'movieID', 'rating', 'timestamp']\n",
        "rating_df.head()\n",
        "#rating_df.columns"
      ],
      "execution_count": 52,
      "outputs": [
        {
          "output_type": "execute_result",
          "data": {
            "text/html": [
              "<div>\n",
              "<style scoped>\n",
              "    .dataframe tbody tr th:only-of-type {\n",
              "        vertical-align: middle;\n",
              "    }\n",
              "\n",
              "    .dataframe tbody tr th {\n",
              "        vertical-align: top;\n",
              "    }\n",
              "\n",
              "    .dataframe thead th {\n",
              "        text-align: right;\n",
              "    }\n",
              "</style>\n",
              "<table border=\"1\" class=\"dataframe\">\n",
              "  <thead>\n",
              "    <tr style=\"text-align: right;\">\n",
              "      <th></th>\n",
              "      <th>userID</th>\n",
              "      <th>movieID</th>\n",
              "      <th>rating</th>\n",
              "      <th>timestamp</th>\n",
              "    </tr>\n",
              "  </thead>\n",
              "  <tbody>\n",
              "    <tr>\n",
              "      <th>0</th>\n",
              "      <td>1</td>\n",
              "      <td>0111161</td>\n",
              "      <td>10</td>\n",
              "      <td>1373234211</td>\n",
              "    </tr>\n",
              "    <tr>\n",
              "      <th>1</th>\n",
              "      <td>1</td>\n",
              "      <td>0117060</td>\n",
              "      <td>7</td>\n",
              "      <td>1373415231</td>\n",
              "    </tr>\n",
              "    <tr>\n",
              "      <th>2</th>\n",
              "      <td>1</td>\n",
              "      <td>0120755</td>\n",
              "      <td>6</td>\n",
              "      <td>1373424360</td>\n",
              "    </tr>\n",
              "    <tr>\n",
              "      <th>3</th>\n",
              "      <td>1</td>\n",
              "      <td>0317919</td>\n",
              "      <td>6</td>\n",
              "      <td>1373495763</td>\n",
              "    </tr>\n",
              "    <tr>\n",
              "      <th>4</th>\n",
              "      <td>1</td>\n",
              "      <td>0454876</td>\n",
              "      <td>10</td>\n",
              "      <td>1373621125</td>\n",
              "    </tr>\n",
              "  </tbody>\n",
              "</table>\n",
              "</div>"
            ],
            "text/plain": [
              "  userID  movieID rating   timestamp\n",
              "0      1  0111161     10  1373234211\n",
              "1      1  0117060      7  1373415231\n",
              "2      1  0120755      6  1373424360\n",
              "3      1  0317919      6  1373495763\n",
              "4      1  0454876     10  1373621125"
            ]
          },
          "metadata": {
            "tags": []
          },
          "execution_count": 52
        }
      ]
    },
    {
      "cell_type": "code",
      "metadata": {
        "id": "4W6zPHAW7JCb",
        "colab_type": "code",
        "colab": {
          "base_uri": "https://localhost:8080/",
          "height": 204
        },
        "outputId": "6bb69091-a776-41e2-df14-0f127625f9d3"
      },
      "source": [
        "movie_df.head()"
      ],
      "execution_count": 53,
      "outputs": [
        {
          "output_type": "execute_result",
          "data": {
            "text/html": [
              "<div>\n",
              "<style scoped>\n",
              "    .dataframe tbody tr th:only-of-type {\n",
              "        vertical-align: middle;\n",
              "    }\n",
              "\n",
              "    .dataframe tbody tr th {\n",
              "        vertical-align: top;\n",
              "    }\n",
              "\n",
              "    .dataframe thead th {\n",
              "        text-align: right;\n",
              "    }\n",
              "</style>\n",
              "<table border=\"1\" class=\"dataframe\">\n",
              "  <thead>\n",
              "    <tr style=\"text-align: right;\">\n",
              "      <th></th>\n",
              "      <th>0</th>\n",
              "      <th>1</th>\n",
              "      <th>2</th>\n",
              "    </tr>\n",
              "  </thead>\n",
              "  <tbody>\n",
              "    <tr>\n",
              "      <th>0</th>\n",
              "      <td>0000008</td>\n",
              "      <td>Edison Kinetoscopic Record of a Sneeze (1894)</td>\n",
              "      <td>Documentary|Short</td>\n",
              "    </tr>\n",
              "    <tr>\n",
              "      <th>1</th>\n",
              "      <td>0000010</td>\n",
              "      <td>La sortie des usines Lumière (1895)</td>\n",
              "      <td>Documentary|Short</td>\n",
              "    </tr>\n",
              "    <tr>\n",
              "      <th>2</th>\n",
              "      <td>0000012</td>\n",
              "      <td>The Arrival of a Train (1896)</td>\n",
              "      <td>Documentary|Short</td>\n",
              "    </tr>\n",
              "    <tr>\n",
              "      <th>3</th>\n",
              "      <td>25</td>\n",
              "      <td>The Oxford and Cambridge University Boat Race ...</td>\n",
              "      <td></td>\n",
              "    </tr>\n",
              "    <tr>\n",
              "      <th>4</th>\n",
              "      <td>0000091</td>\n",
              "      <td>Le manoir du diable (1896)</td>\n",
              "      <td>Short|Horror</td>\n",
              "    </tr>\n",
              "  </tbody>\n",
              "</table>\n",
              "</div>"
            ],
            "text/plain": [
              "         0  ...                  2\n",
              "0  0000008  ...  Documentary|Short\n",
              "1  0000010  ...  Documentary|Short\n",
              "2  0000012  ...  Documentary|Short\n",
              "3       25  ...                   \n",
              "4  0000091  ...       Short|Horror\n",
              "\n",
              "[5 rows x 3 columns]"
            ]
          },
          "metadata": {
            "tags": []
          },
          "execution_count": 53
        }
      ]
    },
    {
      "cell_type": "code",
      "metadata": {
        "id": "kKVLqarxCvqO",
        "colab_type": "code",
        "colab": {}
      },
      "source": [
        ""
      ],
      "execution_count": 0,
      "outputs": []
    }
  ]
}